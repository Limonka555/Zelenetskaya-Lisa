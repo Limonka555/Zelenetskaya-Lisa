{
 "cells": [
  {
   "cell_type": "code",
   "execution_count": 1,
   "id": "54313dd2",
   "metadata": {},
   "outputs": [],
   "source": [
    "import pandas as pd\n",
    "import scipy.stats\n",
    "import numpy as np\n",
    "import seaborn as sns\n",
    "import scipy.stats\n",
    "import matplotlib.pyplot as plt\n",
    "%matplotlib inline"
   ]
  },
  {
   "cell_type": "markdown",
   "id": "76165ebd",
   "metadata": {},
   "source": [
    "# Загрузим базу данных и проведем её анализ"
   ]
  },
  {
   "cell_type": "code",
   "execution_count": 2,
   "id": "0d01dbb8",
   "metadata": {},
   "outputs": [
    {
     "data": {
      "text/html": [
       "<div>\n",
       "<style scoped>\n",
       "    .dataframe tbody tr th:only-of-type {\n",
       "        vertical-align: middle;\n",
       "    }\n",
       "\n",
       "    .dataframe tbody tr th {\n",
       "        vertical-align: top;\n",
       "    }\n",
       "\n",
       "    .dataframe thead th {\n",
       "        text-align: right;\n",
       "    }\n",
       "</style>\n",
       "<table border=\"1\" class=\"dataframe\">\n",
       "  <thead>\n",
       "    <tr style=\"text-align: right;\">\n",
       "      <th></th>\n",
       "      <th>name</th>\n",
       "      <th>rating</th>\n",
       "      <th>genre</th>\n",
       "      <th>year</th>\n",
       "      <th>released</th>\n",
       "      <th>score</th>\n",
       "      <th>votes</th>\n",
       "      <th>director</th>\n",
       "      <th>writer</th>\n",
       "      <th>star</th>\n",
       "      <th>country</th>\n",
       "      <th>budget</th>\n",
       "      <th>gross</th>\n",
       "      <th>company</th>\n",
       "      <th>runtime</th>\n",
       "    </tr>\n",
       "  </thead>\n",
       "  <tbody>\n",
       "    <tr>\n",
       "      <th>0</th>\n",
       "      <td>The Shining</td>\n",
       "      <td>R</td>\n",
       "      <td>Drama</td>\n",
       "      <td>1980</td>\n",
       "      <td>June 13, 1980 (United States)</td>\n",
       "      <td>8.4</td>\n",
       "      <td>927000.0</td>\n",
       "      <td>Stanley Kubrick</td>\n",
       "      <td>Stephen King</td>\n",
       "      <td>Jack Nicholson</td>\n",
       "      <td>United Kingdom</td>\n",
       "      <td>19000000.0</td>\n",
       "      <td>46998772.0</td>\n",
       "      <td>Warner Bros.</td>\n",
       "      <td>146.0</td>\n",
       "    </tr>\n",
       "    <tr>\n",
       "      <th>1</th>\n",
       "      <td>The Blue Lagoon</td>\n",
       "      <td>R</td>\n",
       "      <td>Adventure</td>\n",
       "      <td>1980</td>\n",
       "      <td>July 2, 1980 (United States)</td>\n",
       "      <td>5.8</td>\n",
       "      <td>65000.0</td>\n",
       "      <td>Randal Kleiser</td>\n",
       "      <td>Henry De Vere Stacpoole</td>\n",
       "      <td>Brooke Shields</td>\n",
       "      <td>United States</td>\n",
       "      <td>4500000.0</td>\n",
       "      <td>58853106.0</td>\n",
       "      <td>Columbia Pictures</td>\n",
       "      <td>104.0</td>\n",
       "    </tr>\n",
       "    <tr>\n",
       "      <th>2</th>\n",
       "      <td>Star Wars: Episode V - The Empire Strikes Back</td>\n",
       "      <td>PG</td>\n",
       "      <td>Action</td>\n",
       "      <td>1980</td>\n",
       "      <td>June 20, 1980 (United States)</td>\n",
       "      <td>8.7</td>\n",
       "      <td>1200000.0</td>\n",
       "      <td>Irvin Kershner</td>\n",
       "      <td>Leigh Brackett</td>\n",
       "      <td>Mark Hamill</td>\n",
       "      <td>United States</td>\n",
       "      <td>18000000.0</td>\n",
       "      <td>538375067.0</td>\n",
       "      <td>Lucasfilm</td>\n",
       "      <td>124.0</td>\n",
       "    </tr>\n",
       "    <tr>\n",
       "      <th>3</th>\n",
       "      <td>Airplane!</td>\n",
       "      <td>PG</td>\n",
       "      <td>Comedy</td>\n",
       "      <td>1980</td>\n",
       "      <td>July 2, 1980 (United States)</td>\n",
       "      <td>7.7</td>\n",
       "      <td>221000.0</td>\n",
       "      <td>Jim Abrahams</td>\n",
       "      <td>Jim Abrahams</td>\n",
       "      <td>Robert Hays</td>\n",
       "      <td>United States</td>\n",
       "      <td>3500000.0</td>\n",
       "      <td>83453539.0</td>\n",
       "      <td>Paramount Pictures</td>\n",
       "      <td>88.0</td>\n",
       "    </tr>\n",
       "    <tr>\n",
       "      <th>4</th>\n",
       "      <td>Caddyshack</td>\n",
       "      <td>R</td>\n",
       "      <td>Comedy</td>\n",
       "      <td>1980</td>\n",
       "      <td>July 25, 1980 (United States)</td>\n",
       "      <td>7.3</td>\n",
       "      <td>108000.0</td>\n",
       "      <td>Harold Ramis</td>\n",
       "      <td>Brian Doyle-Murray</td>\n",
       "      <td>Chevy Chase</td>\n",
       "      <td>United States</td>\n",
       "      <td>6000000.0</td>\n",
       "      <td>39846344.0</td>\n",
       "      <td>Orion Pictures</td>\n",
       "      <td>98.0</td>\n",
       "    </tr>\n",
       "    <tr>\n",
       "      <th>...</th>\n",
       "      <td>...</td>\n",
       "      <td>...</td>\n",
       "      <td>...</td>\n",
       "      <td>...</td>\n",
       "      <td>...</td>\n",
       "      <td>...</td>\n",
       "      <td>...</td>\n",
       "      <td>...</td>\n",
       "      <td>...</td>\n",
       "      <td>...</td>\n",
       "      <td>...</td>\n",
       "      <td>...</td>\n",
       "      <td>...</td>\n",
       "      <td>...</td>\n",
       "      <td>...</td>\n",
       "    </tr>\n",
       "    <tr>\n",
       "      <th>7663</th>\n",
       "      <td>More to Life</td>\n",
       "      <td>NaN</td>\n",
       "      <td>Drama</td>\n",
       "      <td>2020</td>\n",
       "      <td>October 23, 2020 (United States)</td>\n",
       "      <td>3.1</td>\n",
       "      <td>18.0</td>\n",
       "      <td>Joseph Ebanks</td>\n",
       "      <td>Joseph Ebanks</td>\n",
       "      <td>Shannon Bond</td>\n",
       "      <td>United States</td>\n",
       "      <td>7000.0</td>\n",
       "      <td>NaN</td>\n",
       "      <td>NaN</td>\n",
       "      <td>90.0</td>\n",
       "    </tr>\n",
       "    <tr>\n",
       "      <th>7664</th>\n",
       "      <td>Dream Round</td>\n",
       "      <td>NaN</td>\n",
       "      <td>Comedy</td>\n",
       "      <td>2020</td>\n",
       "      <td>February 7, 2020 (United States)</td>\n",
       "      <td>4.7</td>\n",
       "      <td>36.0</td>\n",
       "      <td>Dusty Dukatz</td>\n",
       "      <td>Lisa Huston</td>\n",
       "      <td>Michael Saquella</td>\n",
       "      <td>United States</td>\n",
       "      <td>NaN</td>\n",
       "      <td>NaN</td>\n",
       "      <td>Cactus Blue Entertainment</td>\n",
       "      <td>90.0</td>\n",
       "    </tr>\n",
       "    <tr>\n",
       "      <th>7665</th>\n",
       "      <td>Saving Mbango</td>\n",
       "      <td>NaN</td>\n",
       "      <td>Drama</td>\n",
       "      <td>2020</td>\n",
       "      <td>April 27, 2020 (Cameroon)</td>\n",
       "      <td>5.7</td>\n",
       "      <td>29.0</td>\n",
       "      <td>Nkanya Nkwai</td>\n",
       "      <td>Lynno Lovert</td>\n",
       "      <td>Onyama Laura</td>\n",
       "      <td>United States</td>\n",
       "      <td>58750.0</td>\n",
       "      <td>NaN</td>\n",
       "      <td>Embi Productions</td>\n",
       "      <td>NaN</td>\n",
       "    </tr>\n",
       "    <tr>\n",
       "      <th>7666</th>\n",
       "      <td>It's Just Us</td>\n",
       "      <td>NaN</td>\n",
       "      <td>Drama</td>\n",
       "      <td>2020</td>\n",
       "      <td>October 1, 2020 (United States)</td>\n",
       "      <td>NaN</td>\n",
       "      <td>NaN</td>\n",
       "      <td>James Randall</td>\n",
       "      <td>James Randall</td>\n",
       "      <td>Christina Roz</td>\n",
       "      <td>United States</td>\n",
       "      <td>15000.0</td>\n",
       "      <td>NaN</td>\n",
       "      <td>NaN</td>\n",
       "      <td>120.0</td>\n",
       "    </tr>\n",
       "    <tr>\n",
       "      <th>7667</th>\n",
       "      <td>Tee em el</td>\n",
       "      <td>NaN</td>\n",
       "      <td>Horror</td>\n",
       "      <td>2020</td>\n",
       "      <td>August 19, 2020 (United States)</td>\n",
       "      <td>5.7</td>\n",
       "      <td>7.0</td>\n",
       "      <td>Pereko Mosia</td>\n",
       "      <td>Pereko Mosia</td>\n",
       "      <td>Siyabonga Mabaso</td>\n",
       "      <td>South Africa</td>\n",
       "      <td>NaN</td>\n",
       "      <td>NaN</td>\n",
       "      <td>PK 65 Films</td>\n",
       "      <td>102.0</td>\n",
       "    </tr>\n",
       "  </tbody>\n",
       "</table>\n",
       "<p>7668 rows × 15 columns</p>\n",
       "</div>"
      ],
      "text/plain": [
       "                                                name rating      genre  year  \\\n",
       "0                                        The Shining      R      Drama  1980   \n",
       "1                                    The Blue Lagoon      R  Adventure  1980   \n",
       "2     Star Wars: Episode V - The Empire Strikes Back     PG     Action  1980   \n",
       "3                                          Airplane!     PG     Comedy  1980   \n",
       "4                                         Caddyshack      R     Comedy  1980   \n",
       "...                                              ...    ...        ...   ...   \n",
       "7663                                    More to Life    NaN      Drama  2020   \n",
       "7664                                     Dream Round    NaN     Comedy  2020   \n",
       "7665                                   Saving Mbango    NaN      Drama  2020   \n",
       "7666                                    It's Just Us    NaN      Drama  2020   \n",
       "7667                                       Tee em el    NaN     Horror  2020   \n",
       "\n",
       "                              released  score      votes         director  \\\n",
       "0        June 13, 1980 (United States)    8.4   927000.0  Stanley Kubrick   \n",
       "1         July 2, 1980 (United States)    5.8    65000.0   Randal Kleiser   \n",
       "2        June 20, 1980 (United States)    8.7  1200000.0   Irvin Kershner   \n",
       "3         July 2, 1980 (United States)    7.7   221000.0     Jim Abrahams   \n",
       "4        July 25, 1980 (United States)    7.3   108000.0     Harold Ramis   \n",
       "...                                ...    ...        ...              ...   \n",
       "7663  October 23, 2020 (United States)    3.1       18.0    Joseph Ebanks   \n",
       "7664  February 7, 2020 (United States)    4.7       36.0     Dusty Dukatz   \n",
       "7665         April 27, 2020 (Cameroon)    5.7       29.0     Nkanya Nkwai   \n",
       "7666   October 1, 2020 (United States)    NaN        NaN    James Randall   \n",
       "7667   August 19, 2020 (United States)    5.7        7.0     Pereko Mosia   \n",
       "\n",
       "                       writer              star         country      budget  \\\n",
       "0                Stephen King    Jack Nicholson  United Kingdom  19000000.0   \n",
       "1     Henry De Vere Stacpoole    Brooke Shields   United States   4500000.0   \n",
       "2              Leigh Brackett       Mark Hamill   United States  18000000.0   \n",
       "3                Jim Abrahams       Robert Hays   United States   3500000.0   \n",
       "4          Brian Doyle-Murray       Chevy Chase   United States   6000000.0   \n",
       "...                       ...               ...             ...         ...   \n",
       "7663            Joseph Ebanks      Shannon Bond   United States      7000.0   \n",
       "7664              Lisa Huston  Michael Saquella   United States         NaN   \n",
       "7665             Lynno Lovert      Onyama Laura   United States     58750.0   \n",
       "7666            James Randall     Christina Roz   United States     15000.0   \n",
       "7667             Pereko Mosia  Siyabonga Mabaso    South Africa         NaN   \n",
       "\n",
       "            gross                    company  runtime  \n",
       "0      46998772.0               Warner Bros.    146.0  \n",
       "1      58853106.0          Columbia Pictures    104.0  \n",
       "2     538375067.0                  Lucasfilm    124.0  \n",
       "3      83453539.0         Paramount Pictures     88.0  \n",
       "4      39846344.0             Orion Pictures     98.0  \n",
       "...           ...                        ...      ...  \n",
       "7663          NaN                        NaN     90.0  \n",
       "7664          NaN  Cactus Blue Entertainment     90.0  \n",
       "7665          NaN           Embi Productions      NaN  \n",
       "7666          NaN                        NaN    120.0  \n",
       "7667          NaN                PK 65 Films    102.0  \n",
       "\n",
       "[7668 rows x 15 columns]"
      ]
     },
     "execution_count": 2,
     "metadata": {},
     "output_type": "execute_result"
    }
   ],
   "source": [
    "df_movies = pd.read_csv('/Users/rtt/DataScience/Basa_films.csv', sep = ',')\n",
    "df_movies"
   ]
  },
  {
   "cell_type": "code",
   "execution_count": 3,
   "id": "ddac004d",
   "metadata": {},
   "outputs": [
    {
     "data": {
      "text/plain": [
       "Index(['name', 'rating', 'genre', 'year', 'released', 'score', 'votes',\n",
       "       'director', 'writer', 'star', 'country', 'budget', 'gross', 'company',\n",
       "       'runtime'],\n",
       "      dtype='object')"
      ]
     },
     "execution_count": 3,
     "metadata": {},
     "output_type": "execute_result"
    }
   ],
   "source": [
    "# какие колонки присутствуют в данной базе данных\n",
    "df_movies.columns"
   ]
  },
  {
   "cell_type": "code",
   "execution_count": 4,
   "id": "8d91fc55",
   "metadata": {
    "scrolled": true
   },
   "outputs": [
    {
     "name": "stdout",
     "output_type": "stream",
     "text": [
      "<class 'pandas.core.frame.DataFrame'>\n",
      "RangeIndex: 7668 entries, 0 to 7667\n",
      "Data columns (total 15 columns):\n",
      " #   Column    Non-Null Count  Dtype  \n",
      "---  ------    --------------  -----  \n",
      " 0   name      7668 non-null   object \n",
      " 1   rating    7591 non-null   object \n",
      " 2   genre     7668 non-null   object \n",
      " 3   year      7668 non-null   int64  \n",
      " 4   released  7666 non-null   object \n",
      " 5   score     7665 non-null   float64\n",
      " 6   votes     7665 non-null   float64\n",
      " 7   director  7668 non-null   object \n",
      " 8   writer    7665 non-null   object \n",
      " 9   star      7667 non-null   object \n",
      " 10  country   7665 non-null   object \n",
      " 11  budget    5497 non-null   float64\n",
      " 12  gross     7479 non-null   float64\n",
      " 13  company   7651 non-null   object \n",
      " 14  runtime   7664 non-null   float64\n",
      "dtypes: float64(5), int64(1), object(9)\n",
      "memory usage: 898.7+ KB\n"
     ]
    }
   ],
   "source": [
    "# выведем общую информацию\n",
    "df_movies.info()"
   ]
  },
  {
   "cell_type": "code",
   "execution_count": 5,
   "id": "2e66d8a1",
   "metadata": {},
   "outputs": [
    {
     "data": {
      "text/plain": [
       "array(['Stephen King', 'Henry De Vere Stacpoole', 'Leigh Brackett', ...,\n",
       "       'Lynno Lovert', 'James Randall', 'Pereko Mosia'], dtype=object)"
      ]
     },
     "execution_count": 5,
     "metadata": {},
     "output_type": "execute_result"
    }
   ],
   "source": [
    "#Null Count -это ненулевые значения в колонках для переменных, 5 колонок с вещественными числами, 9-с объектами, 1 - целые числа,\n",
    "#по книгам каких авторов снимают фильмы(writers), но нужны только уникальные значения, а не вся колонка с повторами\n",
    "\n",
    "df_movies['writer'].unique()"
   ]
  },
  {
   "cell_type": "code",
   "execution_count": 6,
   "id": "c2ecd23b",
   "metadata": {},
   "outputs": [
    {
     "data": {
      "text/plain": [
       "array(['R', 'PG', 'G', nan, 'Not Rated', 'NC-17', 'Approved', 'TV-PG',\n",
       "       'PG-13', 'Unrated', 'X', 'TV-MA', 'TV-14'], dtype=object)"
      ]
     },
     "execution_count": 6,
     "metadata": {},
     "output_type": "execute_result"
    }
   ],
   "source": [
    "# для того, чтобы структурировать фильмы по рейтингу узнаем какие рейтинге вообще есть в базе данных\n",
    "\n",
    "df_movies['rating'].unique()"
   ]
  },
  {
   "cell_type": "markdown",
   "id": "b67010c6",
   "metadata": {},
   "source": [
    "G (general audiences) - Нет возрастных ограничений, PG (parental guidance suggested)- желательно присутствие родителей, R (restricted, no children under 17 allowed without parents or adult guardians) - Лица, не достигшие 16-летнего возраста, допускаются на сеанс только в присутствии родителей, 'X' (no one under 17 admitted) -  На сеанс не допускаются лица, не достигшие 17-летнего возраста, NC-17 rating (which stands for no one 17 and under admitted) -Лицам до 18 лет просмотр запрещен, PG-13- Детям до 13 лет просмотр не желателен, TV-14- для детей после 14 лет, TV-MA - не подходят для просмотра молодыми людьми в возрасте до 17 или 18 лет, TV-PG- Эта программа содержит материалы, которые родители могут счесть неподходящими для младшие дети. Рекомендуется родительский контроль.\n",
    "\n",
    "В таблице не очень понятные рейтинги, поэтому сделаем функцию, которая будет ставить соответствующее значение в ячейке для буквы rating"
   ]
  },
  {
   "cell_type": "code",
   "execution_count": 7,
   "id": "d645c5fe",
   "metadata": {},
   "outputs": [],
   "source": [
    "def get_rating_cat(rating):\n",
    "    if rating == 'G':\n",
    "        return 'Нет возрастных ограничений'\n",
    "    elif rating == 'PG':\n",
    "        return 'Желательно присутствие родителей'\n",
    "    elif rating == 'R':\n",
    "        return 'Лица, не достигшие 16-летнего возраста, допускаются на сеанс только в присутствии родителей'\n",
    "    elif rating == 'X':\n",
    "        return 'На сеанс не допускаются лица, не достигшие 17-летнего возраста'\n",
    "    elif rating == 'NC-17':\n",
    "        return 'Лицам до 18 лет просмотр запрещен'\n",
    "    elif rating == 'PG-13':\n",
    "        return 'Детям до 13 лет просмотр не желателен'\n",
    "    elif rating == 'TV-14':\n",
    "        return 'для детей после 14 лет'\n",
    "    elif rating == 'TV-MA':\n",
    "        return 'не подходят для просмотра молодыми людьми в возрасте до 17 или 18 лет'\n",
    "    elif rating == 'TV-PG' or rating == 'PG':\n",
    "        return 'Рекомендуется родительский контроль'\n",
    "    elif rating == 'Approved':\n",
    "        return 'Одобрен'\n",
    "    else:\n",
    "        return rating"
   ]
  },
  {
   "cell_type": "code",
   "execution_count": 8,
   "id": "42eea555",
   "metadata": {
    "scrolled": true
   },
   "outputs": [
    {
     "data": {
      "text/html": [
       "<div>\n",
       "<style scoped>\n",
       "    .dataframe tbody tr th:only-of-type {\n",
       "        vertical-align: middle;\n",
       "    }\n",
       "\n",
       "    .dataframe tbody tr th {\n",
       "        vertical-align: top;\n",
       "    }\n",
       "\n",
       "    .dataframe thead th {\n",
       "        text-align: right;\n",
       "    }\n",
       "</style>\n",
       "<table border=\"1\" class=\"dataframe\">\n",
       "  <thead>\n",
       "    <tr style=\"text-align: right;\">\n",
       "      <th></th>\n",
       "      <th>name</th>\n",
       "      <th>rating</th>\n",
       "      <th>genre</th>\n",
       "      <th>year</th>\n",
       "      <th>released</th>\n",
       "      <th>score</th>\n",
       "      <th>votes</th>\n",
       "      <th>director</th>\n",
       "      <th>writer</th>\n",
       "      <th>star</th>\n",
       "      <th>country</th>\n",
       "      <th>budget</th>\n",
       "      <th>gross</th>\n",
       "      <th>company</th>\n",
       "      <th>runtime</th>\n",
       "      <th>Category rating</th>\n",
       "    </tr>\n",
       "  </thead>\n",
       "  <tbody>\n",
       "    <tr>\n",
       "      <th>0</th>\n",
       "      <td>The Shining</td>\n",
       "      <td>R</td>\n",
       "      <td>Drama</td>\n",
       "      <td>1980</td>\n",
       "      <td>June 13, 1980 (United States)</td>\n",
       "      <td>8.4</td>\n",
       "      <td>927000.0</td>\n",
       "      <td>Stanley Kubrick</td>\n",
       "      <td>Stephen King</td>\n",
       "      <td>Jack Nicholson</td>\n",
       "      <td>United Kingdom</td>\n",
       "      <td>19000000.0</td>\n",
       "      <td>46998772.0</td>\n",
       "      <td>Warner Bros.</td>\n",
       "      <td>146.0</td>\n",
       "      <td>Лица, не достигшие 16-летнего возраста, допуск...</td>\n",
       "    </tr>\n",
       "    <tr>\n",
       "      <th>1</th>\n",
       "      <td>The Blue Lagoon</td>\n",
       "      <td>R</td>\n",
       "      <td>Adventure</td>\n",
       "      <td>1980</td>\n",
       "      <td>July 2, 1980 (United States)</td>\n",
       "      <td>5.8</td>\n",
       "      <td>65000.0</td>\n",
       "      <td>Randal Kleiser</td>\n",
       "      <td>Henry De Vere Stacpoole</td>\n",
       "      <td>Brooke Shields</td>\n",
       "      <td>United States</td>\n",
       "      <td>4500000.0</td>\n",
       "      <td>58853106.0</td>\n",
       "      <td>Columbia Pictures</td>\n",
       "      <td>104.0</td>\n",
       "      <td>Лица, не достигшие 16-летнего возраста, допуск...</td>\n",
       "    </tr>\n",
       "    <tr>\n",
       "      <th>2</th>\n",
       "      <td>Star Wars: Episode V - The Empire Strikes Back</td>\n",
       "      <td>PG</td>\n",
       "      <td>Action</td>\n",
       "      <td>1980</td>\n",
       "      <td>June 20, 1980 (United States)</td>\n",
       "      <td>8.7</td>\n",
       "      <td>1200000.0</td>\n",
       "      <td>Irvin Kershner</td>\n",
       "      <td>Leigh Brackett</td>\n",
       "      <td>Mark Hamill</td>\n",
       "      <td>United States</td>\n",
       "      <td>18000000.0</td>\n",
       "      <td>538375067.0</td>\n",
       "      <td>Lucasfilm</td>\n",
       "      <td>124.0</td>\n",
       "      <td>Желательно присутствие родителей</td>\n",
       "    </tr>\n",
       "    <tr>\n",
       "      <th>3</th>\n",
       "      <td>Airplane!</td>\n",
       "      <td>PG</td>\n",
       "      <td>Comedy</td>\n",
       "      <td>1980</td>\n",
       "      <td>July 2, 1980 (United States)</td>\n",
       "      <td>7.7</td>\n",
       "      <td>221000.0</td>\n",
       "      <td>Jim Abrahams</td>\n",
       "      <td>Jim Abrahams</td>\n",
       "      <td>Robert Hays</td>\n",
       "      <td>United States</td>\n",
       "      <td>3500000.0</td>\n",
       "      <td>83453539.0</td>\n",
       "      <td>Paramount Pictures</td>\n",
       "      <td>88.0</td>\n",
       "      <td>Желательно присутствие родителей</td>\n",
       "    </tr>\n",
       "    <tr>\n",
       "      <th>4</th>\n",
       "      <td>Caddyshack</td>\n",
       "      <td>R</td>\n",
       "      <td>Comedy</td>\n",
       "      <td>1980</td>\n",
       "      <td>July 25, 1980 (United States)</td>\n",
       "      <td>7.3</td>\n",
       "      <td>108000.0</td>\n",
       "      <td>Harold Ramis</td>\n",
       "      <td>Brian Doyle-Murray</td>\n",
       "      <td>Chevy Chase</td>\n",
       "      <td>United States</td>\n",
       "      <td>6000000.0</td>\n",
       "      <td>39846344.0</td>\n",
       "      <td>Orion Pictures</td>\n",
       "      <td>98.0</td>\n",
       "      <td>Лица, не достигшие 16-летнего возраста, допуск...</td>\n",
       "    </tr>\n",
       "  </tbody>\n",
       "</table>\n",
       "</div>"
      ],
      "text/plain": [
       "                                             name rating      genre  year  \\\n",
       "0                                     The Shining      R      Drama  1980   \n",
       "1                                 The Blue Lagoon      R  Adventure  1980   \n",
       "2  Star Wars: Episode V - The Empire Strikes Back     PG     Action  1980   \n",
       "3                                       Airplane!     PG     Comedy  1980   \n",
       "4                                      Caddyshack      R     Comedy  1980   \n",
       "\n",
       "                        released  score      votes         director  \\\n",
       "0  June 13, 1980 (United States)    8.4   927000.0  Stanley Kubrick   \n",
       "1   July 2, 1980 (United States)    5.8    65000.0   Randal Kleiser   \n",
       "2  June 20, 1980 (United States)    8.7  1200000.0   Irvin Kershner   \n",
       "3   July 2, 1980 (United States)    7.7   221000.0     Jim Abrahams   \n",
       "4  July 25, 1980 (United States)    7.3   108000.0     Harold Ramis   \n",
       "\n",
       "                    writer            star         country      budget  \\\n",
       "0             Stephen King  Jack Nicholson  United Kingdom  19000000.0   \n",
       "1  Henry De Vere Stacpoole  Brooke Shields   United States   4500000.0   \n",
       "2           Leigh Brackett     Mark Hamill   United States  18000000.0   \n",
       "3             Jim Abrahams     Robert Hays   United States   3500000.0   \n",
       "4       Brian Doyle-Murray     Chevy Chase   United States   6000000.0   \n",
       "\n",
       "         gross             company  runtime  \\\n",
       "0   46998772.0        Warner Bros.    146.0   \n",
       "1   58853106.0   Columbia Pictures    104.0   \n",
       "2  538375067.0           Lucasfilm    124.0   \n",
       "3   83453539.0  Paramount Pictures     88.0   \n",
       "4   39846344.0      Orion Pictures     98.0   \n",
       "\n",
       "                                     Category rating  \n",
       "0  Лица, не достигшие 16-летнего возраста, допуск...  \n",
       "1  Лица, не достигшие 16-летнего возраста, допуск...  \n",
       "2                   Желательно присутствие родителей  \n",
       "3                   Желательно присутствие родителей  \n",
       "4  Лица, не достигшие 16-летнего возраста, допуск...  "
      ]
     },
     "execution_count": 8,
     "metadata": {},
     "output_type": "execute_result"
    }
   ],
   "source": [
    "df_movies['Category rating'] = df_movies['rating'].apply(get_rating_cat)\n",
    "df_movies.head()"
   ]
  },
  {
   "cell_type": "code",
   "execution_count": 9,
   "id": "73c709a0",
   "metadata": {},
   "outputs": [],
   "source": [
    "df_movies['Семейный просмотр'] = np.where((df_movies['Category rating'] == 'Желательно присутствие родителей'),'Для семейного просмотра', 'Не для семейного просмотра')"
   ]
  },
  {
   "cell_type": "code",
   "execution_count": 11,
   "id": "528beda4",
   "metadata": {},
   "outputs": [
    {
     "name": "stdout",
     "output_type": "stream",
     "text": [
      "<class 'pandas.core.frame.DataFrame'>\n",
      "RangeIndex: 7668 entries, 0 to 7667\n",
      "Data columns (total 17 columns):\n",
      " #   Column             Non-Null Count  Dtype   \n",
      "---  ------             --------------  -----   \n",
      " 0   name               7668 non-null   object  \n",
      " 1   rating             7591 non-null   object  \n",
      " 2   genre              7668 non-null   object  \n",
      " 3   year               7668 non-null   int64   \n",
      " 4   released           7666 non-null   object  \n",
      " 5   score              7665 non-null   float64 \n",
      " 6   votes              7665 non-null   float64 \n",
      " 7   director           7668 non-null   object  \n",
      " 8   writer             7665 non-null   object  \n",
      " 9   star               7667 non-null   object  \n",
      " 10  country            7665 non-null   object  \n",
      " 11  budget             5497 non-null   float64 \n",
      " 12  gross              7479 non-null   float64 \n",
      " 13  company            7651 non-null   object  \n",
      " 14  runtime            7664 non-null   float64 \n",
      " 15  Category rating    7591 non-null   category\n",
      " 16  Семейный просмотр  7668 non-null   object  \n",
      "dtypes: category(1), float64(5), int64(1), object(10)\n",
      "memory usage: 966.5+ KB\n"
     ]
    }
   ],
   "source": [
    "df_movies['Category rating'] = pd.Categorical(df_movies['Category rating'])# сделаем категориальные переменные в новой колонке Category rating\n",
    "\n",
    "df_movies.info()"
   ]
  },
  {
   "cell_type": "code",
   "execution_count": 12,
   "id": "364b7424",
   "metadata": {},
   "outputs": [
    {
     "data": {
      "text/plain": [
       "0       Лица, не достигшие 16-летнего возраста, допуск...\n",
       "1       Лица, не достигшие 16-летнего возраста, допуск...\n",
       "2                        Желательно присутствие родителей\n",
       "3                        Желательно присутствие родителей\n",
       "4       Лица, не достигшие 16-летнего возраста, допуск...\n",
       "                              ...                        \n",
       "7663                                                  NaN\n",
       "7664                                                  NaN\n",
       "7665                                                  NaN\n",
       "7666                                                  NaN\n",
       "7667                                                  NaN\n",
       "Name: Category rating, Length: 7668, dtype: category\n",
       "Categories (12, object): ['Not Rated', 'Unrated', 'Детям до 13 лет просмотр не желателен', 'Желательно присутствие родителей', ..., 'Одобрен', 'Рекомендуется родительский контроль', 'для детей после 14 лет', 'не подходят для просмотра молодыми людьми в в...]"
      ]
     },
     "execution_count": 12,
     "metadata": {},
     "output_type": "execute_result"
    }
   ],
   "source": [
    "df_movies['Category rating']"
   ]
  },
  {
   "cell_type": "markdown",
   "id": "c4ae2f50",
   "metadata": {},
   "source": [
    "У колонки есть 12 категорий наших фильмов Categories (12, object) и пустые значения(в дальнейшем их нужно будет заменить).\n",
    "Сохраним нашу БД в расширении pickle, чтобы не потерять никакие данные"
   ]
  },
  {
   "cell_type": "code",
   "execution_count": 13,
   "id": "17410cb5",
   "metadata": {},
   "outputs": [],
   "source": [
    "df_movies.to_pickle('/Users/rtt/DataScience/Goodfilms_for_family.pkl')"
   ]
  },
  {
   "cell_type": "code",
   "execution_count": 14,
   "id": "dbb423cf",
   "metadata": {},
   "outputs": [
    {
     "data": {
      "text/html": [
       "<div>\n",
       "<style scoped>\n",
       "    .dataframe tbody tr th:only-of-type {\n",
       "        vertical-align: middle;\n",
       "    }\n",
       "\n",
       "    .dataframe tbody tr th {\n",
       "        vertical-align: top;\n",
       "    }\n",
       "\n",
       "    .dataframe thead th {\n",
       "        text-align: right;\n",
       "    }\n",
       "</style>\n",
       "<table border=\"1\" class=\"dataframe\">\n",
       "  <thead>\n",
       "    <tr style=\"text-align: right;\">\n",
       "      <th></th>\n",
       "      <th>name</th>\n",
       "      <th>rating</th>\n",
       "      <th>genre</th>\n",
       "      <th>year</th>\n",
       "      <th>released</th>\n",
       "      <th>score</th>\n",
       "      <th>votes</th>\n",
       "      <th>director</th>\n",
       "      <th>writer</th>\n",
       "      <th>star</th>\n",
       "      <th>country</th>\n",
       "      <th>budget</th>\n",
       "      <th>gross</th>\n",
       "      <th>company</th>\n",
       "      <th>runtime</th>\n",
       "      <th>Category rating</th>\n",
       "      <th>Семейный просмотр</th>\n",
       "    </tr>\n",
       "  </thead>\n",
       "  <tbody>\n",
       "    <tr>\n",
       "      <th>0</th>\n",
       "      <td>The Shining</td>\n",
       "      <td>R</td>\n",
       "      <td>Drama</td>\n",
       "      <td>1980</td>\n",
       "      <td>June 13, 1980 (United States)</td>\n",
       "      <td>8.4</td>\n",
       "      <td>927000.0</td>\n",
       "      <td>Stanley Kubrick</td>\n",
       "      <td>Stephen King</td>\n",
       "      <td>Jack Nicholson</td>\n",
       "      <td>United Kingdom</td>\n",
       "      <td>19000000.0</td>\n",
       "      <td>46998772.0</td>\n",
       "      <td>Warner Bros.</td>\n",
       "      <td>146.0</td>\n",
       "      <td>Лица, не достигшие 16-летнего возраста, допуск...</td>\n",
       "      <td>Не для семейного просмотра</td>\n",
       "    </tr>\n",
       "    <tr>\n",
       "      <th>1</th>\n",
       "      <td>The Blue Lagoon</td>\n",
       "      <td>R</td>\n",
       "      <td>Adventure</td>\n",
       "      <td>1980</td>\n",
       "      <td>July 2, 1980 (United States)</td>\n",
       "      <td>5.8</td>\n",
       "      <td>65000.0</td>\n",
       "      <td>Randal Kleiser</td>\n",
       "      <td>Henry De Vere Stacpoole</td>\n",
       "      <td>Brooke Shields</td>\n",
       "      <td>United States</td>\n",
       "      <td>4500000.0</td>\n",
       "      <td>58853106.0</td>\n",
       "      <td>Columbia Pictures</td>\n",
       "      <td>104.0</td>\n",
       "      <td>Лица, не достигшие 16-летнего возраста, допуск...</td>\n",
       "      <td>Не для семейного просмотра</td>\n",
       "    </tr>\n",
       "    <tr>\n",
       "      <th>2</th>\n",
       "      <td>Star Wars: Episode V - The Empire Strikes Back</td>\n",
       "      <td>PG</td>\n",
       "      <td>Action</td>\n",
       "      <td>1980</td>\n",
       "      <td>June 20, 1980 (United States)</td>\n",
       "      <td>8.7</td>\n",
       "      <td>1200000.0</td>\n",
       "      <td>Irvin Kershner</td>\n",
       "      <td>Leigh Brackett</td>\n",
       "      <td>Mark Hamill</td>\n",
       "      <td>United States</td>\n",
       "      <td>18000000.0</td>\n",
       "      <td>538375067.0</td>\n",
       "      <td>Lucasfilm</td>\n",
       "      <td>124.0</td>\n",
       "      <td>Желательно присутствие родителей</td>\n",
       "      <td>Для семейного просмотра</td>\n",
       "    </tr>\n",
       "    <tr>\n",
       "      <th>3</th>\n",
       "      <td>Airplane!</td>\n",
       "      <td>PG</td>\n",
       "      <td>Comedy</td>\n",
       "      <td>1980</td>\n",
       "      <td>July 2, 1980 (United States)</td>\n",
       "      <td>7.7</td>\n",
       "      <td>221000.0</td>\n",
       "      <td>Jim Abrahams</td>\n",
       "      <td>Jim Abrahams</td>\n",
       "      <td>Robert Hays</td>\n",
       "      <td>United States</td>\n",
       "      <td>3500000.0</td>\n",
       "      <td>83453539.0</td>\n",
       "      <td>Paramount Pictures</td>\n",
       "      <td>88.0</td>\n",
       "      <td>Желательно присутствие родителей</td>\n",
       "      <td>Для семейного просмотра</td>\n",
       "    </tr>\n",
       "    <tr>\n",
       "      <th>4</th>\n",
       "      <td>Caddyshack</td>\n",
       "      <td>R</td>\n",
       "      <td>Comedy</td>\n",
       "      <td>1980</td>\n",
       "      <td>July 25, 1980 (United States)</td>\n",
       "      <td>7.3</td>\n",
       "      <td>108000.0</td>\n",
       "      <td>Harold Ramis</td>\n",
       "      <td>Brian Doyle-Murray</td>\n",
       "      <td>Chevy Chase</td>\n",
       "      <td>United States</td>\n",
       "      <td>6000000.0</td>\n",
       "      <td>39846344.0</td>\n",
       "      <td>Orion Pictures</td>\n",
       "      <td>98.0</td>\n",
       "      <td>Лица, не достигшие 16-летнего возраста, допуск...</td>\n",
       "      <td>Не для семейного просмотра</td>\n",
       "    </tr>\n",
       "  </tbody>\n",
       "</table>\n",
       "</div>"
      ],
      "text/plain": [
       "                                             name rating      genre  year  \\\n",
       "0                                     The Shining      R      Drama  1980   \n",
       "1                                 The Blue Lagoon      R  Adventure  1980   \n",
       "2  Star Wars: Episode V - The Empire Strikes Back     PG     Action  1980   \n",
       "3                                       Airplane!     PG     Comedy  1980   \n",
       "4                                      Caddyshack      R     Comedy  1980   \n",
       "\n",
       "                        released  score      votes         director  \\\n",
       "0  June 13, 1980 (United States)    8.4   927000.0  Stanley Kubrick   \n",
       "1   July 2, 1980 (United States)    5.8    65000.0   Randal Kleiser   \n",
       "2  June 20, 1980 (United States)    8.7  1200000.0   Irvin Kershner   \n",
       "3   July 2, 1980 (United States)    7.7   221000.0     Jim Abrahams   \n",
       "4  July 25, 1980 (United States)    7.3   108000.0     Harold Ramis   \n",
       "\n",
       "                    writer            star         country      budget  \\\n",
       "0             Stephen King  Jack Nicholson  United Kingdom  19000000.0   \n",
       "1  Henry De Vere Stacpoole  Brooke Shields   United States   4500000.0   \n",
       "2           Leigh Brackett     Mark Hamill   United States  18000000.0   \n",
       "3             Jim Abrahams     Robert Hays   United States   3500000.0   \n",
       "4       Brian Doyle-Murray     Chevy Chase   United States   6000000.0   \n",
       "\n",
       "         gross             company  runtime  \\\n",
       "0   46998772.0        Warner Bros.    146.0   \n",
       "1   58853106.0   Columbia Pictures    104.0   \n",
       "2  538375067.0           Lucasfilm    124.0   \n",
       "3   83453539.0  Paramount Pictures     88.0   \n",
       "4   39846344.0      Orion Pictures     98.0   \n",
       "\n",
       "                                     Category rating  \\\n",
       "0  Лица, не достигшие 16-летнего возраста, допуск...   \n",
       "1  Лица, не достигшие 16-летнего возраста, допуск...   \n",
       "2                   Желательно присутствие родителей   \n",
       "3                   Желательно присутствие родителей   \n",
       "4  Лица, не достигшие 16-летнего возраста, допуск...   \n",
       "\n",
       "            Семейный просмотр  \n",
       "0  Не для семейного просмотра  \n",
       "1  Не для семейного просмотра  \n",
       "2     Для семейного просмотра  \n",
       "3     Для семейного просмотра  \n",
       "4  Не для семейного просмотра  "
      ]
     },
     "execution_count": 14,
     "metadata": {},
     "output_type": "execute_result"
    }
   ],
   "source": [
    "df = pd.read_pickle('/Users/rtt/DataScience/Goodfilms_for_family.pkl')\n",
    "df.head()"
   ]
  },
  {
   "cell_type": "markdown",
   "id": "dcc289ef",
   "metadata": {},
   "source": [
    "Все колонки сохранены,построим частотную таблицу для данных колонки 'Category rating', чтобы выяснить сколько раз каждая категория встречается и что чаще снимается в зарубежном кинематографе"
   ]
  },
  {
   "cell_type": "code",
   "execution_count": 15,
   "id": "691ec559",
   "metadata": {},
   "outputs": [
    {
     "data": {
      "text/plain": [
       "Лица, не достигшие 16-летнего возраста, допускаются на сеанс только в присутствии родителей    3697\n",
       "Детям до 13 лет просмотр не желателен                                                          2112\n",
       "Желательно присутствие родителей                                                               1252\n",
       "Not Rated                                                                                       283\n",
       "Нет возрастных ограничений                                                                      153\n",
       "NaN                                                                                              77\n",
       "Unrated                                                                                          52\n",
       "Лицам до 18 лет просмотр запрещен                                                                23\n",
       "не подходят для просмотра молодыми людьми в возрасте до 17 или 18 лет                             9\n",
       "Рекомендуется родительский контроль                                                               5\n",
       "На сеанс не допускаются лица, не достигшие 17-летнего возраста                                    3\n",
       "Одобрен                                                                                           1\n",
       "для детей после 14 лет                                                                            1\n",
       "Name: Category rating, dtype: int64"
      ]
     },
     "execution_count": 15,
     "metadata": {},
     "output_type": "execute_result"
    }
   ],
   "source": [
    "df['Category rating'].value_counts(dropna = False)"
   ]
  },
  {
   "cell_type": "markdown",
   "id": "bddf5b8b",
   "metadata": {},
   "source": [
    "Сделаем вывод, что зарубежные фильмы снимаются в большинстве своем для взрослых лиц старше 16 лет и есть фильмы без рейтинга их (Not Rated) -283, пропущенные ячейки(NaN) -77, нет рейтинга (Unrated)- 52"
   ]
  },
  {
   "cell_type": "markdown",
   "id": "07ca63a8",
   "metadata": {},
   "source": [
    "Выясним, кто является самым популярным актером"
   ]
  },
  {
   "cell_type": "code",
   "execution_count": 16,
   "id": "a15ad5d7",
   "metadata": {},
   "outputs": [
    {
     "data": {
      "text/plain": [
       "Nicolas Cage         43\n",
       "Robert De Niro       41\n",
       "Tom Hanks            41\n",
       "Denzel Washington    37\n",
       "Bruce Willis         34\n",
       "                     ..\n",
       "Schuyler Fisk         1\n",
       "Liesel Matthews       1\n",
       "James Cromwell        1\n",
       "Suzanna Love          1\n",
       "Siyabonga Mabaso      1\n",
       "Name: star, Length: 2814, dtype: int64"
      ]
     },
     "execution_count": 16,
     "metadata": {},
     "output_type": "execute_result"
    }
   ],
   "source": [
    "df['star'].value_counts()"
   ]
  },
  {
   "cell_type": "markdown",
   "id": "a80bc3db",
   "metadata": {},
   "source": [
    "В фильмах самым востребованным актером является Николас Кейдж"
   ]
  },
  {
   "cell_type": "markdown",
   "id": "e64508f5",
   "metadata": {},
   "source": [
    "Выясним, сколько всего потратила каждая компания на съемки за все годы, представленные в БД"
   ]
  },
  {
   "cell_type": "code",
   "execution_count": 17,
   "id": "26f4a43f",
   "metadata": {},
   "outputs": [
    {
     "data": {
      "text/plain": [
       "budget\n",
       "3000.0                      Pirromount Pictures\n",
       "5000.0                             Notis Studio\n",
       "6000.0                          Next Wave Films\n",
       "7000.0                    Columbia PicturesERBP\n",
       "10000.0                                Blustarr\n",
       "                             ...               \n",
       "275000000.0       LucasfilmWalt Disney Pictures\n",
       "300000000.0    Walt Disney PicturesWarner Bros.\n",
       "317000000.0                Walt Disney Pictures\n",
       "321000000.0                      Marvel Studios\n",
       "356000000.0                      Marvel Studios\n",
       "Name: company, Length: 413, dtype: object"
      ]
     },
     "execution_count": 17,
     "metadata": {},
     "output_type": "execute_result"
    }
   ],
   "source": [
    "df.groupby('budget')['company'].sum()"
   ]
  },
  {
   "cell_type": "markdown",
   "id": "7eaab8ac",
   "metadata": {},
   "source": [
    "Выясним, сколько фильмов было снято в каждом году. "
   ]
  },
  {
   "cell_type": "code",
   "execution_count": 18,
   "id": "bce7ec29",
   "metadata": {},
   "outputs": [
    {
     "data": {
      "text/plain": [
       "year\n",
       "1980     92\n",
       "1981    113\n",
       "1982    126\n",
       "1983    144\n",
       "1984    168\n",
       "1985    200\n",
       "1986    200\n",
       "1987    200\n",
       "1988    200\n",
       "1989    200\n",
       "1990    200\n",
       "1991    200\n",
       "1992    200\n",
       "1993    200\n",
       "1994    200\n",
       "1995    200\n",
       "1996    200\n",
       "1997    200\n",
       "1998    200\n",
       "1999    200\n",
       "2000    200\n",
       "2001    200\n",
       "2002    200\n",
       "2003    200\n",
       "2004    200\n",
       "2005    200\n",
       "2006    200\n",
       "2007    200\n",
       "2008    200\n",
       "2009    200\n",
       "2010    200\n",
       "2011    200\n",
       "2012    200\n",
       "2013    200\n",
       "2014    200\n",
       "2015    200\n",
       "2016    200\n",
       "2017    200\n",
       "2018    200\n",
       "2019    200\n",
       "2020     25\n",
       "dtype: int64"
      ]
     },
     "execution_count": 18,
     "metadata": {},
     "output_type": "execute_result"
    }
   ],
   "source": [
    "df.groupby('year').size()"
   ]
  },
  {
   "cell_type": "markdown",
   "id": "49a65f9d",
   "metadata": {},
   "source": [
    "Можно увидеть что после 1984 года фильмо стали снимать около 200 штук ежегодно, и только в 2020 (год пандемии) есть просадка по кол-ву снятых фильмов"
   ]
  },
  {
   "cell_type": "markdown",
   "id": "abda3cfc",
   "metadata": {},
   "source": [
    "# Построим частотную визуализацию"
   ]
  },
  {
   "cell_type": "code",
   "execution_count": 19,
   "id": "aa9c7c2b",
   "metadata": {},
   "outputs": [
    {
     "data": {
      "text/plain": [
       "[<BarContainer object of 2 artists>]"
      ]
     },
     "execution_count": 19,
     "metadata": {},
     "output_type": "execute_result"
    },
    {
     "data": {
      "image/png": "[encoded data removed]",
      "text/plain": [
       "<Figure size 1440x720 with 1 Axes>"
      ]
     },
     "metadata": {
      "needs_background": "light"
     },
     "output_type": "display_data"
    }
   ],
   "source": [
    "fig, ax = plt.subplots(figsize = (20,10))\n",
    "plt.title('Кол-во фильмов для семейного просмотра/несемейного просмотра', fontsize = 20)\n",
    "sns.barplot(y = df['Семейный просмотр'].index, x = df['Семейный просмотр'].values, alpha = 1)\n",
    "ax.containers"
   ]
  },
  {
   "cell_type": "markdown",
   "id": "186aeec7",
   "metadata": {},
   "source": [
    "Из данного графика видно, что больше фильмов снимается не для семейного просмотра"
   ]
  },
  {
   "cell_type": "markdown",
   "id": "ccb68c34",
   "metadata": {},
   "source": [
    "Далее рассмотрим, какие компании вкладываются в развитией фильмов для семейных посиделок, и сколько они в год сняли подобных фильмов"
   ]
  },
  {
   "cell_type": "code",
   "execution_count": 20,
   "id": "52a1bde2",
   "metadata": {},
   "outputs": [
    {
     "data": {
      "text/plain": [
       "year  Семейный просмотр           company                  \n",
       "1980  Для семейного просмотра     Alive Enterprises                    0.0\n",
       "                                  Braun Entertainment Group            0.0\n",
       "                                  Brooksfilms                          0.0\n",
       "                                  Bryna Productions             12000000.0\n",
       "                                  C.A.T. Films                   5000000.0\n",
       "                                                                  ...     \n",
       "2020  Не для семейного просмотра  Prowess Pictures                     0.0\n",
       "                                  Pryor Entertainment                  0.0\n",
       "                                  Roxwell Films                        0.0\n",
       "                                  Universal Pictures             7000000.0\n",
       "                                  Warner Bros.                 205000000.0\n",
       "Name: budget, Length: 4931, dtype: float64"
      ]
     },
     "execution_count": 20,
     "metadata": {},
     "output_type": "execute_result"
    }
   ],
   "source": [
    "df.groupby(['year', 'Семейный просмотр', 'company'])['budget'].sum()"
   ]
  },
  {
   "cell_type": "markdown",
   "id": "e11d145f",
   "metadata": {},
   "source": [
    "По данным результатам видно, что в категории \"для семейного просмотра\" наибольшие средства в производство фильмов вкладывает компания Bryna Productions, а в категории \"не для семейного просмотра\" такой компанией является Warner Bros. Также можно отметить, что некоторые компании вообще не вкладываются в развитие данных направлений."
   ]
  },
  {
   "cell_type": "markdown",
   "id": "9be7b709",
   "metadata": {},
   "source": [
    "Визуально покажем распределение бюджета на количество фильмов. "
   ]
  },
  {
   "cell_type": "code",
   "execution_count": 21,
   "id": "238f93af",
   "metadata": {},
   "outputs": [
    {
     "data": {
      "text/plain": [
       "[<BarContainer object of 10 artists>]"
      ]
     },
     "execution_count": 21,
     "metadata": {},
     "output_type": "execute_result"
    },
    {
     "data": {
      "image/png": "[encoded data removed]",
      "text/plain": [
       "<Figure size 1440x720 with 1 Axes>"
      ]
     },
     "metadata": {
      "needs_background": "light"
     },
     "output_type": "display_data"
    }
   ],
   "source": [
    "fig, ax = plt.subplots(figsize = (20,10))\n",
    "plt.title('Кол-во фильмов снятых по определенному бюджету', fontsize = 20)\n",
    "# df['budget'].hist(bins= 10,color = colors)\n",
    "plt.hist(df['budget'], bins= 10, color = \"red\" )\n",
    "plt.xlabel('Бюджет фильмов')\n",
    "plt.ylabel('Кол-во фильмов')\n",
    "ax.containers"
   ]
  },
  {
   "cell_type": "markdown",
   "id": "679b4d0c",
   "metadata": {},
   "source": [
    "Проработаем со столбцом score и выясним среднее значение баллов(score) фильмов в нашей базе"
   ]
  },
  {
   "cell_type": "code",
   "execution_count": 22,
   "id": "e9c08ecc",
   "metadata": {},
   "outputs": [
    {
     "data": {
      "text/plain": [
       "6.390410958904098"
      ]
     },
     "execution_count": 22,
     "metadata": {},
     "output_type": "execute_result"
    }
   ],
   "source": [
    "df['score'].mean()"
   ]
  },
  {
   "cell_type": "markdown",
   "id": "57b3b88b",
   "metadata": {},
   "source": [
    "Определим среднее значение длительности фильмов в нашей базе"
   ]
  },
  {
   "cell_type": "code",
   "execution_count": 23,
   "id": "d2dbc6fe",
   "metadata": {},
   "outputs": [
    {
     "data": {
      "text/plain": [
       "107.2616127348643"
      ]
     },
     "execution_count": 23,
     "metadata": {},
     "output_type": "execute_result"
    }
   ],
   "source": [
    "df['runtime'].mean()"
   ]
  },
  {
   "cell_type": "markdown",
   "id": "a9eb90c1",
   "metadata": {},
   "source": [
    "Определим медианное значение баллов для фильмов"
   ]
  },
  {
   "cell_type": "code",
   "execution_count": 24,
   "id": "1d5fe2fa",
   "metadata": {},
   "outputs": [
    {
     "data": {
      "text/plain": [
       "6.5"
      ]
     },
     "execution_count": 24,
     "metadata": {},
     "output_type": "execute_result"
    }
   ],
   "source": [
    "df['score'].median()"
   ]
  },
  {
   "cell_type": "markdown",
   "id": "0d98a0fb",
   "metadata": {},
   "source": [
    "Определеим медианное значение длительности для фильмов"
   ]
  },
  {
   "cell_type": "code",
   "execution_count": 25,
   "id": "96782bd9",
   "metadata": {},
   "outputs": [
    {
     "data": {
      "text/plain": [
       "104.0"
      ]
     },
     "execution_count": 25,
     "metadata": {},
     "output_type": "execute_result"
    }
   ],
   "source": [
    "df['runtime'].median()"
   ]
  },
  {
   "cell_type": "markdown",
   "id": "c8319e4b",
   "metadata": {},
   "source": [
    "В среднем можно сказать, что кино, снятое в знаменитых кинокомпаниях, длится около 1 часа 40 минут, а средняя оценка у него составляет 6.5"
   ]
  },
  {
   "cell_type": "markdown",
   "id": "dfb5818b",
   "metadata": {},
   "source": [
    "Найдем наиболее часто встречающeеся значение score для фильмов"
   ]
  },
  {
   "cell_type": "code",
   "execution_count": 26,
   "id": "b41c38e7",
   "metadata": {},
   "outputs": [
    {
     "data": {
      "text/plain": [
       "0    6.6\n",
       "Name: score, dtype: float64"
      ]
     },
     "execution_count": 26,
     "metadata": {},
     "output_type": "execute_result"
    }
   ],
   "source": [
    "df['score'].mode()"
   ]
  },
  {
   "cell_type": "markdown",
   "id": "cbd9302b",
   "metadata": {},
   "source": [
    "Получим, что наиболее часто встречающееся значение в \"score\" -6.6"
   ]
  },
  {
   "cell_type": "markdown",
   "id": "89b0bd18",
   "metadata": {},
   "source": [
    "Построим гистограмму распределения длительности фильмов"
   ]
  },
  {
   "cell_type": "code",
   "execution_count": 27,
   "id": "1277c667",
   "metadata": {},
   "outputs": [
    {
     "data": {
      "text/plain": [
       "Text(0, 0.5, 'Количество фильмов')"
      ]
     },
     "execution_count": 27,
     "metadata": {},
     "output_type": "execute_result"
    },
    {
     "data": {
      "image/png": "[encoded data removed]",
      "text/plain": [
       "<Figure size 432x288 with 1 Axes>"
      ]
     },
     "metadata": {
      "needs_background": "light"
     },
     "output_type": "display_data"
    }
   ],
   "source": [
    "df['score'].hist(bins = 100, color = \"red\")\n",
    "plt.title('Распределение кол-ва фильмов по оценкам', fontsize = 20)\n",
    "plt.xlabel('Оценки')\n",
    "plt.ylabel('Количество фильмов')"
   ]
  },
  {
   "cell_type": "markdown",
   "id": "06b6a5f7",
   "metadata": {},
   "source": [
    "Из гистограммы мы видим подстверждение: средне арифметического значения оценки фильмов (чуть больше 350 фильмов имеют оценку 6.5 , крайние величины оценок -это 9 и 2)"
   ]
  },
  {
   "cell_type": "code",
   "execution_count": 28,
   "id": "26cc6130",
   "metadata": {
    "scrolled": true
   },
   "outputs": [
    {
     "data": {
      "text/html": [
       "<div>\n",
       "<style scoped>\n",
       "    .dataframe tbody tr th:only-of-type {\n",
       "        vertical-align: middle;\n",
       "    }\n",
       "\n",
       "    .dataframe tbody tr th {\n",
       "        vertical-align: top;\n",
       "    }\n",
       "\n",
       "    .dataframe thead th {\n",
       "        text-align: right;\n",
       "    }\n",
       "</style>\n",
       "<table border=\"1\" class=\"dataframe\">\n",
       "  <thead>\n",
       "    <tr style=\"text-align: right;\">\n",
       "      <th></th>\n",
       "      <th>year</th>\n",
       "      <th>score</th>\n",
       "      <th>votes</th>\n",
       "      <th>budget</th>\n",
       "      <th>gross</th>\n",
       "      <th>runtime</th>\n",
       "    </tr>\n",
       "  </thead>\n",
       "  <tbody>\n",
       "    <tr>\n",
       "      <th>count</th>\n",
       "      <td>7668.000000</td>\n",
       "      <td>7665.000000</td>\n",
       "      <td>7.665000e+03</td>\n",
       "      <td>5.497000e+03</td>\n",
       "      <td>7.479000e+03</td>\n",
       "      <td>7664.000000</td>\n",
       "    </tr>\n",
       "    <tr>\n",
       "      <th>mean</th>\n",
       "      <td>2000.405451</td>\n",
       "      <td>6.390411</td>\n",
       "      <td>8.810850e+04</td>\n",
       "      <td>3.558988e+07</td>\n",
       "      <td>7.850054e+07</td>\n",
       "      <td>107.261613</td>\n",
       "    </tr>\n",
       "    <tr>\n",
       "      <th>std</th>\n",
       "      <td>11.153508</td>\n",
       "      <td>0.968842</td>\n",
       "      <td>1.633238e+05</td>\n",
       "      <td>4.145730e+07</td>\n",
       "      <td>1.657251e+08</td>\n",
       "      <td>18.581247</td>\n",
       "    </tr>\n",
       "    <tr>\n",
       "      <th>min</th>\n",
       "      <td>1980.000000</td>\n",
       "      <td>1.900000</td>\n",
       "      <td>7.000000e+00</td>\n",
       "      <td>3.000000e+03</td>\n",
       "      <td>3.090000e+02</td>\n",
       "      <td>55.000000</td>\n",
       "    </tr>\n",
       "    <tr>\n",
       "      <th>25%</th>\n",
       "      <td>1991.000000</td>\n",
       "      <td>5.800000</td>\n",
       "      <td>9.100000e+03</td>\n",
       "      <td>1.000000e+07</td>\n",
       "      <td>4.532056e+06</td>\n",
       "      <td>95.000000</td>\n",
       "    </tr>\n",
       "    <tr>\n",
       "      <th>50%</th>\n",
       "      <td>2000.000000</td>\n",
       "      <td>6.500000</td>\n",
       "      <td>3.300000e+04</td>\n",
       "      <td>2.050000e+07</td>\n",
       "      <td>2.020576e+07</td>\n",
       "      <td>104.000000</td>\n",
       "    </tr>\n",
       "    <tr>\n",
       "      <th>75%</th>\n",
       "      <td>2010.000000</td>\n",
       "      <td>7.100000</td>\n",
       "      <td>9.300000e+04</td>\n",
       "      <td>4.500000e+07</td>\n",
       "      <td>7.601669e+07</td>\n",
       "      <td>116.000000</td>\n",
       "    </tr>\n",
       "    <tr>\n",
       "      <th>max</th>\n",
       "      <td>2020.000000</td>\n",
       "      <td>9.300000</td>\n",
       "      <td>2.400000e+06</td>\n",
       "      <td>3.560000e+08</td>\n",
       "      <td>2.847246e+09</td>\n",
       "      <td>366.000000</td>\n",
       "    </tr>\n",
       "  </tbody>\n",
       "</table>\n",
       "</div>"
      ],
      "text/plain": [
       "              year        score         votes        budget         gross  \\\n",
       "count  7668.000000  7665.000000  7.665000e+03  5.497000e+03  7.479000e+03   \n",
       "mean   2000.405451     6.390411  8.810850e+04  3.558988e+07  7.850054e+07   \n",
       "std      11.153508     0.968842  1.633238e+05  4.145730e+07  1.657251e+08   \n",
       "min    1980.000000     1.900000  7.000000e+00  3.000000e+03  3.090000e+02   \n",
       "25%    1991.000000     5.800000  9.100000e+03  1.000000e+07  4.532056e+06   \n",
       "50%    2000.000000     6.500000  3.300000e+04  2.050000e+07  2.020576e+07   \n",
       "75%    2010.000000     7.100000  9.300000e+04  4.500000e+07  7.601669e+07   \n",
       "max    2020.000000     9.300000  2.400000e+06  3.560000e+08  2.847246e+09   \n",
       "\n",
       "           runtime  \n",
       "count  7664.000000  \n",
       "mean    107.261613  \n",
       "std      18.581247  \n",
       "min      55.000000  \n",
       "25%      95.000000  \n",
       "50%     104.000000  \n",
       "75%     116.000000  \n",
       "max     366.000000  "
      ]
     },
     "execution_count": 28,
     "metadata": {},
     "output_type": "execute_result"
    }
   ],
   "source": [
    "df.describe()"
   ]
  },
  {
   "cell_type": "markdown",
   "id": "b43cb21f",
   "metadata": {},
   "source": [
    "Из данной таблицы мы можем посмотреть какое максимальное/минимальное значение чистой прибыли для фильмов было в БД, чистую прибыль максимальную/минимальную, максимальное/минимальное значение для баллов фильмов, год минимальный (1980)-где был снят первый фильм в нашей БД, максимальное значение(2020)-где был снят последний фильм для нашей БД, а максимальная длительность фильмов составляет около 366 минут, минимальная-55 минут, так же соотнести значение года и величину чистого дохода(gross) : 2000 год- 20 205 760 , а в 1980- 309 , 1991- 4 532 056-это помогает увидеть динамику увеличения дохода от фильмов"
   ]
  },
  {
   "cell_type": "markdown",
   "id": "100e8f40",
   "metadata": {},
   "source": [
    "Рассмотрим, сколько в среднем компании тратили бюджета на съемку фильмов в год"
   ]
  },
  {
   "cell_type": "code",
   "execution_count": 29,
   "id": "258c1d0c",
   "metadata": {},
   "outputs": [
    {
     "data": {
      "text/plain": [
       "year\n",
       "1980    1.210319e+07\n",
       "1981    1.043309e+07\n",
       "1982    1.130635e+07\n",
       "1983    1.004467e+07\n",
       "1984    1.226732e+07\n",
       "1985    1.245418e+07\n",
       "1986    1.252265e+07\n",
       "1987    1.280132e+07\n",
       "1988    1.301158e+07\n",
       "1989    1.499800e+07\n",
       "1990    1.834073e+07\n",
       "1991    1.955386e+07\n",
       "1992    1.976401e+07\n",
       "1993    1.864826e+07\n",
       "1994    2.519732e+07\n",
       "1995    2.550240e+07\n",
       "1996    2.878181e+07\n",
       "1997    3.504097e+07\n",
       "1998    3.665950e+07\n",
       "1999    4.111549e+07\n",
       "2000    3.889724e+07\n",
       "2001    3.883313e+07\n",
       "2002    3.662213e+07\n",
       "2003    4.149956e+07\n",
       "2004    4.428688e+07\n",
       "2005    4.229114e+07\n",
       "2006    4.363841e+07\n",
       "2007    4.500325e+07\n",
       "2008    4.352750e+07\n",
       "2009    4.399123e+07\n",
       "2010    4.666311e+07\n",
       "2011    4.917956e+07\n",
       "2012    4.771347e+07\n",
       "2013    5.032093e+07\n",
       "2014    4.573190e+07\n",
       "2015    4.668233e+07\n",
       "2016    5.526101e+07\n",
       "2017    5.571203e+07\n",
       "2018    4.904182e+07\n",
       "2019    5.740129e+07\n",
       "2020    5.753105e+07\n",
       "Name: budget, dtype: float64"
      ]
     },
     "execution_count": 29,
     "metadata": {},
     "output_type": "execute_result"
    }
   ],
   "source": [
    "df.groupby('year')['budget'].mean()"
   ]
  },
  {
   "cell_type": "markdown",
   "id": "602c2fc2",
   "metadata": {},
   "source": [
    "Проанализируем, какая была чистая прибыль в среднем у компаний в год"
   ]
  },
  {
   "cell_type": "code",
   "execution_count": 30,
   "id": "bb3e53fc",
   "metadata": {},
   "outputs": [
    {
     "data": {
      "text/plain": [
       "year\n",
       "1980    3.066256e+07\n",
       "1981    2.423139e+07\n",
       "1982    2.678639e+07\n",
       "1983    2.148441e+07\n",
       "1984    2.236134e+07\n",
       "1985    2.085598e+07\n",
       "1986    1.961028e+07\n",
       "1987    2.145444e+07\n",
       "1988    2.534233e+07\n",
       "1989    3.220768e+07\n",
       "1990    3.562427e+07\n",
       "1991    3.191210e+07\n",
       "1992    3.860088e+07\n",
       "1993    4.067656e+07\n",
       "1994    4.577235e+07\n",
       "1995    4.796094e+07\n",
       "1996    4.934436e+07\n",
       "1997    6.589083e+07\n",
       "1998    5.760837e+07\n",
       "1999    6.928020e+07\n",
       "2000    6.864352e+07\n",
       "2001    7.808813e+07\n",
       "2002    8.501718e+07\n",
       "2003    8.830966e+07\n",
       "2004    9.360874e+07\n",
       "2005    8.933305e+07\n",
       "2006    9.373905e+07\n",
       "2007    1.019184e+08\n",
       "2008    1.090561e+08\n",
       "2009    1.166934e+08\n",
       "2010    1.167000e+08\n",
       "2011    1.248125e+08\n",
       "2012    1.273810e+08\n",
       "2013    1.299792e+08\n",
       "2014    1.324574e+08\n",
       "2015    1.344021e+08\n",
       "2016    1.446942e+08\n",
       "2017    1.424262e+08\n",
       "2018    1.404264e+08\n",
       "2019    1.547941e+08\n",
       "2020    1.898866e+08\n",
       "Name: gross, dtype: float64"
      ]
     },
     "execution_count": 30,
     "metadata": {},
     "output_type": "execute_result"
    }
   ],
   "source": [
    "df.groupby('year')['gross'].mean()"
   ]
  },
  {
   "cell_type": "markdown",
   "id": "9349f010",
   "metadata": {},
   "source": [
    "Посмотрим, какая рейтинговая оценка в среднем была у компаний за год"
   ]
  },
  {
   "cell_type": "code",
   "execution_count": 31,
   "id": "7a1d6c87",
   "metadata": {},
   "outputs": [
    {
     "data": {
      "text/plain": [
       "year\n",
       "1980    6.304348\n",
       "1981    6.302655\n",
       "1982    6.292063\n",
       "1983    6.022917\n",
       "1984    6.186905\n",
       "1985    6.309500\n",
       "1986    6.152500\n",
       "1987    6.217000\n",
       "1988    6.280000\n",
       "1989    6.175500\n",
       "1990    6.331000\n",
       "1991    6.389500\n",
       "1992    6.412500\n",
       "1993    6.382000\n",
       "1994    6.313000\n",
       "1995    6.458000\n",
       "1996    6.240000\n",
       "1997    6.355500\n",
       "1998    6.458500\n",
       "1999    6.499500\n",
       "2000    6.358000\n",
       "2001    6.453000\n",
       "2002    6.359000\n",
       "2003    6.332500\n",
       "2004    6.515000\n",
       "2005    6.363000\n",
       "2006    6.463000\n",
       "2007    6.474000\n",
       "2008    6.388500\n",
       "2009    6.444500\n",
       "2010    6.458000\n",
       "2011    6.482500\n",
       "2012    6.473000\n",
       "2013    6.619000\n",
       "2014    6.590000\n",
       "2015    6.518500\n",
       "2016    6.623000\n",
       "2017    6.561500\n",
       "2018    6.486000\n",
       "2019    6.361000\n",
       "2020    5.972727\n",
       "Name: score, dtype: float64"
      ]
     },
     "execution_count": 31,
     "metadata": {},
     "output_type": "execute_result"
    }
   ],
   "source": [
    "df.groupby('year')['score'].mean()"
   ]
  },
  {
   "cell_type": "markdown",
   "id": "00a8177b",
   "metadata": {},
   "source": [
    "Из данных можно увидеть что соотношение бюджетов фильмов к  чистой прибыли не изменилось, и так и осталось на уровне 1 к 2 , а вот средняя оценка фильмов к 2020 снижается"
   ]
  },
  {
   "cell_type": "markdown",
   "id": "433422ad",
   "metadata": {},
   "source": [
    "Найдем значение медианы для не семейного и семейного просмотров по годам"
   ]
  },
  {
   "cell_type": "code",
   "execution_count": 32,
   "id": "af964b59",
   "metadata": {},
   "outputs": [
    {
     "data": {
      "text/plain": [
       "year  Семейный просмотр         \n",
       "1980  Для семейного просмотра        15298386.0\n",
       "      Не для семейного просмотра     15198912.0\n",
       "1981  Для семейного просмотра        16000000.0\n",
       "      Не для семейного просмотра     12376625.0\n",
       "1982  Для семейного просмотра        14000000.0\n",
       "                                       ...     \n",
       "2018  Не для семейного просмотра     31626386.0\n",
       "2019  Для семейного просмотра       119620872.5\n",
       "      Не для семейного просмотра     19636752.0\n",
       "2020  Для семейного просмотра       193719180.5\n",
       "      Не для семейного просмотра    166534027.0\n",
       "Name: gross, Length: 82, dtype: float64"
      ]
     },
     "execution_count": 32,
     "metadata": {},
     "output_type": "execute_result"
    }
   ],
   "source": [
    "df.groupby(['year', 'Семейный просмотр'])['gross'].median()"
   ]
  },
  {
   "cell_type": "markdown",
   "id": "f72c3029",
   "metadata": {},
   "source": [
    "Из полученных данных видно, что если смотреть значение чистой прибыли у компании по годам, то прибыль увеличилась по обоим типам просмотров, но в 2019 чистая прибыль фильмов не для семейного просмотра сильно просела и практически в 10 раз ниже,  чем у фильмов для семейного просмотра, так же чистая прибыль в 10 раз больше стала у кинокомпаний если сравнивать 2020 и 1980 года"
   ]
  },
  {
   "cell_type": "markdown",
   "id": "863214fe",
   "metadata": {},
   "source": [
    "Найдем медианные значения для прибыли по годам"
   ]
  },
  {
   "cell_type": "code",
   "execution_count": 33,
   "id": "1a947038",
   "metadata": {},
   "outputs": [
    {
     "name": "stdout",
     "output_type": "stream",
     "text": [
      "          median\n",
      "year            \n",
      "1980  15198912.0\n",
      "1981  14893933.5\n",
      "1982  10278575.0\n",
      "1983  10286449.0\n",
      "1984   8360204.0\n",
      "           median\n",
      "year             \n",
      "2016   48917728.5\n",
      "2017   36469869.0\n",
      "2018   36960410.0\n",
      "2019   27526995.0\n",
      "2020  166534027.0\n"
     ]
    }
   ],
   "source": [
    "print(df.groupby('year')['gross'].agg(['median'])[0:5])\n",
    "print(df.groupby('year')['gross'].agg(['median'])[36:])"
   ]
  },
  {
   "cell_type": "markdown",
   "id": "09c619b4",
   "metadata": {},
   "source": [
    "Из базы данных было видно, что существуют такие жанры фильмов: 'Thriller', 'Adventure','Comedy', 'Family', нужно отфильтровать сколько фильмов было снято в этом жанре и какие оценки они имели, построим диаграммы"
   ]
  },
  {
   "cell_type": "code",
   "execution_count": 34,
   "id": "77ad9eb6",
   "metadata": {},
   "outputs": [
    {
     "data": {
      "text/plain": [
       "Text(0, 0.5, 'Кол-во фильмов')"
      ]
     },
     "execution_count": 34,
     "metadata": {},
     "output_type": "execute_result"
    },
    {
     "data": {
      "image/png": "[encoded data removed]",
      "text/plain": [
       "<Figure size 432x288 with 1 Axes>"
      ]
     },
     "metadata": {
      "needs_background": "light"
     },
     "output_type": "display_data"
    }
   ],
   "source": [
    "t1 = df[df['genre'] == 'Thriller']\n",
    "t1['score'].hist(color = \"yellow\")\n",
    "plt.title('Количество фильмов снятых в жанре:\"Триллер\"', fontsize = 20)\n",
    "plt.xlabel('Оценки')\n",
    "plt.ylabel('Кол-во фильмов')"
   ]
  },
  {
   "cell_type": "code",
   "execution_count": 35,
   "id": "d6552441",
   "metadata": {},
   "outputs": [
    {
     "name": "stderr",
     "output_type": "stream",
     "text": [
      "C:\\Users\\rtt\\AppData\\Local\\Temp\\ipykernel_2676\\3670493092.py:1: SettingWithCopyWarning: \n",
      "A value is trying to be set on a copy of a slice from a DataFrame.\n",
      "Try using .loc[row_indexer,col_indexer] = value instead\n",
      "\n",
      "See the caveats in the documentation: https://pandas.pydata.org/pandas-docs/stable/user_guide/indexing.html#returning-a-view-versus-a-copy\n",
      "  t1['z-score']=scipy.stats.zscore(t1['score'])\n"
     ]
    }
   ],
   "source": [
    "t1['z-score']=scipy.stats.zscore(t1['score'])"
   ]
  },
  {
   "cell_type": "code",
   "execution_count": 36,
   "id": "583929dc",
   "metadata": {},
   "outputs": [
    {
     "data": {
      "text/html": [
       "<div>\n",
       "<style scoped>\n",
       "    .dataframe tbody tr th:only-of-type {\n",
       "        vertical-align: middle;\n",
       "    }\n",
       "\n",
       "    .dataframe tbody tr th {\n",
       "        vertical-align: top;\n",
       "    }\n",
       "\n",
       "    .dataframe thead th {\n",
       "        text-align: right;\n",
       "    }\n",
       "</style>\n",
       "<table border=\"1\" class=\"dataframe\">\n",
       "  <thead>\n",
       "    <tr style=\"text-align: right;\">\n",
       "      <th></th>\n",
       "      <th>name</th>\n",
       "      <th>rating</th>\n",
       "      <th>genre</th>\n",
       "      <th>year</th>\n",
       "      <th>released</th>\n",
       "      <th>score</th>\n",
       "      <th>votes</th>\n",
       "      <th>director</th>\n",
       "      <th>writer</th>\n",
       "      <th>star</th>\n",
       "      <th>country</th>\n",
       "      <th>budget</th>\n",
       "      <th>gross</th>\n",
       "      <th>company</th>\n",
       "      <th>runtime</th>\n",
       "      <th>Category rating</th>\n",
       "      <th>Семейный просмотр</th>\n",
       "      <th>z-score</th>\n",
       "    </tr>\n",
       "  </thead>\n",
       "  <tbody>\n",
       "    <tr>\n",
       "      <th>262</th>\n",
       "      <td>The Seduction</td>\n",
       "      <td>R</td>\n",
       "      <td>Thriller</td>\n",
       "      <td>1982</td>\n",
       "      <td>January 29, 1982 (United States)</td>\n",
       "      <td>4.9</td>\n",
       "      <td>1100.0</td>\n",
       "      <td>David Schmoeller</td>\n",
       "      <td>David Schmoeller</td>\n",
       "      <td>Morgan Fairchild</td>\n",
       "      <td>United States</td>\n",
       "      <td>NaN</td>\n",
       "      <td>11378339.0</td>\n",
       "      <td>The Romantic Venture</td>\n",
       "      <td>104.0</td>\n",
       "      <td>Лица, не достигшие 16-летнего возраста, допуск...</td>\n",
       "      <td>Не для семейного просмотра</td>\n",
       "      <td>-1.257212</td>\n",
       "    </tr>\n",
       "    <tr>\n",
       "      <th>430</th>\n",
       "      <td>The Lords of Discipline</td>\n",
       "      <td>R</td>\n",
       "      <td>Thriller</td>\n",
       "      <td>1983</td>\n",
       "      <td>February 18, 1983 (United States)</td>\n",
       "      <td>6.6</td>\n",
       "      <td>2600.0</td>\n",
       "      <td>Franc Roddam</td>\n",
       "      <td>Pat Conroy</td>\n",
       "      <td>David Keith</td>\n",
       "      <td>United States</td>\n",
       "      <td>NaN</td>\n",
       "      <td>11787127.0</td>\n",
       "      <td>Paramount Pictures</td>\n",
       "      <td>102.0</td>\n",
       "      <td>Лица, не достигшие 16-летнего возраста, допуск...</td>\n",
       "      <td>Не для семейного просмотра</td>\n",
       "      <td>0.853663</td>\n",
       "    </tr>\n",
       "    <tr>\n",
       "      <th>470</th>\n",
       "      <td>Cross Country</td>\n",
       "      <td>R</td>\n",
       "      <td>Thriller</td>\n",
       "      <td>1983</td>\n",
       "      <td>November 18, 1983 (United States)</td>\n",
       "      <td>5.4</td>\n",
       "      <td>182.0</td>\n",
       "      <td>Paul Lynch</td>\n",
       "      <td>Herbert Kastle</td>\n",
       "      <td>Richard Beymer</td>\n",
       "      <td>Canada</td>\n",
       "      <td>2500000.0</td>\n",
       "      <td>NaN</td>\n",
       "      <td>Filmline Productions</td>\n",
       "      <td>95.0</td>\n",
       "      <td>Лица, не достигшие 16-летнего возраста, допуск...</td>\n",
       "      <td>Не для семейного просмотра</td>\n",
       "      <td>-0.636367</td>\n",
       "    </tr>\n",
       "    <tr>\n",
       "      <th>754</th>\n",
       "      <td>Subway</td>\n",
       "      <td>R</td>\n",
       "      <td>Thriller</td>\n",
       "      <td>1985</td>\n",
       "      <td>November 6, 1985 (United States)</td>\n",
       "      <td>6.6</td>\n",
       "      <td>14000.0</td>\n",
       "      <td>Luc Besson</td>\n",
       "      <td>Luc Besson</td>\n",
       "      <td>Christopher Lambert</td>\n",
       "      <td>France</td>\n",
       "      <td>NaN</td>\n",
       "      <td>390659.0</td>\n",
       "      <td>Les Films du Loup</td>\n",
       "      <td>104.0</td>\n",
       "      <td>Лица, не достигшие 16-летнего возраста, допуск...</td>\n",
       "      <td>Не для семейного просмотра</td>\n",
       "      <td>0.853663</td>\n",
       "    </tr>\n",
       "    <tr>\n",
       "      <th>807</th>\n",
       "      <td>Defense of the Realm</td>\n",
       "      <td>PG</td>\n",
       "      <td>Thriller</td>\n",
       "      <td>1985</td>\n",
       "      <td>November 21, 1986 (United States)</td>\n",
       "      <td>6.5</td>\n",
       "      <td>2100.0</td>\n",
       "      <td>David Drury</td>\n",
       "      <td>Martin Stellman</td>\n",
       "      <td>Gabriel Byrne</td>\n",
       "      <td>United Kingdom</td>\n",
       "      <td>NaN</td>\n",
       "      <td>750000.0</td>\n",
       "      <td>The Rank Organisation</td>\n",
       "      <td>96.0</td>\n",
       "      <td>Желательно присутствие родителей</td>\n",
       "      <td>Для семейного просмотра</td>\n",
       "      <td>0.729494</td>\n",
       "    </tr>\n",
       "  </tbody>\n",
       "</table>\n",
       "</div>"
      ],
      "text/plain": [
       "                        name rating     genre  year  \\\n",
       "262            The Seduction      R  Thriller  1982   \n",
       "430  The Lords of Discipline      R  Thriller  1983   \n",
       "470            Cross Country      R  Thriller  1983   \n",
       "754                   Subway      R  Thriller  1985   \n",
       "807     Defense of the Realm     PG  Thriller  1985   \n",
       "\n",
       "                              released  score    votes          director  \\\n",
       "262   January 29, 1982 (United States)    4.9   1100.0  David Schmoeller   \n",
       "430  February 18, 1983 (United States)    6.6   2600.0      Franc Roddam   \n",
       "470  November 18, 1983 (United States)    5.4    182.0        Paul Lynch   \n",
       "754   November 6, 1985 (United States)    6.6  14000.0        Luc Besson   \n",
       "807  November 21, 1986 (United States)    6.5   2100.0       David Drury   \n",
       "\n",
       "               writer                 star         country     budget  \\\n",
       "262  David Schmoeller     Morgan Fairchild   United States        NaN   \n",
       "430        Pat Conroy          David Keith   United States        NaN   \n",
       "470    Herbert Kastle       Richard Beymer          Canada  2500000.0   \n",
       "754        Luc Besson  Christopher Lambert          France        NaN   \n",
       "807   Martin Stellman        Gabriel Byrne  United Kingdom        NaN   \n",
       "\n",
       "          gross                company  runtime  \\\n",
       "262  11378339.0   The Romantic Venture    104.0   \n",
       "430  11787127.0     Paramount Pictures    102.0   \n",
       "470         NaN   Filmline Productions     95.0   \n",
       "754    390659.0      Les Films du Loup    104.0   \n",
       "807    750000.0  The Rank Organisation     96.0   \n",
       "\n",
       "                                       Category rating  \\\n",
       "262  Лица, не достигшие 16-летнего возраста, допуск...   \n",
       "430  Лица, не достигшие 16-летнего возраста, допуск...   \n",
       "470  Лица, не достигшие 16-летнего возраста, допуск...   \n",
       "754  Лица, не достигшие 16-летнего возраста, допуск...   \n",
       "807                   Желательно присутствие родителей   \n",
       "\n",
       "              Семейный просмотр   z-score  \n",
       "262  Не для семейного просмотра -1.257212  \n",
       "430  Не для семейного просмотра  0.853663  \n",
       "470  Не для семейного просмотра -0.636367  \n",
       "754  Не для семейного просмотра  0.853663  \n",
       "807     Для семейного просмотра  0.729494  "
      ]
     },
     "execution_count": 36,
     "metadata": {},
     "output_type": "execute_result"
    }
   ],
   "source": [
    "t1.head()"
   ]
  },
  {
   "cell_type": "code",
   "execution_count": 37,
   "id": "3bb4bb42",
   "metadata": {},
   "outputs": [
    {
     "data": {
      "text/plain": [
       "Text(0, 0.5, 'Кол-во фильмов')"
      ]
     },
     "execution_count": 37,
     "metadata": {},
     "output_type": "execute_result"
    },
    {
     "data": {
      "image/png": "[encoded data removed]",
      "text/plain": [
       "<Figure size 432x288 with 1 Axes>"
      ]
     },
     "metadata": {
      "needs_background": "light"
     },
     "output_type": "display_data"
    }
   ],
   "source": [
    "t2 = df[df['genre'] == 'Adventure']\n",
    "t2['score'].hist(color = \"green\")\n",
    "plt.title('Количество фильмов снятых в жанре:\"Приключения\"', fontsize = 20)\n",
    "plt.xlabel('Оценки')\n",
    "plt.ylabel('Кол-во фильмов')"
   ]
  },
  {
   "cell_type": "code",
   "execution_count": 38,
   "id": "c832e68a",
   "metadata": {},
   "outputs": [
    {
     "name": "stderr",
     "output_type": "stream",
     "text": [
      "C:\\Users\\rtt\\AppData\\Local\\Temp\\ipykernel_2676\\3786348380.py:1: SettingWithCopyWarning: \n",
      "A value is trying to be set on a copy of a slice from a DataFrame.\n",
      "Try using .loc[row_indexer,col_indexer] = value instead\n",
      "\n",
      "See the caveats in the documentation: https://pandas.pydata.org/pandas-docs/stable/user_guide/indexing.html#returning-a-view-versus-a-copy\n",
      "  t2['z-score']=scipy.stats.zscore(t2['score'])\n"
     ]
    }
   ],
   "source": [
    "t2['z-score']=scipy.stats.zscore(t2['score'])"
   ]
  },
  {
   "cell_type": "code",
   "execution_count": 39,
   "id": "6296a3d1",
   "metadata": {},
   "outputs": [
    {
     "data": {
      "text/html": [
       "<div>\n",
       "<style scoped>\n",
       "    .dataframe tbody tr th:only-of-type {\n",
       "        vertical-align: middle;\n",
       "    }\n",
       "\n",
       "    .dataframe tbody tr th {\n",
       "        vertical-align: top;\n",
       "    }\n",
       "\n",
       "    .dataframe thead th {\n",
       "        text-align: right;\n",
       "    }\n",
       "</style>\n",
       "<table border=\"1\" class=\"dataframe\">\n",
       "  <thead>\n",
       "    <tr style=\"text-align: right;\">\n",
       "      <th></th>\n",
       "      <th>name</th>\n",
       "      <th>rating</th>\n",
       "      <th>genre</th>\n",
       "      <th>year</th>\n",
       "      <th>released</th>\n",
       "      <th>score</th>\n",
       "      <th>votes</th>\n",
       "      <th>director</th>\n",
       "      <th>writer</th>\n",
       "      <th>star</th>\n",
       "      <th>country</th>\n",
       "      <th>budget</th>\n",
       "      <th>gross</th>\n",
       "      <th>company</th>\n",
       "      <th>runtime</th>\n",
       "      <th>Category rating</th>\n",
       "      <th>Семейный просмотр</th>\n",
       "      <th>z-score</th>\n",
       "    </tr>\n",
       "  </thead>\n",
       "  <tbody>\n",
       "    <tr>\n",
       "      <th>1</th>\n",
       "      <td>The Blue Lagoon</td>\n",
       "      <td>R</td>\n",
       "      <td>Adventure</td>\n",
       "      <td>1980</td>\n",
       "      <td>July 2, 1980 (United States)</td>\n",
       "      <td>5.8</td>\n",
       "      <td>65000.0</td>\n",
       "      <td>Randal Kleiser</td>\n",
       "      <td>Henry De Vere Stacpoole</td>\n",
       "      <td>Brooke Shields</td>\n",
       "      <td>United States</td>\n",
       "      <td>4500000.0</td>\n",
       "      <td>58853106.0</td>\n",
       "      <td>Columbia Pictures</td>\n",
       "      <td>104.0</td>\n",
       "      <td>Лица, не достигшие 16-летнего возраста, допуск...</td>\n",
       "      <td>Не для семейного просмотра</td>\n",
       "      <td>-0.471040</td>\n",
       "    </tr>\n",
       "    <tr>\n",
       "      <th>11</th>\n",
       "      <td>The Gods Must Be Crazy</td>\n",
       "      <td>PG</td>\n",
       "      <td>Adventure</td>\n",
       "      <td>1980</td>\n",
       "      <td>October 26, 1984 (United States)</td>\n",
       "      <td>7.3</td>\n",
       "      <td>54000.0</td>\n",
       "      <td>Jamie Uys</td>\n",
       "      <td>Jamie Uys</td>\n",
       "      <td>N!xau</td>\n",
       "      <td>South Africa</td>\n",
       "      <td>5000000.0</td>\n",
       "      <td>30031783.0</td>\n",
       "      <td>C.A.T. Films</td>\n",
       "      <td>109.0</td>\n",
       "      <td>Желательно присутствие родителей</td>\n",
       "      <td>Для семейного просмотра</td>\n",
       "      <td>0.966317</td>\n",
       "    </tr>\n",
       "    <tr>\n",
       "      <th>12</th>\n",
       "      <td>Popeye</td>\n",
       "      <td>PG</td>\n",
       "      <td>Adventure</td>\n",
       "      <td>1980</td>\n",
       "      <td>December 12, 1980 (United States)</td>\n",
       "      <td>5.3</td>\n",
       "      <td>30000.0</td>\n",
       "      <td>Robert Altman</td>\n",
       "      <td>Jules Feiffer</td>\n",
       "      <td>Robin Williams</td>\n",
       "      <td>United States</td>\n",
       "      <td>20000000.0</td>\n",
       "      <td>49823037.0</td>\n",
       "      <td>Paramount Pictures</td>\n",
       "      <td>114.0</td>\n",
       "      <td>Желательно присутствие родителей</td>\n",
       "      <td>Для семейного просмотра</td>\n",
       "      <td>-0.950160</td>\n",
       "    </tr>\n",
       "    <tr>\n",
       "      <th>21</th>\n",
       "      <td>Heaven's Gate</td>\n",
       "      <td>R</td>\n",
       "      <td>Adventure</td>\n",
       "      <td>1980</td>\n",
       "      <td>April 24, 1981 (United States)</td>\n",
       "      <td>6.8</td>\n",
       "      <td>14000.0</td>\n",
       "      <td>Michael Cimino</td>\n",
       "      <td>Michael Cimino</td>\n",
       "      <td>Kris Kristofferson</td>\n",
       "      <td>United States</td>\n",
       "      <td>44000000.0</td>\n",
       "      <td>3484523.0</td>\n",
       "      <td>Partisan Productions</td>\n",
       "      <td>219.0</td>\n",
       "      <td>Лица, не достигшие 16-летнего возраста, допуск...</td>\n",
       "      <td>Не для семейного просмотра</td>\n",
       "      <td>0.487198</td>\n",
       "    </tr>\n",
       "    <tr>\n",
       "      <th>60</th>\n",
       "      <td>Herbie Goes Bananas</td>\n",
       "      <td>G</td>\n",
       "      <td>Adventure</td>\n",
       "      <td>1980</td>\n",
       "      <td>June 25, 1980 (United States)</td>\n",
       "      <td>5.0</td>\n",
       "      <td>5300.0</td>\n",
       "      <td>Vincent McEveety</td>\n",
       "      <td>Don Tait</td>\n",
       "      <td>Charles Martin Smith</td>\n",
       "      <td>United States</td>\n",
       "      <td>NaN</td>\n",
       "      <td>18000000.0</td>\n",
       "      <td>Walt Disney Productions</td>\n",
       "      <td>100.0</td>\n",
       "      <td>Нет возрастных ограничений</td>\n",
       "      <td>Не для семейного просмотра</td>\n",
       "      <td>-1.237631</td>\n",
       "    </tr>\n",
       "  </tbody>\n",
       "</table>\n",
       "</div>"
      ],
      "text/plain": [
       "                      name rating      genre  year  \\\n",
       "1          The Blue Lagoon      R  Adventure  1980   \n",
       "11  The Gods Must Be Crazy     PG  Adventure  1980   \n",
       "12                  Popeye     PG  Adventure  1980   \n",
       "21           Heaven's Gate      R  Adventure  1980   \n",
       "60     Herbie Goes Bananas      G  Adventure  1980   \n",
       "\n",
       "                             released  score    votes          director  \\\n",
       "1        July 2, 1980 (United States)    5.8  65000.0    Randal Kleiser   \n",
       "11   October 26, 1984 (United States)    7.3  54000.0         Jamie Uys   \n",
       "12  December 12, 1980 (United States)    5.3  30000.0     Robert Altman   \n",
       "21     April 24, 1981 (United States)    6.8  14000.0    Michael Cimino   \n",
       "60      June 25, 1980 (United States)    5.0   5300.0  Vincent McEveety   \n",
       "\n",
       "                     writer                  star        country      budget  \\\n",
       "1   Henry De Vere Stacpoole        Brooke Shields  United States   4500000.0   \n",
       "11                Jamie Uys                 N!xau   South Africa   5000000.0   \n",
       "12            Jules Feiffer        Robin Williams  United States  20000000.0   \n",
       "21           Michael Cimino    Kris Kristofferson  United States  44000000.0   \n",
       "60                 Don Tait  Charles Martin Smith  United States         NaN   \n",
       "\n",
       "         gross                  company  runtime  \\\n",
       "1   58853106.0        Columbia Pictures    104.0   \n",
       "11  30031783.0             C.A.T. Films    109.0   \n",
       "12  49823037.0       Paramount Pictures    114.0   \n",
       "21   3484523.0     Partisan Productions    219.0   \n",
       "60  18000000.0  Walt Disney Productions    100.0   \n",
       "\n",
       "                                      Category rating  \\\n",
       "1   Лица, не достигшие 16-летнего возраста, допуск...   \n",
       "11                   Желательно присутствие родителей   \n",
       "12                   Желательно присутствие родителей   \n",
       "21  Лица, не достигшие 16-летнего возраста, допуск...   \n",
       "60                         Нет возрастных ограничений   \n",
       "\n",
       "             Семейный просмотр   z-score  \n",
       "1   Не для семейного просмотра -0.471040  \n",
       "11     Для семейного просмотра  0.966317  \n",
       "12     Для семейного просмотра -0.950160  \n",
       "21  Не для семейного просмотра  0.487198  \n",
       "60  Не для семейного просмотра -1.237631  "
      ]
     },
     "execution_count": 39,
     "metadata": {},
     "output_type": "execute_result"
    }
   ],
   "source": [
    "t2.head()"
   ]
  },
  {
   "cell_type": "code",
   "execution_count": 40,
   "id": "017ab7c6",
   "metadata": {},
   "outputs": [
    {
     "data": {
      "text/plain": [
       "Text(0, 0.5, 'Кол-во фильмов')"
      ]
     },
     "execution_count": 40,
     "metadata": {},
     "output_type": "execute_result"
    },
    {
     "data": {
      "image/png": "[encoded data removed]",
      "text/plain": [
       "<Figure size 432x288 with 1 Axes>"
      ]
     },
     "metadata": {
      "needs_background": "light"
     },
     "output_type": "display_data"
    }
   ],
   "source": [
    "t3 = df[df['genre'] == 'Comedy']\n",
    "t3['score'].hist(color = \"pink\")\n",
    "plt.title('Количество фильмов снятых в жанре:\"Комедия\"', fontsize = 20)\n",
    "plt.xlabel('Оценки')\n",
    "plt.ylabel('Кол-во фильмов')"
   ]
  },
  {
   "cell_type": "code",
   "execution_count": 41,
   "id": "67afa6f9",
   "metadata": {},
   "outputs": [
    {
     "name": "stderr",
     "output_type": "stream",
     "text": [
      "C:\\Users\\rtt\\AppData\\Local\\Temp\\ipykernel_2676\\2587957713.py:1: SettingWithCopyWarning: \n",
      "A value is trying to be set on a copy of a slice from a DataFrame.\n",
      "Try using .loc[row_indexer,col_indexer] = value instead\n",
      "\n",
      "See the caveats in the documentation: https://pandas.pydata.org/pandas-docs/stable/user_guide/indexing.html#returning-a-view-versus-a-copy\n",
      "  t3['z-score']=scipy.stats.zscore(t3['score'])\n"
     ]
    }
   ],
   "source": [
    "t3['z-score']=scipy.stats.zscore(t3['score'])"
   ]
  },
  {
   "cell_type": "code",
   "execution_count": 42,
   "id": "24dbd62f",
   "metadata": {},
   "outputs": [
    {
     "data": {
      "text/html": [
       "<div>\n",
       "<style scoped>\n",
       "    .dataframe tbody tr th:only-of-type {\n",
       "        vertical-align: middle;\n",
       "    }\n",
       "\n",
       "    .dataframe tbody tr th {\n",
       "        vertical-align: top;\n",
       "    }\n",
       "\n",
       "    .dataframe thead th {\n",
       "        text-align: right;\n",
       "    }\n",
       "</style>\n",
       "<table border=\"1\" class=\"dataframe\">\n",
       "  <thead>\n",
       "    <tr style=\"text-align: right;\">\n",
       "      <th></th>\n",
       "      <th>name</th>\n",
       "      <th>rating</th>\n",
       "      <th>genre</th>\n",
       "      <th>year</th>\n",
       "      <th>released</th>\n",
       "      <th>score</th>\n",
       "      <th>votes</th>\n",
       "      <th>director</th>\n",
       "      <th>writer</th>\n",
       "      <th>star</th>\n",
       "      <th>country</th>\n",
       "      <th>budget</th>\n",
       "      <th>gross</th>\n",
       "      <th>company</th>\n",
       "      <th>runtime</th>\n",
       "      <th>Category rating</th>\n",
       "      <th>Семейный просмотр</th>\n",
       "      <th>z-score</th>\n",
       "    </tr>\n",
       "  </thead>\n",
       "  <tbody>\n",
       "    <tr>\n",
       "      <th>3</th>\n",
       "      <td>Airplane!</td>\n",
       "      <td>PG</td>\n",
       "      <td>Comedy</td>\n",
       "      <td>1980</td>\n",
       "      <td>July 2, 1980 (United States)</td>\n",
       "      <td>7.7</td>\n",
       "      <td>221000.0</td>\n",
       "      <td>Jim Abrahams</td>\n",
       "      <td>Jim Abrahams</td>\n",
       "      <td>Robert Hays</td>\n",
       "      <td>United States</td>\n",
       "      <td>3500000.0</td>\n",
       "      <td>83453539.0</td>\n",
       "      <td>Paramount Pictures</td>\n",
       "      <td>88.0</td>\n",
       "      <td>Желательно присутствие родителей</td>\n",
       "      <td>Для семейного просмотра</td>\n",
       "      <td>1.600253</td>\n",
       "    </tr>\n",
       "    <tr>\n",
       "      <th>4</th>\n",
       "      <td>Caddyshack</td>\n",
       "      <td>R</td>\n",
       "      <td>Comedy</td>\n",
       "      <td>1980</td>\n",
       "      <td>July 25, 1980 (United States)</td>\n",
       "      <td>7.3</td>\n",
       "      <td>108000.0</td>\n",
       "      <td>Harold Ramis</td>\n",
       "      <td>Brian Doyle-Murray</td>\n",
       "      <td>Chevy Chase</td>\n",
       "      <td>United States</td>\n",
       "      <td>6000000.0</td>\n",
       "      <td>39846344.0</td>\n",
       "      <td>Orion Pictures</td>\n",
       "      <td>98.0</td>\n",
       "      <td>Лица, не достигшие 16-летнего возраста, допуск...</td>\n",
       "      <td>Не для семейного просмотра</td>\n",
       "      <td>1.175222</td>\n",
       "    </tr>\n",
       "    <tr>\n",
       "      <th>17</th>\n",
       "      <td>9 to 5</td>\n",
       "      <td>PG</td>\n",
       "      <td>Comedy</td>\n",
       "      <td>1980</td>\n",
       "      <td>December 19, 1980 (United States)</td>\n",
       "      <td>6.9</td>\n",
       "      <td>29000.0</td>\n",
       "      <td>Colin Higgins</td>\n",
       "      <td>Patricia Resnick</td>\n",
       "      <td>Jane Fonda</td>\n",
       "      <td>United States</td>\n",
       "      <td>10000000.0</td>\n",
       "      <td>103300686.0</td>\n",
       "      <td>IPC Films</td>\n",
       "      <td>109.0</td>\n",
       "      <td>Желательно присутствие родителей</td>\n",
       "      <td>Для семейного просмотра</td>\n",
       "      <td>0.750192</td>\n",
       "    </tr>\n",
       "    <tr>\n",
       "      <th>19</th>\n",
       "      <td>Stir Crazy</td>\n",
       "      <td>R</td>\n",
       "      <td>Comedy</td>\n",
       "      <td>1980</td>\n",
       "      <td>December 12, 1980 (United States)</td>\n",
       "      <td>6.8</td>\n",
       "      <td>26000.0</td>\n",
       "      <td>Sidney Poitier</td>\n",
       "      <td>Bruce Jay Friedman</td>\n",
       "      <td>Gene Wilder</td>\n",
       "      <td>United States</td>\n",
       "      <td>NaN</td>\n",
       "      <td>101300000.0</td>\n",
       "      <td>Columbia Pictures</td>\n",
       "      <td>111.0</td>\n",
       "      <td>Лица, не достигшие 16-летнего возраста, допуск...</td>\n",
       "      <td>Не для семейного просмотра</td>\n",
       "      <td>0.643935</td>\n",
       "    </tr>\n",
       "    <tr>\n",
       "      <th>26</th>\n",
       "      <td>Little Darlings</td>\n",
       "      <td>R</td>\n",
       "      <td>Comedy</td>\n",
       "      <td>1980</td>\n",
       "      <td>March 21, 1980 (United States)</td>\n",
       "      <td>6.5</td>\n",
       "      <td>5100.0</td>\n",
       "      <td>Ron Maxwell</td>\n",
       "      <td>Kimi Peck</td>\n",
       "      <td>Tatum O'Neal</td>\n",
       "      <td>United States</td>\n",
       "      <td>NaN</td>\n",
       "      <td>34326249.0</td>\n",
       "      <td>Stephen Friedman/Kings Road Productions</td>\n",
       "      <td>96.0</td>\n",
       "      <td>Лица, не достигшие 16-летнего возраста, допуск...</td>\n",
       "      <td>Не для семейного просмотра</td>\n",
       "      <td>0.325162</td>\n",
       "    </tr>\n",
       "  </tbody>\n",
       "</table>\n",
       "</div>"
      ],
      "text/plain": [
       "               name rating   genre  year                           released  \\\n",
       "3         Airplane!     PG  Comedy  1980       July 2, 1980 (United States)   \n",
       "4        Caddyshack      R  Comedy  1980      July 25, 1980 (United States)   \n",
       "17           9 to 5     PG  Comedy  1980  December 19, 1980 (United States)   \n",
       "19       Stir Crazy      R  Comedy  1980  December 12, 1980 (United States)   \n",
       "26  Little Darlings      R  Comedy  1980     March 21, 1980 (United States)   \n",
       "\n",
       "    score     votes        director              writer          star  \\\n",
       "3     7.7  221000.0    Jim Abrahams        Jim Abrahams   Robert Hays   \n",
       "4     7.3  108000.0    Harold Ramis  Brian Doyle-Murray   Chevy Chase   \n",
       "17    6.9   29000.0   Colin Higgins    Patricia Resnick    Jane Fonda   \n",
       "19    6.8   26000.0  Sidney Poitier  Bruce Jay Friedman   Gene Wilder   \n",
       "26    6.5    5100.0     Ron Maxwell           Kimi Peck  Tatum O'Neal   \n",
       "\n",
       "          country      budget        gross  \\\n",
       "3   United States   3500000.0   83453539.0   \n",
       "4   United States   6000000.0   39846344.0   \n",
       "17  United States  10000000.0  103300686.0   \n",
       "19  United States         NaN  101300000.0   \n",
       "26  United States         NaN   34326249.0   \n",
       "\n",
       "                                    company  runtime  \\\n",
       "3                        Paramount Pictures     88.0   \n",
       "4                            Orion Pictures     98.0   \n",
       "17                                IPC Films    109.0   \n",
       "19                        Columbia Pictures    111.0   \n",
       "26  Stephen Friedman/Kings Road Productions     96.0   \n",
       "\n",
       "                                      Category rating  \\\n",
       "3                    Желательно присутствие родителей   \n",
       "4   Лица, не достигшие 16-летнего возраста, допуск...   \n",
       "17                   Желательно присутствие родителей   \n",
       "19  Лица, не достигшие 16-летнего возраста, допуск...   \n",
       "26  Лица, не достигшие 16-летнего возраста, допуск...   \n",
       "\n",
       "             Семейный просмотр   z-score  \n",
       "3      Для семейного просмотра  1.600253  \n",
       "4   Не для семейного просмотра  1.175222  \n",
       "17     Для семейного просмотра  0.750192  \n",
       "19  Не для семейного просмотра  0.643935  \n",
       "26  Не для семейного просмотра  0.325162  "
      ]
     },
     "execution_count": 42,
     "metadata": {},
     "output_type": "execute_result"
    }
   ],
   "source": [
    "t3.head()"
   ]
  },
  {
   "cell_type": "code",
   "execution_count": 43,
   "id": "3bd5ac3c",
   "metadata": {},
   "outputs": [
    {
     "data": {
      "text/plain": [
       "Text(0, 0.5, 'Кол-во фильмов')"
      ]
     },
     "execution_count": 43,
     "metadata": {},
     "output_type": "execute_result"
    },
    {
     "data": {
      "image/png": "[encoded data removed]",
      "text/plain": [
       "<Figure size 432x288 with 1 Axes>"
      ]
     },
     "metadata": {
      "needs_background": "light"
     },
     "output_type": "display_data"
    }
   ],
   "source": [
    "t = df[df['genre'] == 'Family']\n",
    "t['score'].hist(color= \"red\")\n",
    "plt.title('Количество фильмов снятых в жанре:\"Семейные\"', fontsize = 20)\n",
    "plt.xlabel('Оценки')\n",
    "plt.ylabel('Кол-во фильмов')"
   ]
  },
  {
   "cell_type": "markdown",
   "id": "063a0e22",
   "metadata": {},
   "source": [
    "Если смотреть на данные этих фильмов, то можно увидеть что самые высокие оценки у комедий, семейные фильмы имеют низкие оценки и их снимают намного реже, чем все остальное. А наиболее снимаемые фильмы-это комедии в выборке из 4 жанров"
   ]
  },
  {
   "cell_type": "markdown",
   "id": "610e1357",
   "metadata": {},
   "source": [
    "# z-оценка"
   ]
  },
  {
   "cell_type": "code",
   "execution_count": 44,
   "id": "5dc8a0ff",
   "metadata": {},
   "outputs": [
    {
     "name": "stderr",
     "output_type": "stream",
     "text": [
      "C:\\Users\\rtt\\AppData\\Local\\Temp\\ipykernel_2676\\1428188456.py:1: SettingWithCopyWarning: \n",
      "A value is trying to be set on a copy of a slice from a DataFrame.\n",
      "Try using .loc[row_indexer,col_indexer] = value instead\n",
      "\n",
      "See the caveats in the documentation: https://pandas.pydata.org/pandas-docs/stable/user_guide/indexing.html#returning-a-view-versus-a-copy\n",
      "  t['z-score']=scipy.stats.zscore(t['score'])\n"
     ]
    }
   ],
   "source": [
    "t['z-score']=scipy.stats.zscore(t['score'])"
   ]
  },
  {
   "cell_type": "code",
   "execution_count": 45,
   "id": "784bbccf",
   "metadata": {},
   "outputs": [
    {
     "data": {
      "text/html": [
       "<div>\n",
       "<style scoped>\n",
       "    .dataframe tbody tr th:only-of-type {\n",
       "        vertical-align: middle;\n",
       "    }\n",
       "\n",
       "    .dataframe tbody tr th {\n",
       "        vertical-align: top;\n",
       "    }\n",
       "\n",
       "    .dataframe thead th {\n",
       "        text-align: right;\n",
       "    }\n",
       "</style>\n",
       "<table border=\"1\" class=\"dataframe\">\n",
       "  <thead>\n",
       "    <tr style=\"text-align: right;\">\n",
       "      <th></th>\n",
       "      <th>name</th>\n",
       "      <th>rating</th>\n",
       "      <th>genre</th>\n",
       "      <th>year</th>\n",
       "      <th>released</th>\n",
       "      <th>score</th>\n",
       "      <th>votes</th>\n",
       "      <th>director</th>\n",
       "      <th>writer</th>\n",
       "      <th>star</th>\n",
       "      <th>country</th>\n",
       "      <th>budget</th>\n",
       "      <th>gross</th>\n",
       "      <th>company</th>\n",
       "      <th>runtime</th>\n",
       "      <th>Category rating</th>\n",
       "      <th>Семейный просмотр</th>\n",
       "      <th>z-score</th>\n",
       "    </tr>\n",
       "  </thead>\n",
       "  <tbody>\n",
       "    <tr>\n",
       "      <th>40</th>\n",
       "      <td>The Watcher in the Woods</td>\n",
       "      <td>PG</td>\n",
       "      <td>Family</td>\n",
       "      <td>1980</td>\n",
       "      <td>October 9, 1981 (United States)</td>\n",
       "      <td>6.3</td>\n",
       "      <td>5700.0</td>\n",
       "      <td>John Hough</td>\n",
       "      <td>Brian Clemens</td>\n",
       "      <td>Bette Davis</td>\n",
       "      <td>United States</td>\n",
       "      <td>NaN</td>\n",
       "      <td>5000000.0</td>\n",
       "      <td>Walt Disney Productions</td>\n",
       "      <td>84.0</td>\n",
       "      <td>Желательно присутствие родителей</td>\n",
       "      <td>Для семейного просмотра</td>\n",
       "      <td>-0.079178</td>\n",
       "    </tr>\n",
       "    <tr>\n",
       "      <th>209</th>\n",
       "      <td>E.T. the Extra-Terrestrial</td>\n",
       "      <td>PG</td>\n",
       "      <td>Family</td>\n",
       "      <td>1982</td>\n",
       "      <td>June 11, 1982 (United States)</td>\n",
       "      <td>7.8</td>\n",
       "      <td>381000.0</td>\n",
       "      <td>Steven Spielberg</td>\n",
       "      <td>Melissa Mathison</td>\n",
       "      <td>Henry Thomas</td>\n",
       "      <td>United States</td>\n",
       "      <td>10500000.0</td>\n",
       "      <td>792910554.0</td>\n",
       "      <td>Universal Pictures</td>\n",
       "      <td>115.0</td>\n",
       "      <td>Желательно присутствие родителей</td>\n",
       "      <td>Для семейного просмотра</td>\n",
       "      <td>1.787166</td>\n",
       "    </tr>\n",
       "    <tr>\n",
       "      <th>723</th>\n",
       "      <td>D.A.R.Y.L.</td>\n",
       "      <td>PG</td>\n",
       "      <td>Family</td>\n",
       "      <td>1985</td>\n",
       "      <td>June 14, 1985 (United States)</td>\n",
       "      <td>6.3</td>\n",
       "      <td>12000.0</td>\n",
       "      <td>Simon Wincer</td>\n",
       "      <td>David Ambrose</td>\n",
       "      <td>Mary Beth Hurt</td>\n",
       "      <td>United Kingdom</td>\n",
       "      <td>NaN</td>\n",
       "      <td>7840873.0</td>\n",
       "      <td>Paramount Pictures</td>\n",
       "      <td>99.0</td>\n",
       "      <td>Желательно присутствие родителей</td>\n",
       "      <td>Для семейного просмотра</td>\n",
       "      <td>-0.079178</td>\n",
       "    </tr>\n",
       "    <tr>\n",
       "      <th>798</th>\n",
       "      <td>One Magic Christmas</td>\n",
       "      <td>G</td>\n",
       "      <td>Family</td>\n",
       "      <td>1985</td>\n",
       "      <td>November 22, 1985 (United States)</td>\n",
       "      <td>6.5</td>\n",
       "      <td>3400.0</td>\n",
       "      <td>Phillip Borsos</td>\n",
       "      <td>Thomas Meehan</td>\n",
       "      <td>Mary Steenburgen</td>\n",
       "      <td>Canada</td>\n",
       "      <td>NaN</td>\n",
       "      <td>13677222.0</td>\n",
       "      <td>Walt Disney Pictures</td>\n",
       "      <td>89.0</td>\n",
       "      <td>Нет возрастных ограничений</td>\n",
       "      <td>Не для семейного просмотра</td>\n",
       "      <td>0.169668</td>\n",
       "    </tr>\n",
       "    <tr>\n",
       "      <th>1029</th>\n",
       "      <td>Nutcracker</td>\n",
       "      <td>G</td>\n",
       "      <td>Family</td>\n",
       "      <td>1986</td>\n",
       "      <td>November 26, 1986 (United States)</td>\n",
       "      <td>7.2</td>\n",
       "      <td>1000.0</td>\n",
       "      <td>Carroll Ballard</td>\n",
       "      <td>Kent Stowell</td>\n",
       "      <td>Hugh Duncan Bigney Mitchell</td>\n",
       "      <td>United States</td>\n",
       "      <td>NaN</td>\n",
       "      <td>781727.0</td>\n",
       "      <td>Hyperion Pictures</td>\n",
       "      <td>89.0</td>\n",
       "      <td>Нет возрастных ограничений</td>\n",
       "      <td>Не для семейного просмотра</td>\n",
       "      <td>1.040628</td>\n",
       "    </tr>\n",
       "  </tbody>\n",
       "</table>\n",
       "</div>"
      ],
      "text/plain": [
       "                            name rating   genre  year  \\\n",
       "40      The Watcher in the Woods     PG  Family  1980   \n",
       "209   E.T. the Extra-Terrestrial     PG  Family  1982   \n",
       "723                   D.A.R.Y.L.     PG  Family  1985   \n",
       "798          One Magic Christmas      G  Family  1985   \n",
       "1029                  Nutcracker      G  Family  1986   \n",
       "\n",
       "                               released  score     votes          director  \\\n",
       "40      October 9, 1981 (United States)    6.3    5700.0        John Hough   \n",
       "209       June 11, 1982 (United States)    7.8  381000.0  Steven Spielberg   \n",
       "723       June 14, 1985 (United States)    6.3   12000.0      Simon Wincer   \n",
       "798   November 22, 1985 (United States)    6.5    3400.0    Phillip Borsos   \n",
       "1029  November 26, 1986 (United States)    7.2    1000.0   Carroll Ballard   \n",
       "\n",
       "                writer                         star         country  \\\n",
       "40       Brian Clemens                  Bette Davis   United States   \n",
       "209   Melissa Mathison                 Henry Thomas   United States   \n",
       "723      David Ambrose               Mary Beth Hurt  United Kingdom   \n",
       "798      Thomas Meehan             Mary Steenburgen          Canada   \n",
       "1029      Kent Stowell  Hugh Duncan Bigney Mitchell   United States   \n",
       "\n",
       "          budget        gross                  company  runtime  \\\n",
       "40           NaN    5000000.0  Walt Disney Productions     84.0   \n",
       "209   10500000.0  792910554.0       Universal Pictures    115.0   \n",
       "723          NaN    7840873.0       Paramount Pictures     99.0   \n",
       "798          NaN   13677222.0     Walt Disney Pictures     89.0   \n",
       "1029         NaN     781727.0        Hyperion Pictures     89.0   \n",
       "\n",
       "                       Category rating           Семейный просмотр   z-score  \n",
       "40    Желательно присутствие родителей     Для семейного просмотра -0.079178  \n",
       "209   Желательно присутствие родителей     Для семейного просмотра  1.787166  \n",
       "723   Желательно присутствие родителей     Для семейного просмотра -0.079178  \n",
       "798         Нет возрастных ограничений  Не для семейного просмотра  0.169668  \n",
       "1029        Нет возрастных ограничений  Не для семейного просмотра  1.040628  "
      ]
     },
     "execution_count": 45,
     "metadata": {},
     "output_type": "execute_result"
    }
   ],
   "source": [
    "t.head()"
   ]
  },
  {
   "cell_type": "markdown",
   "id": "221d5b28",
   "metadata": {},
   "source": [
    "Объединим данные этих 4 жанров"
   ]
  },
  {
   "cell_type": "code",
   "execution_count": 46,
   "id": "4105d7bc",
   "metadata": {},
   "outputs": [
    {
     "data": {
      "text/html": [
       "<div>\n",
       "<style scoped>\n",
       "    .dataframe tbody tr th:only-of-type {\n",
       "        vertical-align: middle;\n",
       "    }\n",
       "\n",
       "    .dataframe tbody tr th {\n",
       "        vertical-align: top;\n",
       "    }\n",
       "\n",
       "    .dataframe thead th {\n",
       "        text-align: right;\n",
       "    }\n",
       "</style>\n",
       "<table border=\"1\" class=\"dataframe\">\n",
       "  <thead>\n",
       "    <tr style=\"text-align: right;\">\n",
       "      <th></th>\n",
       "      <th>name</th>\n",
       "      <th>rating</th>\n",
       "      <th>genre</th>\n",
       "      <th>year</th>\n",
       "      <th>released</th>\n",
       "      <th>score</th>\n",
       "      <th>votes</th>\n",
       "      <th>director</th>\n",
       "      <th>writer</th>\n",
       "      <th>star</th>\n",
       "      <th>country</th>\n",
       "      <th>budget</th>\n",
       "      <th>gross</th>\n",
       "      <th>company</th>\n",
       "      <th>runtime</th>\n",
       "      <th>Category rating</th>\n",
       "      <th>Семейный просмотр</th>\n",
       "      <th>z-score</th>\n",
       "    </tr>\n",
       "  </thead>\n",
       "  <tbody>\n",
       "    <tr>\n",
       "      <th>40</th>\n",
       "      <td>The Watcher in the Woods</td>\n",
       "      <td>PG</td>\n",
       "      <td>Family</td>\n",
       "      <td>1980</td>\n",
       "      <td>October 9, 1981 (United States)</td>\n",
       "      <td>6.3</td>\n",
       "      <td>5700.0</td>\n",
       "      <td>John Hough</td>\n",
       "      <td>Brian Clemens</td>\n",
       "      <td>Bette Davis</td>\n",
       "      <td>United States</td>\n",
       "      <td>NaN</td>\n",
       "      <td>5000000.0</td>\n",
       "      <td>Walt Disney Productions</td>\n",
       "      <td>84.0</td>\n",
       "      <td>Желательно присутствие родителей</td>\n",
       "      <td>Для семейного просмотра</td>\n",
       "      <td>-0.079178</td>\n",
       "    </tr>\n",
       "    <tr>\n",
       "      <th>209</th>\n",
       "      <td>E.T. the Extra-Terrestrial</td>\n",
       "      <td>PG</td>\n",
       "      <td>Family</td>\n",
       "      <td>1982</td>\n",
       "      <td>June 11, 1982 (United States)</td>\n",
       "      <td>7.8</td>\n",
       "      <td>381000.0</td>\n",
       "      <td>Steven Spielberg</td>\n",
       "      <td>Melissa Mathison</td>\n",
       "      <td>Henry Thomas</td>\n",
       "      <td>United States</td>\n",
       "      <td>10500000.0</td>\n",
       "      <td>792910554.0</td>\n",
       "      <td>Universal Pictures</td>\n",
       "      <td>115.0</td>\n",
       "      <td>Желательно присутствие родителей</td>\n",
       "      <td>Для семейного просмотра</td>\n",
       "      <td>1.787166</td>\n",
       "    </tr>\n",
       "    <tr>\n",
       "      <th>723</th>\n",
       "      <td>D.A.R.Y.L.</td>\n",
       "      <td>PG</td>\n",
       "      <td>Family</td>\n",
       "      <td>1985</td>\n",
       "      <td>June 14, 1985 (United States)</td>\n",
       "      <td>6.3</td>\n",
       "      <td>12000.0</td>\n",
       "      <td>Simon Wincer</td>\n",
       "      <td>David Ambrose</td>\n",
       "      <td>Mary Beth Hurt</td>\n",
       "      <td>United Kingdom</td>\n",
       "      <td>NaN</td>\n",
       "      <td>7840873.0</td>\n",
       "      <td>Paramount Pictures</td>\n",
       "      <td>99.0</td>\n",
       "      <td>Желательно присутствие родителей</td>\n",
       "      <td>Для семейного просмотра</td>\n",
       "      <td>-0.079178</td>\n",
       "    </tr>\n",
       "    <tr>\n",
       "      <th>798</th>\n",
       "      <td>One Magic Christmas</td>\n",
       "      <td>G</td>\n",
       "      <td>Family</td>\n",
       "      <td>1985</td>\n",
       "      <td>November 22, 1985 (United States)</td>\n",
       "      <td>6.5</td>\n",
       "      <td>3400.0</td>\n",
       "      <td>Phillip Borsos</td>\n",
       "      <td>Thomas Meehan</td>\n",
       "      <td>Mary Steenburgen</td>\n",
       "      <td>Canada</td>\n",
       "      <td>NaN</td>\n",
       "      <td>13677222.0</td>\n",
       "      <td>Walt Disney Pictures</td>\n",
       "      <td>89.0</td>\n",
       "      <td>Нет возрастных ограничений</td>\n",
       "      <td>Не для семейного просмотра</td>\n",
       "      <td>0.169668</td>\n",
       "    </tr>\n",
       "    <tr>\n",
       "      <th>1029</th>\n",
       "      <td>Nutcracker</td>\n",
       "      <td>G</td>\n",
       "      <td>Family</td>\n",
       "      <td>1986</td>\n",
       "      <td>November 26, 1986 (United States)</td>\n",
       "      <td>7.2</td>\n",
       "      <td>1000.0</td>\n",
       "      <td>Carroll Ballard</td>\n",
       "      <td>Kent Stowell</td>\n",
       "      <td>Hugh Duncan Bigney Mitchell</td>\n",
       "      <td>United States</td>\n",
       "      <td>NaN</td>\n",
       "      <td>781727.0</td>\n",
       "      <td>Hyperion Pictures</td>\n",
       "      <td>89.0</td>\n",
       "      <td>Нет возрастных ограничений</td>\n",
       "      <td>Не для семейного просмотра</td>\n",
       "      <td>1.040628</td>\n",
       "    </tr>\n",
       "    <tr>\n",
       "      <th>...</th>\n",
       "      <td>...</td>\n",
       "      <td>...</td>\n",
       "      <td>...</td>\n",
       "      <td>...</td>\n",
       "      <td>...</td>\n",
       "      <td>...</td>\n",
       "      <td>...</td>\n",
       "      <td>...</td>\n",
       "      <td>...</td>\n",
       "      <td>...</td>\n",
       "      <td>...</td>\n",
       "      <td>...</td>\n",
       "      <td>...</td>\n",
       "      <td>...</td>\n",
       "      <td>...</td>\n",
       "      <td>...</td>\n",
       "      <td>...</td>\n",
       "      <td>...</td>\n",
       "    </tr>\n",
       "    <tr>\n",
       "      <th>7626</th>\n",
       "      <td>No Manches Frida 2</td>\n",
       "      <td>R</td>\n",
       "      <td>Comedy</td>\n",
       "      <td>2019</td>\n",
       "      <td>March 15, 2019 (United States)</td>\n",
       "      <td>4.2</td>\n",
       "      <td>904.0</td>\n",
       "      <td>Nacho G. Velilla</td>\n",
       "      <td>Claudio Herrera</td>\n",
       "      <td>Martha Higareda</td>\n",
       "      <td>Mexico</td>\n",
       "      <td>NaN</td>\n",
       "      <td>26493648.0</td>\n",
       "      <td>Neverending Media</td>\n",
       "      <td>102.0</td>\n",
       "      <td>Лица, не достигшие 16-летнего возраста, допуск...</td>\n",
       "      <td>Не для семейного просмотра</td>\n",
       "      <td>-2.118761</td>\n",
       "    </tr>\n",
       "    <tr>\n",
       "      <th>7633</th>\n",
       "      <td>Tod@s Caen</td>\n",
       "      <td>PG-13</td>\n",
       "      <td>Comedy</td>\n",
       "      <td>2019</td>\n",
       "      <td>August 30, 2019 (United States)</td>\n",
       "      <td>4.9</td>\n",
       "      <td>550.0</td>\n",
       "      <td>Ariel Winograd</td>\n",
       "      <td>Cory Brusseau</td>\n",
       "      <td>Martha Higareda</td>\n",
       "      <td>Mexico</td>\n",
       "      <td>NaN</td>\n",
       "      <td>9667157.0</td>\n",
       "      <td>Neverending Media</td>\n",
       "      <td>120.0</td>\n",
       "      <td>Детям до 13 лет просмотр не желателен</td>\n",
       "      <td>Не для семейного просмотра</td>\n",
       "      <td>-1.374958</td>\n",
       "    </tr>\n",
       "    <tr>\n",
       "      <th>7656</th>\n",
       "      <td>Tulsa</td>\n",
       "      <td>PG-13</td>\n",
       "      <td>Comedy</td>\n",
       "      <td>2020</td>\n",
       "      <td>June 3, 2020 (United States)</td>\n",
       "      <td>5.0</td>\n",
       "      <td>294.0</td>\n",
       "      <td>Scott Pryor</td>\n",
       "      <td>Scott Pryor</td>\n",
       "      <td>Scott Pryor</td>\n",
       "      <td>United States</td>\n",
       "      <td>NaN</td>\n",
       "      <td>413378.0</td>\n",
       "      <td>Pryor Entertainment</td>\n",
       "      <td>120.0</td>\n",
       "      <td>Детям до 13 лет просмотр не желателен</td>\n",
       "      <td>Не для семейного просмотра</td>\n",
       "      <td>-1.268701</td>\n",
       "    </tr>\n",
       "    <tr>\n",
       "      <th>7660</th>\n",
       "      <td>Aloha Surf Hotel</td>\n",
       "      <td>NaN</td>\n",
       "      <td>Comedy</td>\n",
       "      <td>2020</td>\n",
       "      <td>November 5, 2020 (United States)</td>\n",
       "      <td>7.1</td>\n",
       "      <td>14.0</td>\n",
       "      <td>Stefan C. Schaefer</td>\n",
       "      <td>Stefan C. Schaefer</td>\n",
       "      <td>Augie Tulba</td>\n",
       "      <td>United States</td>\n",
       "      <td>NaN</td>\n",
       "      <td>NaN</td>\n",
       "      <td>Abominable Pictures</td>\n",
       "      <td>90.0</td>\n",
       "      <td>NaN</td>\n",
       "      <td>Не для семейного просмотра</td>\n",
       "      <td>0.962707</td>\n",
       "    </tr>\n",
       "    <tr>\n",
       "      <th>7664</th>\n",
       "      <td>Dream Round</td>\n",
       "      <td>NaN</td>\n",
       "      <td>Comedy</td>\n",
       "      <td>2020</td>\n",
       "      <td>February 7, 2020 (United States)</td>\n",
       "      <td>4.7</td>\n",
       "      <td>36.0</td>\n",
       "      <td>Dusty Dukatz</td>\n",
       "      <td>Lisa Huston</td>\n",
       "      <td>Michael Saquella</td>\n",
       "      <td>United States</td>\n",
       "      <td>NaN</td>\n",
       "      <td>NaN</td>\n",
       "      <td>Cactus Blue Entertainment</td>\n",
       "      <td>90.0</td>\n",
       "      <td>NaN</td>\n",
       "      <td>Не для семейного просмотра</td>\n",
       "      <td>-1.587473</td>\n",
       "    </tr>\n",
       "  </tbody>\n",
       "</table>\n",
       "<p>2699 rows × 18 columns</p>\n",
       "</div>"
      ],
      "text/plain": [
       "                            name rating   genre  year  \\\n",
       "40      The Watcher in the Woods     PG  Family  1980   \n",
       "209   E.T. the Extra-Terrestrial     PG  Family  1982   \n",
       "723                   D.A.R.Y.L.     PG  Family  1985   \n",
       "798          One Magic Christmas      G  Family  1985   \n",
       "1029                  Nutcracker      G  Family  1986   \n",
       "...                          ...    ...     ...   ...   \n",
       "7626          No Manches Frida 2      R  Comedy  2019   \n",
       "7633                  Tod@s Caen  PG-13  Comedy  2019   \n",
       "7656                       Tulsa  PG-13  Comedy  2020   \n",
       "7660            Aloha Surf Hotel    NaN  Comedy  2020   \n",
       "7664                 Dream Round    NaN  Comedy  2020   \n",
       "\n",
       "                               released  score     votes            director  \\\n",
       "40      October 9, 1981 (United States)    6.3    5700.0          John Hough   \n",
       "209       June 11, 1982 (United States)    7.8  381000.0    Steven Spielberg   \n",
       "723       June 14, 1985 (United States)    6.3   12000.0        Simon Wincer   \n",
       "798   November 22, 1985 (United States)    6.5    3400.0      Phillip Borsos   \n",
       "1029  November 26, 1986 (United States)    7.2    1000.0     Carroll Ballard   \n",
       "...                                 ...    ...       ...                 ...   \n",
       "7626     March 15, 2019 (United States)    4.2     904.0    Nacho G. Velilla   \n",
       "7633    August 30, 2019 (United States)    4.9     550.0      Ariel Winograd   \n",
       "7656       June 3, 2020 (United States)    5.0     294.0         Scott Pryor   \n",
       "7660   November 5, 2020 (United States)    7.1      14.0  Stefan C. Schaefer   \n",
       "7664   February 7, 2020 (United States)    4.7      36.0        Dusty Dukatz   \n",
       "\n",
       "                  writer                         star         country  \\\n",
       "40         Brian Clemens                  Bette Davis   United States   \n",
       "209     Melissa Mathison                 Henry Thomas   United States   \n",
       "723        David Ambrose               Mary Beth Hurt  United Kingdom   \n",
       "798        Thomas Meehan             Mary Steenburgen          Canada   \n",
       "1029        Kent Stowell  Hugh Duncan Bigney Mitchell   United States   \n",
       "...                  ...                          ...             ...   \n",
       "7626     Claudio Herrera              Martha Higareda          Mexico   \n",
       "7633       Cory Brusseau              Martha Higareda          Mexico   \n",
       "7656         Scott Pryor                  Scott Pryor   United States   \n",
       "7660  Stefan C. Schaefer                  Augie Tulba   United States   \n",
       "7664         Lisa Huston             Michael Saquella   United States   \n",
       "\n",
       "          budget        gross                    company  runtime  \\\n",
       "40           NaN    5000000.0    Walt Disney Productions     84.0   \n",
       "209   10500000.0  792910554.0         Universal Pictures    115.0   \n",
       "723          NaN    7840873.0         Paramount Pictures     99.0   \n",
       "798          NaN   13677222.0       Walt Disney Pictures     89.0   \n",
       "1029         NaN     781727.0          Hyperion Pictures     89.0   \n",
       "...          ...          ...                        ...      ...   \n",
       "7626         NaN   26493648.0          Neverending Media    102.0   \n",
       "7633         NaN    9667157.0          Neverending Media    120.0   \n",
       "7656         NaN     413378.0        Pryor Entertainment    120.0   \n",
       "7660         NaN          NaN        Abominable Pictures     90.0   \n",
       "7664         NaN          NaN  Cactus Blue Entertainment     90.0   \n",
       "\n",
       "                                        Category rating  \\\n",
       "40                     Желательно присутствие родителей   \n",
       "209                    Желательно присутствие родителей   \n",
       "723                    Желательно присутствие родителей   \n",
       "798                          Нет возрастных ограничений   \n",
       "1029                         Нет возрастных ограничений   \n",
       "...                                                 ...   \n",
       "7626  Лица, не достигшие 16-летнего возраста, допуск...   \n",
       "7633              Детям до 13 лет просмотр не желателен   \n",
       "7656              Детям до 13 лет просмотр не желателен   \n",
       "7660                                                NaN   \n",
       "7664                                                NaN   \n",
       "\n",
       "               Семейный просмотр   z-score  \n",
       "40       Для семейного просмотра -0.079178  \n",
       "209      Для семейного просмотра  1.787166  \n",
       "723      Для семейного просмотра -0.079178  \n",
       "798   Не для семейного просмотра  0.169668  \n",
       "1029  Не для семейного просмотра  1.040628  \n",
       "...                          ...       ...  \n",
       "7626  Не для семейного просмотра -2.118761  \n",
       "7633  Не для семейного просмотра -1.374958  \n",
       "7656  Не для семейного просмотра -1.268701  \n",
       "7660  Не для семейного просмотра  0.962707  \n",
       "7664  Не для семейного просмотра -1.587473  \n",
       "\n",
       "[2699 rows x 18 columns]"
      ]
     },
     "execution_count": 46,
     "metadata": {},
     "output_type": "execute_result"
    }
   ],
   "source": [
    "new = pd.concat([t,t1,t2,t3])\n",
    "new"
   ]
  },
  {
   "cell_type": "markdown",
   "id": "8c0e9bb4",
   "metadata": {},
   "source": [
    "Теперь есть колонка z-score по которой можем сравнить все фильмы"
   ]
  },
  {
   "cell_type": "code",
   "execution_count": 47,
   "id": "cb263a88",
   "metadata": {},
   "outputs": [
    {
     "data": {
      "text/plain": [
       "Text(0, 0.5, 'Z-оценка')"
      ]
     },
     "execution_count": 47,
     "metadata": {},
     "output_type": "execute_result"
    },
    {
     "data": {
      "image/png": "[encoded data removed]",
      "text/plain": [
       "<Figure size 432x288 with 1 Axes>"
      ]
     },
     "metadata": {
      "needs_background": "light"
     },
     "output_type": "display_data"
    }
   ],
   "source": [
    "new['z-score'].hist()\n",
    "plt.title('Z-оценка для фильмов', fontsize = 20)\n",
    "plt.xlabel('Оценки')\n",
    "plt.ylabel('Z-оценка')"
   ]
  },
  {
   "cell_type": "markdown",
   "id": "e21b3e8a",
   "metadata": {},
   "source": [
    "По данному рисунку видно, что распределение обрывается на некоторых периодах значений, так как какие-то фильмы имеют очень низкие оценки, и только несколько фильмов в нашей бд имеют высокие оценки, в основном фильмы из 4 выбранных категорий имеют низкие оценки, особенно триллеры"
   ]
  },
  {
   "cell_type": "markdown",
   "id": "a4b37aeb",
   "metadata": {},
   "source": [
    "Посмотрим, сколько фильмов из выбранных категорий хуже, чем 1 стандартное отклонение"
   ]
  },
  {
   "cell_type": "code",
   "execution_count": 48,
   "id": "4bbbd12c",
   "metadata": {},
   "outputs": [
    {
     "data": {
      "text/html": [
       "<div>\n",
       "<style scoped>\n",
       "    .dataframe tbody tr th:only-of-type {\n",
       "        vertical-align: middle;\n",
       "    }\n",
       "\n",
       "    .dataframe tbody tr th {\n",
       "        vertical-align: top;\n",
       "    }\n",
       "\n",
       "    .dataframe thead th {\n",
       "        text-align: right;\n",
       "    }\n",
       "</style>\n",
       "<table border=\"1\" class=\"dataframe\">\n",
       "  <thead>\n",
       "    <tr style=\"text-align: right;\">\n",
       "      <th></th>\n",
       "      <th>name</th>\n",
       "      <th>rating</th>\n",
       "      <th>genre</th>\n",
       "      <th>year</th>\n",
       "      <th>released</th>\n",
       "      <th>score</th>\n",
       "      <th>votes</th>\n",
       "      <th>director</th>\n",
       "      <th>writer</th>\n",
       "      <th>star</th>\n",
       "      <th>country</th>\n",
       "      <th>budget</th>\n",
       "      <th>gross</th>\n",
       "      <th>company</th>\n",
       "      <th>runtime</th>\n",
       "      <th>Category rating</th>\n",
       "      <th>Семейный просмотр</th>\n",
       "      <th>z-score</th>\n",
       "    </tr>\n",
       "  </thead>\n",
       "  <tbody>\n",
       "    <tr>\n",
       "      <th>7639</th>\n",
       "      <td>Round of Your Life</td>\n",
       "      <td>NaN</td>\n",
       "      <td>Family</td>\n",
       "      <td>2019</td>\n",
       "      <td>June 21, 2019 (United States)</td>\n",
       "      <td>4.6</td>\n",
       "      <td>150.0</td>\n",
       "      <td>Dylan Thomas Ellis</td>\n",
       "      <td>Tim Ogletree</td>\n",
       "      <td>Cole Allen</td>\n",
       "      <td>United States</td>\n",
       "      <td>NaN</td>\n",
       "      <td>20941.0</td>\n",
       "      <td>Aristar Entertainment</td>\n",
       "      <td>91.0</td>\n",
       "      <td>NaN</td>\n",
       "      <td>Не для семейного просмотра</td>\n",
       "      <td>-2.194368</td>\n",
       "    </tr>\n",
       "    <tr>\n",
       "      <th>262</th>\n",
       "      <td>The Seduction</td>\n",
       "      <td>R</td>\n",
       "      <td>Thriller</td>\n",
       "      <td>1982</td>\n",
       "      <td>January 29, 1982 (United States)</td>\n",
       "      <td>4.9</td>\n",
       "      <td>1100.0</td>\n",
       "      <td>David Schmoeller</td>\n",
       "      <td>David Schmoeller</td>\n",
       "      <td>Morgan Fairchild</td>\n",
       "      <td>United States</td>\n",
       "      <td>NaN</td>\n",
       "      <td>11378339.0</td>\n",
       "      <td>The Romantic Venture</td>\n",
       "      <td>104.0</td>\n",
       "      <td>Лица, не достигшие 16-летнего возраста, допуск...</td>\n",
       "      <td>Не для семейного просмотра</td>\n",
       "      <td>-1.257212</td>\n",
       "    </tr>\n",
       "    <tr>\n",
       "      <th>838</th>\n",
       "      <td>Lune de miel</td>\n",
       "      <td>R</td>\n",
       "      <td>Thriller</td>\n",
       "      <td>1985</td>\n",
       "      <td>November 20, 1985 (France)</td>\n",
       "      <td>4.6</td>\n",
       "      <td>100.0</td>\n",
       "      <td>Patrick Jamain</td>\n",
       "      <td>Robert Geoffrion</td>\n",
       "      <td>Nathalie Baye</td>\n",
       "      <td>France</td>\n",
       "      <td>NaN</td>\n",
       "      <td>NaN</td>\n",
       "      <td>Malofilm</td>\n",
       "      <td>98.0</td>\n",
       "      <td>Лица, не достигшие 16-летнего возраста, допуск...</td>\n",
       "      <td>Не для семейного просмотра</td>\n",
       "      <td>-1.629720</td>\n",
       "    </tr>\n",
       "    <tr>\n",
       "      <th>1421</th>\n",
       "      <td>Party Line</td>\n",
       "      <td>R</td>\n",
       "      <td>Thriller</td>\n",
       "      <td>1988</td>\n",
       "      <td>October 1988 (United States)</td>\n",
       "      <td>4.9</td>\n",
       "      <td>309.0</td>\n",
       "      <td>William Webb</td>\n",
       "      <td>Richard Brandes</td>\n",
       "      <td>Richard Hatch</td>\n",
       "      <td>United States</td>\n",
       "      <td>NaN</td>\n",
       "      <td>NaN</td>\n",
       "      <td>Westwind</td>\n",
       "      <td>91.0</td>\n",
       "      <td>Лица, не достигшие 16-летнего возраста, допуск...</td>\n",
       "      <td>Не для семейного просмотра</td>\n",
       "      <td>-1.257212</td>\n",
       "    </tr>\n",
       "    <tr>\n",
       "      <th>6699</th>\n",
       "      <td>The Boy Next Door</td>\n",
       "      <td>R</td>\n",
       "      <td>Thriller</td>\n",
       "      <td>2015</td>\n",
       "      <td>January 23, 2015 (United States)</td>\n",
       "      <td>4.7</td>\n",
       "      <td>40000.0</td>\n",
       "      <td>Rob Cohen</td>\n",
       "      <td>Barbara Curry</td>\n",
       "      <td>Jennifer Lopez</td>\n",
       "      <td>United States</td>\n",
       "      <td>4000000.0</td>\n",
       "      <td>52425855.0</td>\n",
       "      <td>Universal Pictures</td>\n",
       "      <td>91.0</td>\n",
       "      <td>Лица, не достигшие 16-летнего возраста, допуск...</td>\n",
       "      <td>Не для семейного просмотра</td>\n",
       "      <td>-1.505551</td>\n",
       "    </tr>\n",
       "    <tr>\n",
       "      <th>...</th>\n",
       "      <td>...</td>\n",
       "      <td>...</td>\n",
       "      <td>...</td>\n",
       "      <td>...</td>\n",
       "      <td>...</td>\n",
       "      <td>...</td>\n",
       "      <td>...</td>\n",
       "      <td>...</td>\n",
       "      <td>...</td>\n",
       "      <td>...</td>\n",
       "      <td>...</td>\n",
       "      <td>...</td>\n",
       "      <td>...</td>\n",
       "      <td>...</td>\n",
       "      <td>...</td>\n",
       "      <td>...</td>\n",
       "      <td>...</td>\n",
       "      <td>...</td>\n",
       "    </tr>\n",
       "    <tr>\n",
       "      <th>7620</th>\n",
       "      <td>Shed of the Dead</td>\n",
       "      <td>R</td>\n",
       "      <td>Comedy</td>\n",
       "      <td>2019</td>\n",
       "      <td>May 20, 2019 (United Kingdom)</td>\n",
       "      <td>4.7</td>\n",
       "      <td>1400.0</td>\n",
       "      <td>Drew Cullingham</td>\n",
       "      <td>Drew Cullingham</td>\n",
       "      <td>Spencer Brown</td>\n",
       "      <td>United Kingdom</td>\n",
       "      <td>NaN</td>\n",
       "      <td>38901.0</td>\n",
       "      <td>7DM Studios</td>\n",
       "      <td>82.0</td>\n",
       "      <td>Лица, не достигшие 16-летнего возраста, допуск...</td>\n",
       "      <td>Не для семейного просмотра</td>\n",
       "      <td>-1.587473</td>\n",
       "    </tr>\n",
       "    <tr>\n",
       "      <th>7626</th>\n",
       "      <td>No Manches Frida 2</td>\n",
       "      <td>R</td>\n",
       "      <td>Comedy</td>\n",
       "      <td>2019</td>\n",
       "      <td>March 15, 2019 (United States)</td>\n",
       "      <td>4.2</td>\n",
       "      <td>904.0</td>\n",
       "      <td>Nacho G. Velilla</td>\n",
       "      <td>Claudio Herrera</td>\n",
       "      <td>Martha Higareda</td>\n",
       "      <td>Mexico</td>\n",
       "      <td>NaN</td>\n",
       "      <td>26493648.0</td>\n",
       "      <td>Neverending Media</td>\n",
       "      <td>102.0</td>\n",
       "      <td>Лица, не достигшие 16-летнего возраста, допуск...</td>\n",
       "      <td>Не для семейного просмотра</td>\n",
       "      <td>-2.118761</td>\n",
       "    </tr>\n",
       "    <tr>\n",
       "      <th>7633</th>\n",
       "      <td>Tod@s Caen</td>\n",
       "      <td>PG-13</td>\n",
       "      <td>Comedy</td>\n",
       "      <td>2019</td>\n",
       "      <td>August 30, 2019 (United States)</td>\n",
       "      <td>4.9</td>\n",
       "      <td>550.0</td>\n",
       "      <td>Ariel Winograd</td>\n",
       "      <td>Cory Brusseau</td>\n",
       "      <td>Martha Higareda</td>\n",
       "      <td>Mexico</td>\n",
       "      <td>NaN</td>\n",
       "      <td>9667157.0</td>\n",
       "      <td>Neverending Media</td>\n",
       "      <td>120.0</td>\n",
       "      <td>Детям до 13 лет просмотр не желателен</td>\n",
       "      <td>Не для семейного просмотра</td>\n",
       "      <td>-1.374958</td>\n",
       "    </tr>\n",
       "    <tr>\n",
       "      <th>7656</th>\n",
       "      <td>Tulsa</td>\n",
       "      <td>PG-13</td>\n",
       "      <td>Comedy</td>\n",
       "      <td>2020</td>\n",
       "      <td>June 3, 2020 (United States)</td>\n",
       "      <td>5.0</td>\n",
       "      <td>294.0</td>\n",
       "      <td>Scott Pryor</td>\n",
       "      <td>Scott Pryor</td>\n",
       "      <td>Scott Pryor</td>\n",
       "      <td>United States</td>\n",
       "      <td>NaN</td>\n",
       "      <td>413378.0</td>\n",
       "      <td>Pryor Entertainment</td>\n",
       "      <td>120.0</td>\n",
       "      <td>Детям до 13 лет просмотр не желателен</td>\n",
       "      <td>Не для семейного просмотра</td>\n",
       "      <td>-1.268701</td>\n",
       "    </tr>\n",
       "    <tr>\n",
       "      <th>7664</th>\n",
       "      <td>Dream Round</td>\n",
       "      <td>NaN</td>\n",
       "      <td>Comedy</td>\n",
       "      <td>2020</td>\n",
       "      <td>February 7, 2020 (United States)</td>\n",
       "      <td>4.7</td>\n",
       "      <td>36.0</td>\n",
       "      <td>Dusty Dukatz</td>\n",
       "      <td>Lisa Huston</td>\n",
       "      <td>Michael Saquella</td>\n",
       "      <td>United States</td>\n",
       "      <td>NaN</td>\n",
       "      <td>NaN</td>\n",
       "      <td>Cactus Blue Entertainment</td>\n",
       "      <td>90.0</td>\n",
       "      <td>NaN</td>\n",
       "      <td>Не для семейного просмотра</td>\n",
       "      <td>-1.587473</td>\n",
       "    </tr>\n",
       "  </tbody>\n",
       "</table>\n",
       "<p>373 rows × 18 columns</p>\n",
       "</div>"
      ],
      "text/plain": [
       "                    name rating     genre  year  \\\n",
       "7639  Round of Your Life    NaN    Family  2019   \n",
       "262        The Seduction      R  Thriller  1982   \n",
       "838         Lune de miel      R  Thriller  1985   \n",
       "1421          Party Line      R  Thriller  1988   \n",
       "6699   The Boy Next Door      R  Thriller  2015   \n",
       "...                  ...    ...       ...   ...   \n",
       "7620    Shed of the Dead      R    Comedy  2019   \n",
       "7626  No Manches Frida 2      R    Comedy  2019   \n",
       "7633          Tod@s Caen  PG-13    Comedy  2019   \n",
       "7656               Tulsa  PG-13    Comedy  2020   \n",
       "7664         Dream Round    NaN    Comedy  2020   \n",
       "\n",
       "                              released  score    votes            director  \\\n",
       "7639     June 21, 2019 (United States)    4.6    150.0  Dylan Thomas Ellis   \n",
       "262   January 29, 1982 (United States)    4.9   1100.0    David Schmoeller   \n",
       "838         November 20, 1985 (France)    4.6    100.0      Patrick Jamain   \n",
       "1421      October 1988 (United States)    4.9    309.0        William Webb   \n",
       "6699  January 23, 2015 (United States)    4.7  40000.0           Rob Cohen   \n",
       "...                                ...    ...      ...                 ...   \n",
       "7620     May 20, 2019 (United Kingdom)    4.7   1400.0     Drew Cullingham   \n",
       "7626    March 15, 2019 (United States)    4.2    904.0    Nacho G. Velilla   \n",
       "7633   August 30, 2019 (United States)    4.9    550.0      Ariel Winograd   \n",
       "7656      June 3, 2020 (United States)    5.0    294.0         Scott Pryor   \n",
       "7664  February 7, 2020 (United States)    4.7     36.0        Dusty Dukatz   \n",
       "\n",
       "                writer              star         country     budget  \\\n",
       "7639      Tim Ogletree        Cole Allen   United States        NaN   \n",
       "262   David Schmoeller  Morgan Fairchild   United States        NaN   \n",
       "838   Robert Geoffrion     Nathalie Baye          France        NaN   \n",
       "1421   Richard Brandes     Richard Hatch   United States        NaN   \n",
       "6699     Barbara Curry    Jennifer Lopez   United States  4000000.0   \n",
       "...                ...               ...             ...        ...   \n",
       "7620   Drew Cullingham     Spencer Brown  United Kingdom        NaN   \n",
       "7626   Claudio Herrera   Martha Higareda          Mexico        NaN   \n",
       "7633     Cory Brusseau   Martha Higareda          Mexico        NaN   \n",
       "7656       Scott Pryor       Scott Pryor   United States        NaN   \n",
       "7664       Lisa Huston  Michael Saquella   United States        NaN   \n",
       "\n",
       "           gross                    company  runtime  \\\n",
       "7639     20941.0      Aristar Entertainment     91.0   \n",
       "262   11378339.0       The Romantic Venture    104.0   \n",
       "838          NaN                   Malofilm     98.0   \n",
       "1421         NaN                   Westwind     91.0   \n",
       "6699  52425855.0         Universal Pictures     91.0   \n",
       "...          ...                        ...      ...   \n",
       "7620     38901.0                7DM Studios     82.0   \n",
       "7626  26493648.0          Neverending Media    102.0   \n",
       "7633   9667157.0          Neverending Media    120.0   \n",
       "7656    413378.0        Pryor Entertainment    120.0   \n",
       "7664         NaN  Cactus Blue Entertainment     90.0   \n",
       "\n",
       "                                        Category rating  \\\n",
       "7639                                                NaN   \n",
       "262   Лица, не достигшие 16-летнего возраста, допуск...   \n",
       "838   Лица, не достигшие 16-летнего возраста, допуск...   \n",
       "1421  Лица, не достигшие 16-летнего возраста, допуск...   \n",
       "6699  Лица, не достигшие 16-летнего возраста, допуск...   \n",
       "...                                                 ...   \n",
       "7620  Лица, не достигшие 16-летнего возраста, допуск...   \n",
       "7626  Лица, не достигшие 16-летнего возраста, допуск...   \n",
       "7633              Детям до 13 лет просмотр не желателен   \n",
       "7656              Детям до 13 лет просмотр не желателен   \n",
       "7664                                                NaN   \n",
       "\n",
       "               Семейный просмотр   z-score  \n",
       "7639  Не для семейного просмотра -2.194368  \n",
       "262   Не для семейного просмотра -1.257212  \n",
       "838   Не для семейного просмотра -1.629720  \n",
       "1421  Не для семейного просмотра -1.257212  \n",
       "6699  Не для семейного просмотра -1.505551  \n",
       "...                          ...       ...  \n",
       "7620  Не для семейного просмотра -1.587473  \n",
       "7626  Не для семейного просмотра -2.118761  \n",
       "7633  Не для семейного просмотра -1.374958  \n",
       "7656  Не для семейного просмотра -1.268701  \n",
       "7664  Не для семейного просмотра -1.587473  \n",
       "\n",
       "[373 rows x 18 columns]"
      ]
     },
     "execution_count": 48,
     "metadata": {},
     "output_type": "execute_result"
    }
   ],
   "source": [
    "new[new['z-score'] < -1]"
   ]
  },
  {
   "cell_type": "markdown",
   "id": "55eece75",
   "metadata": {},
   "source": [
    "Получаем, что фильмы жанра семейные имеют самые низкие оценки, но не имеющие рейтинга чтобы допустить для семейного просмотра"
   ]
  },
  {
   "cell_type": "code",
   "execution_count": 49,
   "id": "e3a913d7",
   "metadata": {
    "scrolled": true
   },
   "outputs": [
    {
     "data": {
      "text/html": [
       "<div>\n",
       "<style scoped>\n",
       "    .dataframe tbody tr th:only-of-type {\n",
       "        vertical-align: middle;\n",
       "    }\n",
       "\n",
       "    .dataframe tbody tr th {\n",
       "        vertical-align: top;\n",
       "    }\n",
       "\n",
       "    .dataframe thead th {\n",
       "        text-align: right;\n",
       "    }\n",
       "</style>\n",
       "<table border=\"1\" class=\"dataframe\">\n",
       "  <thead>\n",
       "    <tr style=\"text-align: right;\">\n",
       "      <th></th>\n",
       "      <th>name</th>\n",
       "      <th>rating</th>\n",
       "      <th>genre</th>\n",
       "      <th>year</th>\n",
       "      <th>released</th>\n",
       "      <th>score</th>\n",
       "      <th>votes</th>\n",
       "      <th>director</th>\n",
       "      <th>writer</th>\n",
       "      <th>star</th>\n",
       "      <th>country</th>\n",
       "      <th>budget</th>\n",
       "      <th>gross</th>\n",
       "      <th>company</th>\n",
       "      <th>runtime</th>\n",
       "      <th>Category rating</th>\n",
       "      <th>Семейный просмотр</th>\n",
       "    </tr>\n",
       "  </thead>\n",
       "  <tbody>\n",
       "    <tr>\n",
       "      <th>0</th>\n",
       "      <td>The Shining</td>\n",
       "      <td>R</td>\n",
       "      <td>Drama</td>\n",
       "      <td>1980</td>\n",
       "      <td>June 13, 1980 (United States)</td>\n",
       "      <td>8.4</td>\n",
       "      <td>927000.0</td>\n",
       "      <td>Stanley Kubrick</td>\n",
       "      <td>Stephen King</td>\n",
       "      <td>Jack Nicholson</td>\n",
       "      <td>United Kingdom</td>\n",
       "      <td>19000000.0</td>\n",
       "      <td>46998772.0</td>\n",
       "      <td>Warner Bros.</td>\n",
       "      <td>146.0</td>\n",
       "      <td>Лица, не достигшие 16-летнего возраста, допуск...</td>\n",
       "      <td>Не для семейного просмотра</td>\n",
       "    </tr>\n",
       "    <tr>\n",
       "      <th>1</th>\n",
       "      <td>The Blue Lagoon</td>\n",
       "      <td>R</td>\n",
       "      <td>Adventure</td>\n",
       "      <td>1980</td>\n",
       "      <td>July 2, 1980 (United States)</td>\n",
       "      <td>5.8</td>\n",
       "      <td>65000.0</td>\n",
       "      <td>Randal Kleiser</td>\n",
       "      <td>Henry De Vere Stacpoole</td>\n",
       "      <td>Brooke Shields</td>\n",
       "      <td>United States</td>\n",
       "      <td>4500000.0</td>\n",
       "      <td>58853106.0</td>\n",
       "      <td>Columbia Pictures</td>\n",
       "      <td>104.0</td>\n",
       "      <td>Лица, не достигшие 16-летнего возраста, допуск...</td>\n",
       "      <td>Не для семейного просмотра</td>\n",
       "    </tr>\n",
       "    <tr>\n",
       "      <th>2</th>\n",
       "      <td>Star Wars: Episode V - The Empire Strikes Back</td>\n",
       "      <td>PG</td>\n",
       "      <td>Action</td>\n",
       "      <td>1980</td>\n",
       "      <td>June 20, 1980 (United States)</td>\n",
       "      <td>8.7</td>\n",
       "      <td>1200000.0</td>\n",
       "      <td>Irvin Kershner</td>\n",
       "      <td>Leigh Brackett</td>\n",
       "      <td>Mark Hamill</td>\n",
       "      <td>United States</td>\n",
       "      <td>18000000.0</td>\n",
       "      <td>538375067.0</td>\n",
       "      <td>Lucasfilm</td>\n",
       "      <td>124.0</td>\n",
       "      <td>Желательно присутствие родителей</td>\n",
       "      <td>Для семейного просмотра</td>\n",
       "    </tr>\n",
       "    <tr>\n",
       "      <th>3</th>\n",
       "      <td>Airplane!</td>\n",
       "      <td>PG</td>\n",
       "      <td>Comedy</td>\n",
       "      <td>1980</td>\n",
       "      <td>July 2, 1980 (United States)</td>\n",
       "      <td>7.7</td>\n",
       "      <td>221000.0</td>\n",
       "      <td>Jim Abrahams</td>\n",
       "      <td>Jim Abrahams</td>\n",
       "      <td>Robert Hays</td>\n",
       "      <td>United States</td>\n",
       "      <td>3500000.0</td>\n",
       "      <td>83453539.0</td>\n",
       "      <td>Paramount Pictures</td>\n",
       "      <td>88.0</td>\n",
       "      <td>Желательно присутствие родителей</td>\n",
       "      <td>Для семейного просмотра</td>\n",
       "    </tr>\n",
       "    <tr>\n",
       "      <th>4</th>\n",
       "      <td>Caddyshack</td>\n",
       "      <td>R</td>\n",
       "      <td>Comedy</td>\n",
       "      <td>1980</td>\n",
       "      <td>July 25, 1980 (United States)</td>\n",
       "      <td>7.3</td>\n",
       "      <td>108000.0</td>\n",
       "      <td>Harold Ramis</td>\n",
       "      <td>Brian Doyle-Murray</td>\n",
       "      <td>Chevy Chase</td>\n",
       "      <td>United States</td>\n",
       "      <td>6000000.0</td>\n",
       "      <td>39846344.0</td>\n",
       "      <td>Orion Pictures</td>\n",
       "      <td>98.0</td>\n",
       "      <td>Лица, не достигшие 16-летнего возраста, допуск...</td>\n",
       "      <td>Не для семейного просмотра</td>\n",
       "    </tr>\n",
       "  </tbody>\n",
       "</table>\n",
       "</div>"
      ],
      "text/plain": [
       "                                             name rating      genre  year  \\\n",
       "0                                     The Shining      R      Drama  1980   \n",
       "1                                 The Blue Lagoon      R  Adventure  1980   \n",
       "2  Star Wars: Episode V - The Empire Strikes Back     PG     Action  1980   \n",
       "3                                       Airplane!     PG     Comedy  1980   \n",
       "4                                      Caddyshack      R     Comedy  1980   \n",
       "\n",
       "                        released  score      votes         director  \\\n",
       "0  June 13, 1980 (United States)    8.4   927000.0  Stanley Kubrick   \n",
       "1   July 2, 1980 (United States)    5.8    65000.0   Randal Kleiser   \n",
       "2  June 20, 1980 (United States)    8.7  1200000.0   Irvin Kershner   \n",
       "3   July 2, 1980 (United States)    7.7   221000.0     Jim Abrahams   \n",
       "4  July 25, 1980 (United States)    7.3   108000.0     Harold Ramis   \n",
       "\n",
       "                    writer            star         country      budget  \\\n",
       "0             Stephen King  Jack Nicholson  United Kingdom  19000000.0   \n",
       "1  Henry De Vere Stacpoole  Brooke Shields   United States   4500000.0   \n",
       "2           Leigh Brackett     Mark Hamill   United States  18000000.0   \n",
       "3             Jim Abrahams     Robert Hays   United States   3500000.0   \n",
       "4       Brian Doyle-Murray     Chevy Chase   United States   6000000.0   \n",
       "\n",
       "         gross             company  runtime  \\\n",
       "0   46998772.0        Warner Bros.    146.0   \n",
       "1   58853106.0   Columbia Pictures    104.0   \n",
       "2  538375067.0           Lucasfilm    124.0   \n",
       "3   83453539.0  Paramount Pictures     88.0   \n",
       "4   39846344.0      Orion Pictures     98.0   \n",
       "\n",
       "                                     Category rating  \\\n",
       "0  Лица, не достигшие 16-летнего возраста, допуск...   \n",
       "1  Лица, не достигшие 16-летнего возраста, допуск...   \n",
       "2                   Желательно присутствие родителей   \n",
       "3                   Желательно присутствие родителей   \n",
       "4  Лица, не достигшие 16-летнего возраста, допуск...   \n",
       "\n",
       "            Семейный просмотр  \n",
       "0  Не для семейного просмотра  \n",
       "1  Не для семейного просмотра  \n",
       "2     Для семейного просмотра  \n",
       "3     Для семейного просмотра  \n",
       "4  Не для семейного просмотра  "
      ]
     },
     "execution_count": 49,
     "metadata": {},
     "output_type": "execute_result"
    }
   ],
   "source": [
    "df_movies.to_pickle('/Users/rtt/DataScience/Goodfilms_for_family.pkl')\n",
    "df = pd.read_pickle('/Users/rtt/DataScience/Goodfilms_for_family.pkl')\n",
    "df.head()"
   ]
  },
  {
   "cell_type": "markdown",
   "id": "62172424",
   "metadata": {},
   "source": [
    "Поработаем с пропущенными значениями"
   ]
  },
  {
   "cell_type": "code",
   "execution_count": 50,
   "id": "df3d2a3a",
   "metadata": {},
   "outputs": [
    {
     "data": {
      "text/plain": [
       "name                    0\n",
       "rating                 77\n",
       "genre                   0\n",
       "year                    0\n",
       "released                2\n",
       "score                   3\n",
       "votes                   3\n",
       "director                0\n",
       "writer                  3\n",
       "star                    1\n",
       "country                 3\n",
       "budget               2171\n",
       "gross                 189\n",
       "company                17\n",
       "runtime                 4\n",
       "Category rating        77\n",
       "Семейный просмотр       0\n",
       "dtype: int64"
      ]
     },
     "execution_count": 50,
     "metadata": {},
     "output_type": "execute_result"
    }
   ],
   "source": [
    "df.isna().sum() "
   ]
  },
  {
   "cell_type": "markdown",
   "id": "35174028",
   "metadata": {},
   "source": [
    "Заполним пропущенные значения в budget, для каждого года и каждого жанра "
   ]
  },
  {
   "cell_type": "code",
   "execution_count": 51,
   "id": "ece31fe1",
   "metadata": {},
   "outputs": [],
   "source": [
    "t = df.groupby([df['year']])['budget'].transform('median')"
   ]
  },
  {
   "cell_type": "code",
   "execution_count": 52,
   "id": "c29f6b0c",
   "metadata": {},
   "outputs": [],
   "source": [
    "df['budget_median'] = df['budget'].fillna(t)"
   ]
  },
  {
   "cell_type": "code",
   "execution_count": 53,
   "id": "223d80f0",
   "metadata": {},
   "outputs": [],
   "source": [
    "df['budget'] = df['budget'].fillna(t)"
   ]
  },
  {
   "cell_type": "code",
   "execution_count": 54,
   "id": "6c058676",
   "metadata": {},
   "outputs": [],
   "source": [
    "del df['budget_median'] #удалим колонку 'budget_median'"
   ]
  },
  {
   "cell_type": "markdown",
   "id": "57ef2211",
   "metadata": {},
   "source": [
    "Заполним пропущенные значения в gross, для каждого года и каждого жанра сформируя при этом массив"
   ]
  },
  {
   "cell_type": "code",
   "execution_count": 55,
   "id": "d0171495",
   "metadata": {},
   "outputs": [],
   "source": [
    "t1 = df.groupby([df['year']])['gross'].transform('median')"
   ]
  },
  {
   "cell_type": "code",
   "execution_count": 56,
   "id": "5ffcfb0d",
   "metadata": {},
   "outputs": [],
   "source": [
    "df['gross'] = df['gross'].fillna(t1) #перезапишем колонку gross"
   ]
  },
  {
   "cell_type": "code",
   "execution_count": 57,
   "id": "65a17bfb",
   "metadata": {},
   "outputs": [],
   "source": [
    "t2 = df.groupby([df['year']])['score'].transform('median') #функция для заполнения пустых значений медианным значением"
   ]
  },
  {
   "cell_type": "code",
   "execution_count": 58,
   "id": "a5a6e846",
   "metadata": {},
   "outputs": [],
   "source": [
    "df['score'] = df['score'].fillna(t2) #перезапишем колонку score"
   ]
  },
  {
   "cell_type": "markdown",
   "id": "0f5b876a",
   "metadata": {},
   "source": [
    "Так как в колонке рейтинг у нас есть незаполненные ячейки, укажем там, что несовершеннолетним зрителем можно смотреть кино только под родительским контролем "
   ]
  },
  {
   "cell_type": "code",
   "execution_count": 59,
   "id": "f2e873c2",
   "metadata": {},
   "outputs": [],
   "source": [
    "df['rating'] = df['rating'].fillna('PG')"
   ]
  },
  {
   "cell_type": "code",
   "execution_count": 60,
   "id": "e6cb2652",
   "metadata": {},
   "outputs": [],
   "source": [
    "t3 = df.groupby([df['year']])['votes'].transform('median')\n",
    "df['votes'] = df['votes'].fillna(t3)"
   ]
  },
  {
   "cell_type": "code",
   "execution_count": 61,
   "id": "e672f2da",
   "metadata": {},
   "outputs": [],
   "source": [
    "df['writer'] = df['writer'].fillna('Cool man')"
   ]
  },
  {
   "cell_type": "code",
   "execution_count": 62,
   "id": "4438bea2",
   "metadata": {},
   "outputs": [],
   "source": [
    "df['star'] = df['star'].fillna('Mega star')"
   ]
  },
  {
   "cell_type": "code",
   "execution_count": 63,
   "id": "ff9867d0",
   "metadata": {},
   "outputs": [],
   "source": [
    "df['company'] = df['company'].fillna('Warner Brother')"
   ]
  },
  {
   "cell_type": "code",
   "execution_count": 64,
   "id": "73c1c952",
   "metadata": {},
   "outputs": [],
   "source": [
    "df['country'] = df['country'].fillna('United States')"
   ]
  },
  {
   "cell_type": "code",
   "execution_count": 65,
   "id": "77fb4624",
   "metadata": {},
   "outputs": [],
   "source": [
    "df['runtime'] = df['runtime'].fillna('median')"
   ]
  },
  {
   "cell_type": "code",
   "execution_count": 66,
   "id": "36e1e2b7",
   "metadata": {},
   "outputs": [],
   "source": [
    "df['Category rating'] = df['Category rating'].fillna('Детям до 13 лет просмотр не желателен')"
   ]
  },
  {
   "cell_type": "markdown",
   "id": "6fc6dccc",
   "metadata": {},
   "source": [
    "Проверяем, все ли ячейки заполнены"
   ]
  },
  {
   "cell_type": "code",
   "execution_count": 67,
   "id": "45a81e26",
   "metadata": {},
   "outputs": [
    {
     "name": "stdout",
     "output_type": "stream",
     "text": [
      "<class 'pandas.core.frame.DataFrame'>\n",
      "RangeIndex: 7668 entries, 0 to 7667\n",
      "Data columns (total 17 columns):\n",
      " #   Column             Non-Null Count  Dtype   \n",
      "---  ------             --------------  -----   \n",
      " 0   name               7668 non-null   object  \n",
      " 1   rating             7668 non-null   object  \n",
      " 2   genre              7668 non-null   object  \n",
      " 3   year               7668 non-null   int64   \n",
      " 4   released           7666 non-null   object  \n",
      " 5   score              7668 non-null   float64 \n",
      " 6   votes              7668 non-null   float64 \n",
      " 7   director           7668 non-null   object  \n",
      " 8   writer             7668 non-null   object  \n",
      " 9   star               7668 non-null   object  \n",
      " 10  country            7668 non-null   object  \n",
      " 11  budget             7668 non-null   float64 \n",
      " 12  gross              7668 non-null   float64 \n",
      " 13  company            7668 non-null   object  \n",
      " 14  runtime            7668 non-null   object  \n",
      " 15  Category rating    7668 non-null   category\n",
      " 16  Семейный просмотр  7668 non-null   object  \n",
      "dtypes: category(1), float64(4), int64(1), object(11)\n",
      "memory usage: 966.5+ KB\n"
     ]
    }
   ],
   "source": [
    "df.info()"
   ]
  },
  {
   "cell_type": "code",
   "execution_count": 68,
   "id": "d2f19d77",
   "metadata": {},
   "outputs": [],
   "source": [
    "df.to_pickle('/Users/rtt/DataScience/Goodfilms_Imputed1.pkl')"
   ]
  },
  {
   "cell_type": "code",
   "execution_count": 69,
   "id": "ec1eb892",
   "metadata": {
    "scrolled": true
   },
   "outputs": [
    {
     "data": {
      "text/html": [
       "<div>\n",
       "<style scoped>\n",
       "    .dataframe tbody tr th:only-of-type {\n",
       "        vertical-align: middle;\n",
       "    }\n",
       "\n",
       "    .dataframe tbody tr th {\n",
       "        vertical-align: top;\n",
       "    }\n",
       "\n",
       "    .dataframe thead th {\n",
       "        text-align: right;\n",
       "    }\n",
       "</style>\n",
       "<table border=\"1\" class=\"dataframe\">\n",
       "  <thead>\n",
       "    <tr style=\"text-align: right;\">\n",
       "      <th></th>\n",
       "      <th>name</th>\n",
       "      <th>rating</th>\n",
       "      <th>genre</th>\n",
       "      <th>year</th>\n",
       "      <th>released</th>\n",
       "      <th>score</th>\n",
       "      <th>votes</th>\n",
       "      <th>director</th>\n",
       "      <th>writer</th>\n",
       "      <th>star</th>\n",
       "      <th>country</th>\n",
       "      <th>budget</th>\n",
       "      <th>gross</th>\n",
       "      <th>company</th>\n",
       "      <th>runtime</th>\n",
       "      <th>Category rating</th>\n",
       "      <th>Семейный просмотр</th>\n",
       "    </tr>\n",
       "  </thead>\n",
       "  <tbody>\n",
       "    <tr>\n",
       "      <th>0</th>\n",
       "      <td>The Shining</td>\n",
       "      <td>R</td>\n",
       "      <td>Drama</td>\n",
       "      <td>1980</td>\n",
       "      <td>June 13, 1980 (United States)</td>\n",
       "      <td>8.4</td>\n",
       "      <td>927000.0</td>\n",
       "      <td>Stanley Kubrick</td>\n",
       "      <td>Stephen King</td>\n",
       "      <td>Jack Nicholson</td>\n",
       "      <td>United Kingdom</td>\n",
       "      <td>19000000.0</td>\n",
       "      <td>46998772.0</td>\n",
       "      <td>Warner Bros.</td>\n",
       "      <td>146.0</td>\n",
       "      <td>Лица, не достигшие 16-летнего возраста, допуск...</td>\n",
       "      <td>Не для семейного просмотра</td>\n",
       "    </tr>\n",
       "    <tr>\n",
       "      <th>1</th>\n",
       "      <td>The Blue Lagoon</td>\n",
       "      <td>R</td>\n",
       "      <td>Adventure</td>\n",
       "      <td>1980</td>\n",
       "      <td>July 2, 1980 (United States)</td>\n",
       "      <td>5.8</td>\n",
       "      <td>65000.0</td>\n",
       "      <td>Randal Kleiser</td>\n",
       "      <td>Henry De Vere Stacpoole</td>\n",
       "      <td>Brooke Shields</td>\n",
       "      <td>United States</td>\n",
       "      <td>4500000.0</td>\n",
       "      <td>58853106.0</td>\n",
       "      <td>Columbia Pictures</td>\n",
       "      <td>104.0</td>\n",
       "      <td>Лица, не достигшие 16-летнего возраста, допуск...</td>\n",
       "      <td>Не для семейного просмотра</td>\n",
       "    </tr>\n",
       "    <tr>\n",
       "      <th>2</th>\n",
       "      <td>Star Wars: Episode V - The Empire Strikes Back</td>\n",
       "      <td>PG</td>\n",
       "      <td>Action</td>\n",
       "      <td>1980</td>\n",
       "      <td>June 20, 1980 (United States)</td>\n",
       "      <td>8.7</td>\n",
       "      <td>1200000.0</td>\n",
       "      <td>Irvin Kershner</td>\n",
       "      <td>Leigh Brackett</td>\n",
       "      <td>Mark Hamill</td>\n",
       "      <td>United States</td>\n",
       "      <td>18000000.0</td>\n",
       "      <td>538375067.0</td>\n",
       "      <td>Lucasfilm</td>\n",
       "      <td>124.0</td>\n",
       "      <td>Желательно присутствие родителей</td>\n",
       "      <td>Для семейного просмотра</td>\n",
       "    </tr>\n",
       "    <tr>\n",
       "      <th>3</th>\n",
       "      <td>Airplane!</td>\n",
       "      <td>PG</td>\n",
       "      <td>Comedy</td>\n",
       "      <td>1980</td>\n",
       "      <td>July 2, 1980 (United States)</td>\n",
       "      <td>7.7</td>\n",
       "      <td>221000.0</td>\n",
       "      <td>Jim Abrahams</td>\n",
       "      <td>Jim Abrahams</td>\n",
       "      <td>Robert Hays</td>\n",
       "      <td>United States</td>\n",
       "      <td>3500000.0</td>\n",
       "      <td>83453539.0</td>\n",
       "      <td>Paramount Pictures</td>\n",
       "      <td>88.0</td>\n",
       "      <td>Желательно присутствие родителей</td>\n",
       "      <td>Для семейного просмотра</td>\n",
       "    </tr>\n",
       "    <tr>\n",
       "      <th>4</th>\n",
       "      <td>Caddyshack</td>\n",
       "      <td>R</td>\n",
       "      <td>Comedy</td>\n",
       "      <td>1980</td>\n",
       "      <td>July 25, 1980 (United States)</td>\n",
       "      <td>7.3</td>\n",
       "      <td>108000.0</td>\n",
       "      <td>Harold Ramis</td>\n",
       "      <td>Brian Doyle-Murray</td>\n",
       "      <td>Chevy Chase</td>\n",
       "      <td>United States</td>\n",
       "      <td>6000000.0</td>\n",
       "      <td>39846344.0</td>\n",
       "      <td>Orion Pictures</td>\n",
       "      <td>98.0</td>\n",
       "      <td>Лица, не достигшие 16-летнего возраста, допуск...</td>\n",
       "      <td>Не для семейного просмотра</td>\n",
       "    </tr>\n",
       "    <tr>\n",
       "      <th>...</th>\n",
       "      <td>...</td>\n",
       "      <td>...</td>\n",
       "      <td>...</td>\n",
       "      <td>...</td>\n",
       "      <td>...</td>\n",
       "      <td>...</td>\n",
       "      <td>...</td>\n",
       "      <td>...</td>\n",
       "      <td>...</td>\n",
       "      <td>...</td>\n",
       "      <td>...</td>\n",
       "      <td>...</td>\n",
       "      <td>...</td>\n",
       "      <td>...</td>\n",
       "      <td>...</td>\n",
       "      <td>...</td>\n",
       "      <td>...</td>\n",
       "    </tr>\n",
       "    <tr>\n",
       "      <th>7663</th>\n",
       "      <td>More to Life</td>\n",
       "      <td>PG</td>\n",
       "      <td>Drama</td>\n",
       "      <td>2020</td>\n",
       "      <td>October 23, 2020 (United States)</td>\n",
       "      <td>3.1</td>\n",
       "      <td>18.0</td>\n",
       "      <td>Joseph Ebanks</td>\n",
       "      <td>Joseph Ebanks</td>\n",
       "      <td>Shannon Bond</td>\n",
       "      <td>United States</td>\n",
       "      <td>7000.0</td>\n",
       "      <td>166534027.0</td>\n",
       "      <td>Warner Brother</td>\n",
       "      <td>90.0</td>\n",
       "      <td>Детям до 13 лет просмотр не желателен</td>\n",
       "      <td>Не для семейного просмотра</td>\n",
       "    </tr>\n",
       "    <tr>\n",
       "      <th>7664</th>\n",
       "      <td>Dream Round</td>\n",
       "      <td>PG</td>\n",
       "      <td>Comedy</td>\n",
       "      <td>2020</td>\n",
       "      <td>February 7, 2020 (United States)</td>\n",
       "      <td>4.7</td>\n",
       "      <td>36.0</td>\n",
       "      <td>Dusty Dukatz</td>\n",
       "      <td>Lisa Huston</td>\n",
       "      <td>Michael Saquella</td>\n",
       "      <td>United States</td>\n",
       "      <td>7000000.0</td>\n",
       "      <td>166534027.0</td>\n",
       "      <td>Cactus Blue Entertainment</td>\n",
       "      <td>90.0</td>\n",
       "      <td>Детям до 13 лет просмотр не желателен</td>\n",
       "      <td>Не для семейного просмотра</td>\n",
       "    </tr>\n",
       "    <tr>\n",
       "      <th>7665</th>\n",
       "      <td>Saving Mbango</td>\n",
       "      <td>PG</td>\n",
       "      <td>Drama</td>\n",
       "      <td>2020</td>\n",
       "      <td>April 27, 2020 (Cameroon)</td>\n",
       "      <td>5.7</td>\n",
       "      <td>29.0</td>\n",
       "      <td>Nkanya Nkwai</td>\n",
       "      <td>Lynno Lovert</td>\n",
       "      <td>Onyama Laura</td>\n",
       "      <td>United States</td>\n",
       "      <td>58750.0</td>\n",
       "      <td>166534027.0</td>\n",
       "      <td>Embi Productions</td>\n",
       "      <td>median</td>\n",
       "      <td>Детям до 13 лет просмотр не желателен</td>\n",
       "      <td>Не для семейного просмотра</td>\n",
       "    </tr>\n",
       "    <tr>\n",
       "      <th>7666</th>\n",
       "      <td>It's Just Us</td>\n",
       "      <td>PG</td>\n",
       "      <td>Drama</td>\n",
       "      <td>2020</td>\n",
       "      <td>October 1, 2020 (United States)</td>\n",
       "      <td>6.3</td>\n",
       "      <td>1850.0</td>\n",
       "      <td>James Randall</td>\n",
       "      <td>James Randall</td>\n",
       "      <td>Christina Roz</td>\n",
       "      <td>United States</td>\n",
       "      <td>15000.0</td>\n",
       "      <td>166534027.0</td>\n",
       "      <td>Warner Brother</td>\n",
       "      <td>120.0</td>\n",
       "      <td>Детям до 13 лет просмотр не желателен</td>\n",
       "      <td>Не для семейного просмотра</td>\n",
       "    </tr>\n",
       "    <tr>\n",
       "      <th>7667</th>\n",
       "      <td>Tee em el</td>\n",
       "      <td>PG</td>\n",
       "      <td>Horror</td>\n",
       "      <td>2020</td>\n",
       "      <td>August 19, 2020 (United States)</td>\n",
       "      <td>5.7</td>\n",
       "      <td>7.0</td>\n",
       "      <td>Pereko Mosia</td>\n",
       "      <td>Pereko Mosia</td>\n",
       "      <td>Siyabonga Mabaso</td>\n",
       "      <td>South Africa</td>\n",
       "      <td>7000000.0</td>\n",
       "      <td>166534027.0</td>\n",
       "      <td>PK 65 Films</td>\n",
       "      <td>102.0</td>\n",
       "      <td>Детям до 13 лет просмотр не желателен</td>\n",
       "      <td>Не для семейного просмотра</td>\n",
       "    </tr>\n",
       "  </tbody>\n",
       "</table>\n",
       "<p>7668 rows × 17 columns</p>\n",
       "</div>"
      ],
      "text/plain": [
       "                                                name rating      genre  year  \\\n",
       "0                                        The Shining      R      Drama  1980   \n",
       "1                                    The Blue Lagoon      R  Adventure  1980   \n",
       "2     Star Wars: Episode V - The Empire Strikes Back     PG     Action  1980   \n",
       "3                                          Airplane!     PG     Comedy  1980   \n",
       "4                                         Caddyshack      R     Comedy  1980   \n",
       "...                                              ...    ...        ...   ...   \n",
       "7663                                    More to Life     PG      Drama  2020   \n",
       "7664                                     Dream Round     PG     Comedy  2020   \n",
       "7665                                   Saving Mbango     PG      Drama  2020   \n",
       "7666                                    It's Just Us     PG      Drama  2020   \n",
       "7667                                       Tee em el     PG     Horror  2020   \n",
       "\n",
       "                              released  score      votes         director  \\\n",
       "0        June 13, 1980 (United States)    8.4   927000.0  Stanley Kubrick   \n",
       "1         July 2, 1980 (United States)    5.8    65000.0   Randal Kleiser   \n",
       "2        June 20, 1980 (United States)    8.7  1200000.0   Irvin Kershner   \n",
       "3         July 2, 1980 (United States)    7.7   221000.0     Jim Abrahams   \n",
       "4        July 25, 1980 (United States)    7.3   108000.0     Harold Ramis   \n",
       "...                                ...    ...        ...              ...   \n",
       "7663  October 23, 2020 (United States)    3.1       18.0    Joseph Ebanks   \n",
       "7664  February 7, 2020 (United States)    4.7       36.0     Dusty Dukatz   \n",
       "7665         April 27, 2020 (Cameroon)    5.7       29.0     Nkanya Nkwai   \n",
       "7666   October 1, 2020 (United States)    6.3     1850.0    James Randall   \n",
       "7667   August 19, 2020 (United States)    5.7        7.0     Pereko Mosia   \n",
       "\n",
       "                       writer              star         country      budget  \\\n",
       "0                Stephen King    Jack Nicholson  United Kingdom  19000000.0   \n",
       "1     Henry De Vere Stacpoole    Brooke Shields   United States   4500000.0   \n",
       "2              Leigh Brackett       Mark Hamill   United States  18000000.0   \n",
       "3                Jim Abrahams       Robert Hays   United States   3500000.0   \n",
       "4          Brian Doyle-Murray       Chevy Chase   United States   6000000.0   \n",
       "...                       ...               ...             ...         ...   \n",
       "7663            Joseph Ebanks      Shannon Bond   United States      7000.0   \n",
       "7664              Lisa Huston  Michael Saquella   United States   7000000.0   \n",
       "7665             Lynno Lovert      Onyama Laura   United States     58750.0   \n",
       "7666            James Randall     Christina Roz   United States     15000.0   \n",
       "7667             Pereko Mosia  Siyabonga Mabaso    South Africa   7000000.0   \n",
       "\n",
       "            gross                    company runtime  \\\n",
       "0      46998772.0               Warner Bros.   146.0   \n",
       "1      58853106.0          Columbia Pictures   104.0   \n",
       "2     538375067.0                  Lucasfilm   124.0   \n",
       "3      83453539.0         Paramount Pictures    88.0   \n",
       "4      39846344.0             Orion Pictures    98.0   \n",
       "...           ...                        ...     ...   \n",
       "7663  166534027.0             Warner Brother    90.0   \n",
       "7664  166534027.0  Cactus Blue Entertainment    90.0   \n",
       "7665  166534027.0           Embi Productions  median   \n",
       "7666  166534027.0             Warner Brother   120.0   \n",
       "7667  166534027.0                PK 65 Films   102.0   \n",
       "\n",
       "                                        Category rating  \\\n",
       "0     Лица, не достигшие 16-летнего возраста, допуск...   \n",
       "1     Лица, не достигшие 16-летнего возраста, допуск...   \n",
       "2                      Желательно присутствие родителей   \n",
       "3                      Желательно присутствие родителей   \n",
       "4     Лица, не достигшие 16-летнего возраста, допуск...   \n",
       "...                                                 ...   \n",
       "7663              Детям до 13 лет просмотр не желателен   \n",
       "7664              Детям до 13 лет просмотр не желателен   \n",
       "7665              Детям до 13 лет просмотр не желателен   \n",
       "7666              Детям до 13 лет просмотр не желателен   \n",
       "7667              Детям до 13 лет просмотр не желателен   \n",
       "\n",
       "               Семейный просмотр  \n",
       "0     Не для семейного просмотра  \n",
       "1     Не для семейного просмотра  \n",
       "2        Для семейного просмотра  \n",
       "3        Для семейного просмотра  \n",
       "4     Не для семейного просмотра  \n",
       "...                          ...  \n",
       "7663  Не для семейного просмотра  \n",
       "7664  Не для семейного просмотра  \n",
       "7665  Не для семейного просмотра  \n",
       "7666  Не для семейного просмотра  \n",
       "7667  Не для семейного просмотра  \n",
       "\n",
       "[7668 rows x 17 columns]"
      ]
     },
     "execution_count": 69,
     "metadata": {},
     "output_type": "execute_result"
    }
   ],
   "source": [
    "df = pd.read_pickle('/Users/rtt/DataScience/Goodfilms_Imputed1.pkl')\n",
    "df"
   ]
  },
  {
   "cell_type": "markdown",
   "id": "88091213",
   "metadata": {},
   "source": [
    "# Корреляция"
   ]
  },
  {
   "cell_type": "markdown",
   "id": "03906d21",
   "metadata": {},
   "source": [
    "Корреляция между чистой прибылью и оценкой фильмов"
   ]
  },
  {
   "cell_type": "code",
   "execution_count": 70,
   "id": "6700af9b",
   "metadata": {},
   "outputs": [
    {
     "data": {
      "text/plain": [
       "0.18530370723338552"
      ]
     },
     "execution_count": 70,
     "metadata": {},
     "output_type": "execute_result"
    }
   ],
   "source": [
    "df['score'].corr(df['gross'])"
   ]
  },
  {
   "cell_type": "markdown",
   "id": "04bb346a",
   "metadata": {},
   "source": [
    "Корреляция между бюджетом и оценкой фильма"
   ]
  },
  {
   "cell_type": "code",
   "execution_count": 71,
   "id": "0ce7508a",
   "metadata": {},
   "outputs": [
    {
     "data": {
      "text/plain": [
       "0.0784481052681679"
      ]
     },
     "execution_count": 71,
     "metadata": {},
     "output_type": "execute_result"
    }
   ],
   "source": [
    "df['budget'].corr(df['score'])"
   ]
  },
  {
   "cell_type": "markdown",
   "id": "a337d7af",
   "metadata": {},
   "source": [
    "Корреляция между годом выпуска и оценкой фильма"
   ]
  },
  {
   "cell_type": "code",
   "execution_count": 72,
   "id": "e6b3b23f",
   "metadata": {},
   "outputs": [
    {
     "data": {
      "text/plain": [
       "0.09787141669568081"
      ]
     },
     "execution_count": 72,
     "metadata": {},
     "output_type": "execute_result"
    }
   ],
   "source": [
    "df['year'].corr(df['score'])"
   ]
  },
  {
   "cell_type": "code",
   "execution_count": 73,
   "id": "87efe754",
   "metadata": {},
   "outputs": [
    {
     "data": {
      "text/plain": [
       "0.40917845069465664"
      ]
     },
     "execution_count": 73,
     "metadata": {},
     "output_type": "execute_result"
    }
   ],
   "source": [
    "df['score'].corr(df['votes'])"
   ]
  },
  {
   "cell_type": "markdown",
   "id": "49766ee1",
   "metadata": {},
   "source": [
    "Корреляция между оценкой фильмов и голосованием является самой сильной из всех выше приведенных корреляций. Это повод предположить, что оценка фильма зависит от количества голосовавших за него людей, и если коичество голосовавших очень мало, то получается, что оценка фильма может быть либо завышенной или заниженной"
   ]
  },
  {
   "cell_type": "markdown",
   "id": "b2c9bd64",
   "metadata": {},
   "source": [
    "Сделаем визуализацию на графике для голосования и оценок"
   ]
  },
  {
   "cell_type": "code",
   "execution_count": 74,
   "id": "d3a1c8db",
   "metadata": {},
   "outputs": [
    {
     "data": {
      "text/plain": [
       "<AxesSubplot:xlabel='score', ylabel='votes'>"
      ]
     },
     "execution_count": 74,
     "metadata": {},
     "output_type": "execute_result"
    },
    {
     "data": {
      "image/png": "[encoded data removed]",
      "text/plain": [
       "<Figure size 432x288 with 1 Axes>"
      ]
     },
     "metadata": {
      "needs_background": "light"
     },
     "output_type": "display_data"
    }
   ],
   "source": [
    "df.plot('score','votes', kind = 'scatter', color = 'red', label = 'Зависимость оценок от количества голосующих')"
   ]
  },
  {
   "cell_type": "markdown",
   "id": "f06b1c08",
   "metadata": {},
   "source": [
    "Через данную визуализацию можно увидеть, что кол-во высоких оценок ставит очень малый процент людей, а также, что люди имеют завышенные ожидания от фильмов, так как в большинстве своем люди склонны давать низкие оценки"
   ]
  },
  {
   "cell_type": "code",
   "execution_count": 75,
   "id": "24648a99",
   "metadata": {},
   "outputs": [
    {
     "data": {
      "text/plain": [
       "<AxesSubplot:xlabel='year', ylabel='budget'>"
      ]
     },
     "execution_count": 75,
     "metadata": {},
     "output_type": "execute_result"
    },
    {
     "data": {
      "image/png": "[encoded data removed]",
      "text/plain": [
       "<Figure size 432x288 with 1 Axes>"
      ]
     },
     "metadata": {
      "needs_background": "light"
     },
     "output_type": "display_data"
    }
   ],
   "source": [
    "df.plot('year', 'budget', kind = 'scatter', color = 'blue', label = 'Зависимость бюджета от года')"
   ]
  },
  {
   "cell_type": "code",
   "execution_count": 76,
   "id": "491fffe6",
   "metadata": {
    "scrolled": true
   },
   "outputs": [
    {
     "data": {
      "text/plain": [
       "<AxesSubplot:xlabel='budget', ylabel='runtime'>"
      ]
     },
     "execution_count": 76,
     "metadata": {},
     "output_type": "execute_result"
    },
    {
     "data": {
      "image/png": "[encoded data removed]",
      "text/plain": [
       "<Figure size 432x288 with 1 Axes>"
      ]
     },
     "metadata": {
      "needs_background": "light"
     },
     "output_type": "display_data"
    }
   ],
   "source": [
    "df[0:120].plot('budget','runtime' , kind = 'scatter', color = 'blue', label = 'Зависимость длительности фильма от бюджета')"
   ]
  },
  {
   "cell_type": "markdown",
   "id": "4c993e93",
   "metadata": {},
   "source": [
    "Выведем корреляцию для всех количественных переменных"
   ]
  },
  {
   "cell_type": "code",
   "execution_count": 77,
   "id": "978356d5",
   "metadata": {},
   "outputs": [
    {
     "data": {
      "text/html": [
       "<div>\n",
       "<style scoped>\n",
       "    .dataframe tbody tr th:only-of-type {\n",
       "        vertical-align: middle;\n",
       "    }\n",
       "\n",
       "    .dataframe tbody tr th {\n",
       "        vertical-align: top;\n",
       "    }\n",
       "\n",
       "    .dataframe thead th {\n",
       "        text-align: right;\n",
       "    }\n",
       "</style>\n",
       "<table border=\"1\" class=\"dataframe\">\n",
       "  <thead>\n",
       "    <tr style=\"text-align: right;\">\n",
       "      <th></th>\n",
       "      <th>year</th>\n",
       "      <th>score</th>\n",
       "      <th>votes</th>\n",
       "      <th>budget</th>\n",
       "      <th>gross</th>\n",
       "    </tr>\n",
       "  </thead>\n",
       "  <tbody>\n",
       "    <tr>\n",
       "      <th>year</th>\n",
       "      <td>1.000000</td>\n",
       "      <td>0.097871</td>\n",
       "      <td>0.222435</td>\n",
       "      <td>0.351233</td>\n",
       "      <td>0.263183</td>\n",
       "    </tr>\n",
       "    <tr>\n",
       "      <th>score</th>\n",
       "      <td>0.097871</td>\n",
       "      <td>1.000000</td>\n",
       "      <td>0.409178</td>\n",
       "      <td>0.078448</td>\n",
       "      <td>0.185304</td>\n",
       "    </tr>\n",
       "    <tr>\n",
       "      <th>votes</th>\n",
       "      <td>0.222435</td>\n",
       "      <td>0.409178</td>\n",
       "      <td>1.000000</td>\n",
       "      <td>0.463390</td>\n",
       "      <td>0.631778</td>\n",
       "    </tr>\n",
       "    <tr>\n",
       "      <th>budget</th>\n",
       "      <td>0.351233</td>\n",
       "      <td>0.078448</td>\n",
       "      <td>0.463390</td>\n",
       "      <td>1.000000</td>\n",
       "      <td>0.740324</td>\n",
       "    </tr>\n",
       "    <tr>\n",
       "      <th>gross</th>\n",
       "      <td>0.263183</td>\n",
       "      <td>0.185304</td>\n",
       "      <td>0.631778</td>\n",
       "      <td>0.740324</td>\n",
       "      <td>1.000000</td>\n",
       "    </tr>\n",
       "  </tbody>\n",
       "</table>\n",
       "</div>"
      ],
      "text/plain": [
       "            year     score     votes    budget     gross\n",
       "year    1.000000  0.097871  0.222435  0.351233  0.263183\n",
       "score   0.097871  1.000000  0.409178  0.078448  0.185304\n",
       "votes   0.222435  0.409178  1.000000  0.463390  0.631778\n",
       "budget  0.351233  0.078448  0.463390  1.000000  0.740324\n",
       "gross   0.263183  0.185304  0.631778  0.740324  1.000000"
      ]
     },
     "execution_count": 77,
     "metadata": {},
     "output_type": "execute_result"
    }
   ],
   "source": [
    "df.corr()"
   ]
  },
  {
   "cell_type": "markdown",
   "id": "4fd3acdf",
   "metadata": {},
   "source": [
    "Везде наблюдаются положительные корреляции, самая устойчивая и большая положительная корреляция- это между чистой прибылью (gross) и бюджетом (budget), из этого можно сделать вывод, что на качество фильма для конечного потребителя очень многое влияет, но в большей степени бюджет, заложенный в фильм определяет его успешность в кинематографе , чистая прибыль (gross) и кол-во голосующих (votes) имеет среднюю кореляцию 0.64, люди больше голосуют за то что смотрят в кино"
   ]
  },
  {
   "cell_type": "markdown",
   "id": "8b790a83",
   "metadata": {},
   "source": [
    "Посмотрим средне годовой чистый доход кинокомпаний по каждому году"
   ]
  },
  {
   "cell_type": "code",
   "execution_count": 78,
   "id": "fee7cd61",
   "metadata": {},
   "outputs": [
    {
     "data": {
      "text/plain": [
       "year\n",
       "1980    2.881364e+07\n",
       "1981    2.348770e+07\n",
       "1982    2.586929e+07\n",
       "1983    2.024019e+07\n",
       "1984    2.152794e+07\n",
       "1985    1.945000e+07\n",
       "1986    1.865715e+07\n",
       "1987    2.052188e+07\n",
       "1988    2.459226e+07\n",
       "1989    3.086105e+07\n",
       "1990    3.447145e+07\n",
       "1991    3.145444e+07\n",
       "1992    3.720286e+07\n",
       "1993    4.038218e+07\n",
       "1994    4.544183e+07\n",
       "1995    4.743760e+07\n",
       "1996    4.917173e+07\n",
       "1997    6.563437e+07\n",
       "1998    5.636371e+07\n",
       "1999    6.801229e+07\n",
       "2000    6.788355e+07\n",
       "2001    7.808813e+07\n",
       "2002    8.501718e+07\n",
       "2003    8.830966e+07\n",
       "2004    9.360874e+07\n",
       "2005    8.933305e+07\n",
       "2006    9.351702e+07\n",
       "2007    1.019184e+08\n",
       "2008    1.087536e+08\n",
       "2009    1.166934e+08\n",
       "2010    1.160173e+08\n",
       "2011    1.244959e+08\n",
       "2012    1.273810e+08\n",
       "2013    1.299792e+08\n",
       "2014    1.324574e+08\n",
       "2015    1.339314e+08\n",
       "2016    1.446942e+08\n",
       "2017    1.424262e+08\n",
       "2018    1.404264e+08\n",
       "2019    1.522488e+08\n",
       "2020    1.805456e+08\n",
       "Name: gross, dtype: float64"
      ]
     },
     "execution_count": 78,
     "metadata": {},
     "output_type": "execute_result"
    }
   ],
   "source": [
    "year_gross = df.groupby(df['year'])['gross'].mean()\n",
    "year_gross"
   ]
  },
  {
   "cell_type": "markdown",
   "id": "52142370",
   "metadata": {},
   "source": [
    "По выведенной информации можно сделать вывод, что доход из года в год только растет"
   ]
  },
  {
   "cell_type": "markdown",
   "id": "f2680970",
   "metadata": {},
   "source": [
    "Построим столбчатую диаграмму для понимания в какой год средний чистый доход был выше у кинокомпаний"
   ]
  },
  {
   "cell_type": "code",
   "execution_count": 79,
   "id": "6ac73dc0",
   "metadata": {},
   "outputs": [
    {
     "data": {
      "text/plain": [
       "Text(0, 0.5, 'Доход , *10^8')"
      ]
     },
     "execution_count": 79,
     "metadata": {},
     "output_type": "execute_result"
    },
    {
     "data": {
      "image/png": "[encoded data removed]",
      "text/plain": [
       "<Figure size 432x288 with 1 Axes>"
      ]
     },
     "metadata": {
      "needs_background": "light"
     },
     "output_type": "display_data"
    }
   ],
   "source": [
    "plt.bar(year_gross.index, year_gross)\n",
    "plt.title('Cредний чистый доход за год')\n",
    "plt.xlabel('Год')\n",
    "plt.ylabel('Доход , *10^8')"
   ]
  },
  {
   "cell_type": "markdown",
   "id": "fce09ce5",
   "metadata": {},
   "source": [
    "Средний чистый доход был выше в 2020"
   ]
  },
  {
   "cell_type": "markdown",
   "id": "1d3226b3",
   "metadata": {},
   "source": [
    "Создадим категориальные переменные для удобной работы с данными"
   ]
  },
  {
   "cell_type": "code",
   "execution_count": 80,
   "id": "9828210d",
   "metadata": {},
   "outputs": [],
   "source": [
    "df['name'] = pd.Categorical(df['name'])\n",
    "\n",
    "df['genre'] = pd.Categorical(df['genre'])\n",
    "\n",
    "df['released'] = pd.Categorical(df['released'])\n",
    "\n",
    "df['director'] = pd.Categorical(df['director'])\n",
    "\n",
    "df['star'] = pd.Categorical(df['star'])\n",
    "\n",
    "df['country'] = pd.Categorical(df['country'])\n",
    "\n",
    "df['director'] = pd.Categorical(df['director'])\n",
    "\n",
    "df['company'] = pd.Categorical(df['company'])\n",
    "\n",
    "df['writer'] = pd.Categorical(df['writer'])\n"
   ]
  },
  {
   "cell_type": "code",
   "execution_count": 93,
   "id": "fc8e9ba3",
   "metadata": {},
   "outputs": [],
   "source": [
    "b1 = df[0:100]"
   ]
  },
  {
   "cell_type": "markdown",
   "id": "e3b141d4",
   "metadata": {},
   "source": [
    "Для всех категориальных переменных выявим распределение длительности кино(runtime) по переменным : 'year', 'score', 'votes', 'budget'"
   ]
  },
  {
   "cell_type": "code",
   "execution_count": 103,
   "id": "75f4e02c",
   "metadata": {},
   "outputs": [],
   "source": [
    "num_features = ['runtime']\n",
    "cat = ['year', 'score', 'budget']\n",
    "cat1 = ['votes']"
   ]
  },
  {
   "cell_type": "markdown",
   "id": "8ffcab4b",
   "metadata": {},
   "source": [
    "Определим через pandas значения колонки runtime и соотнесем их с данными из массива данных cat"
   ]
  },
  {
   "cell_type": "code",
   "execution_count": 104,
   "id": "44b668ec",
   "metadata": {},
   "outputs": [],
   "source": [
    "df_melted = pd.melt(b1, value_vars = cat, id_vars = 'runtime')\n",
    "df_melted1 = pd.melt(b1, value_vars = cat1, id_vars = 'runtime')"
   ]
  },
  {
   "cell_type": "markdown",
   "id": "f9db775a",
   "metadata": {},
   "source": [
    "Определим функцию для принятия данных из наших колонок по которым будет построено распределение"
   ]
  },
  {
   "cell_type": "code",
   "execution_count": 105,
   "id": "70ad185b",
   "metadata": {},
   "outputs": [
    {
     "data": {
      "text/plain": [
       "<seaborn.axisgrid.FacetGrid at 0x67216e580>"
      ]
     },
     "execution_count": 105,
     "metadata": {},
     "output_type": "execute_result"
    },
    {
     "data": {
      "image/png": "[encoded data removed]",
      "text/plain": [
       "<Figure size 1080x360 with 3 Axes>"
      ]
     },
     "metadata": {
      "needs_background": "light"
     },
     "output_type": "display_data"
    }
   ],
   "source": [
    "# def boxplot(x,y, **kwargs):\n",
    "#     sns.boxplot(x=x, y=y)\n",
    "#     x=plt.xticks(rotation=90)\n",
    "# g = sns.FacetGrid(df_melted, col = \"variable\", col_wrap=2, height=5) # отображение на графике \n",
    "# g.map(boxplot, \"value\", \"runtime\")\n",
    "def boxplot(x,y, **kwargs):\n",
    "    sns.boxplot(x=x, y=y)\n",
    "    x=plt.xticks(rotation=90)\n",
    "g = sns.FacetGrid(df_melted, col = \"variable\", col_wrap=3, sharex=False, sharey=False, height=5) # отображение на графике \n",
    "g.map(boxplot, \"value\", \"runtime\")"
   ]
  },
  {
   "cell_type": "code",
   "execution_count": 120,
   "id": "49b764fe",
   "metadata": {},
   "outputs": [
    {
     "data": {
      "text/plain": [
       "<seaborn.axisgrid.FacetGrid at 0x6768a1e80>"
      ]
     },
     "execution_count": 120,
     "metadata": {},
     "output_type": "execute_result"
    },
    {
     "data": {
      "image/png": "[encoded data removed]",
      "text/plain": [
       "<Figure size 1080x360 with 1 Axes>"
      ]
     },
     "metadata": {
      "needs_background": "light"
     },
     "output_type": "display_data"
    }
   ],
   "source": [
    "def boxplot(x,y, **kwargs):\n",
    "\n",
    "    sns.boxplot(x=x, y=y)\n",
    "    x=plt.xticks(rotation=90)\n",
    "g = sns.FacetGrid(df_melted1, col = \"variable\", col_wrap=3, sharex=False, sharey=False, height=5) # отображение на графике \n",
    "g.map(boxplot,  \"runtime\",\"value\")\n",
    "# plt.title('Кол-во фильмов для семейного просмотра/несемейного просмотра', fontsize = 20)\n",
    "# sns.barplot(y = df['Семейный просмотр'].index, x = df['Семейный просмотр'].values, alpha = 1)\n",
    "# ax.containers"
   ]
  },
  {
   "cell_type": "markdown",
   "id": "e9694d83",
   "metadata": {},
   "source": [
    "Если смотреть распределение длительности фильмов по годам, то тут можно увидеть, что в основном фильмы делались от 100 минут до 120, и в очень редких случаях(т.е. выбросы 220 или 80 минут). Распределение длительности фильма по оценкам(score) - здесь определяется тендеция, что обычно людям не хватает длительности фильма, а вот когда фильм составляет около 160 то тут оценки становятся около 8.7 Распределение длительности фильма по голосованию, выбросы-очень нечасто встречаемое явление 220 минут, но количество голосов среднее, а не минимальное, хотя 220 является достаточно длительным периодом. Распределение длительности фильма по бюджету, указывают, что кинокомпании не очень стремятся тратить деньги на высоко бюджетные фильмы длительностью более 160 минут, и этих фильмов очень мало, чтобы было сочетание и вложений больших капиталов и длительности более 140 минут"
   ]
  },
  {
   "cell_type": "markdown",
   "id": "7e964004",
   "metadata": {},
   "source": [
    "Выявляем интерквартильный размах для budget"
   ]
  },
  {
   "cell_type": "code",
   "execution_count": 121,
   "id": "0b1fd532",
   "metadata": {},
   "outputs": [
    {
     "data": {
      "text/plain": [
       "count    7.668000e+03\n",
       "mean     3.124935e+07\n",
       "std      3.606750e+07\n",
       "min      3.000000e+03\n",
       "25%      1.060000e+07\n",
       "50%      2.100000e+07\n",
       "75%      3.500000e+07\n",
       "max      3.560000e+08\n",
       "Name: budget, dtype: float64"
      ]
     },
     "execution_count": 121,
     "metadata": {},
     "output_type": "execute_result"
    }
   ],
   "source": [
    "df['budget'].describe()"
   ]
  },
  {
   "cell_type": "markdown",
   "id": "f7b19171",
   "metadata": {},
   "source": [
    "Сохраним значения 25% и 75% в переменные"
   ]
  },
  {
   "cell_type": "code",
   "execution_count": 122,
   "id": "3fdeed26",
   "metadata": {},
   "outputs": [
    {
     "name": "stdout",
     "output_type": "stream",
     "text": [
      "35000000.0 10600000.0\n"
     ]
    }
   ],
   "source": [
    "q3 = np.percentile(df['budget'],75)\n",
    "q1 = np.percentile(df['budget'],25)\n",
    "print(q3,q1)"
   ]
  },
  {
   "cell_type": "markdown",
   "id": "4a5918ea",
   "metadata": {},
   "source": [
    "Расчитаем интерквартильный размах"
   ]
  },
  {
   "cell_type": "code",
   "execution_count": 123,
   "id": "01c61f7f",
   "metadata": {},
   "outputs": [
    {
     "name": "stdout",
     "output_type": "stream",
     "text": [
      "24400000.0\n"
     ]
    }
   ],
   "source": [
    "iqr = q3-q1\n",
    "print(iqr)"
   ]
  },
  {
   "cell_type": "markdown",
   "id": "643bfe33",
   "metadata": {},
   "source": [
    "Найдем границу сверху и граница снизу для выбросов"
   ]
  },
  {
   "cell_type": "code",
   "execution_count": 124,
   "id": "c56d843f",
   "metadata": {},
   "outputs": [
    {
     "name": "stdout",
     "output_type": "stream",
     "text": [
      "-26000000.0 71600000.0\n"
     ]
    }
   ],
   "source": [
    "iqr_bottom = q1 - 1.5*iqr\n",
    "iqr_top = q3 + 1.5*iqr\n",
    "print(iqr_bottom, iqr_top)"
   ]
  },
  {
   "cell_type": "markdown",
   "id": "80f4877d",
   "metadata": {},
   "source": [
    "Посмотрим, сколько выбросов выше верхней границы"
   ]
  },
  {
   "cell_type": "code",
   "execution_count": 125,
   "id": "ce2ecfe6",
   "metadata": {},
   "outputs": [
    {
     "data": {
      "text/plain": [
       "(730, 17)"
      ]
     },
     "execution_count": 125,
     "metadata": {},
     "output_type": "execute_result"
    }
   ],
   "source": [
    "df[df['budget'] > iqr_top].shape"
   ]
  },
  {
   "cell_type": "code",
   "execution_count": 126,
   "id": "3e7c209a",
   "metadata": {},
   "outputs": [
    {
     "name": "stdout",
     "output_type": "stream",
     "text": [
      "-58919401.947913736 121418110.71969256\n"
     ]
    }
   ],
   "source": [
    "mean= df['budget'].mean()\n",
    "std = df['budget'].std()\n",
    "std_bottom = mean-2.5*std #среднеквадратичное отклонение для нижней границы\n",
    "std_top = mean+2.5*std # среднеквадратичное отклонение для верхней границы\n",
    "print(std_bottom, std_top)"
   ]
  },
  {
   "cell_type": "markdown",
   "id": "0d15fa3c",
   "metadata": {},
   "source": [
    "Получили границы репрезентативных значений\n",
    "смотрим сколько значений будет выше верхнего порога(нижний не берем, он - 0 всегда)"
   ]
  },
  {
   "cell_type": "code",
   "execution_count": 127,
   "id": "af228d9e",
   "metadata": {},
   "outputs": [
    {
     "data": {
      "text/plain": [
       "(297, 17)"
      ]
     },
     "execution_count": 127,
     "metadata": {},
     "output_type": "execute_result"
    }
   ],
   "source": [
    "df[df['budget'] > std_top].shape"
   ]
  },
  {
   "cell_type": "markdown",
   "id": "bbfce9ca",
   "metadata": {},
   "source": [
    "Количество значений выше среднеквадрастичного отклонения меньше, чем при интерквартильном размахе"
   ]
  },
  {
   "cell_type": "markdown",
   "id": "037edef1",
   "metadata": {},
   "source": [
    "Посмотрим меры центральной тендеции там, где нет выбросов"
   ]
  },
  {
   "cell_type": "code",
   "execution_count": 128,
   "id": "74931e8e",
   "metadata": {},
   "outputs": [],
   "source": [
    "# без выбросов\n",
    "iqr_no_outliers = df[df['budget'] <= iqr_top]['year']\n",
    "std_no_outliers = df[df['budget'] <= std_top]['year']"
   ]
  },
  {
   "cell_type": "code",
   "execution_count": 129,
   "id": "3861ee88",
   "metadata": {},
   "outputs": [
    {
     "name": "stdout",
     "output_type": "stream",
     "text": [
      "31249354.38588941\n",
      "1999.5622657826464\n",
      "1999.9696106362774\n"
     ]
    }
   ],
   "source": [
    "# меры центральной тенденции\n",
    "print(df['budget'].mean())\n",
    "print(iqr_no_outliers.mean())\n",
    "print(std_no_outliers.mean())"
   ]
  },
  {
   "cell_type": "code",
   "execution_count": 130,
   "id": "07090539",
   "metadata": {},
   "outputs": [
    {
     "name": "stdout",
     "output_type": "stream",
     "text": [
      "21000000.0\n",
      "1999.0\n",
      "2000.0\n"
     ]
    }
   ],
   "source": [
    "# как меняется медиана\n",
    "print(df['budget'].median())\n",
    "print(iqr_no_outliers.median())\n",
    "print(std_no_outliers.median())"
   ]
  },
  {
   "cell_type": "markdown",
   "id": "e8461bd7",
   "metadata": {},
   "source": [
    "Можно сказать, что и медианное значение, и среднее значение-неустойчивые"
   ]
  },
  {
   "cell_type": "markdown",
   "id": "a02020d0",
   "metadata": {},
   "source": [
    "# Хи-квадрат"
   ]
  },
  {
   "cell_type": "markdown",
   "id": "d765d4c9",
   "metadata": {},
   "source": [
    "Для начала сделаем категориальную переменную в БД (Семейный просмотр 1, Не для семейного просмотра -0) и построим гипотезу, не зависит ли от параметра \"не для семейного просмотра\"/\"для семейного просмотра\" параметры: чистая прибыль компании, длительность фильма, бюджет, оценка"
   ]
  },
  {
   "cell_type": "code",
   "execution_count": 131,
   "id": "fd976f0e",
   "metadata": {},
   "outputs": [
    {
     "data": {
      "text/plain": [
       "0       1\n",
       "1       1\n",
       "2       1\n",
       "3       1\n",
       "4       1\n",
       "       ..\n",
       "7663    1\n",
       "7664    1\n",
       "7665    1\n",
       "7666    1\n",
       "7667    1\n",
       "Name: gross, Length: 7668, dtype: int32"
      ]
     },
     "execution_count": 131,
     "metadata": {},
     "output_type": "execute_result"
    }
   ],
   "source": [
    "df['Семейный просмотр'] = np.where((df['Category rating'] == 'Желательно присутствие родителей'),1, 0)\n",
    "df['gross'] = np.where((df['gross'] > 20205760), 1, 0)\n",
    "df['gross']"
   ]
  },
  {
   "cell_type": "markdown",
   "id": "e376bd91",
   "metadata": {},
   "source": [
    "Задаем уровень альфа 1%(вероятность ошибки)"
   ]
  },
  {
   "cell_type": "code",
   "execution_count": 132,
   "id": "77e407da",
   "metadata": {},
   "outputs": [],
   "source": [
    "alpha = 0.01"
   ]
  },
  {
   "cell_type": "markdown",
   "id": "08b6e1b0",
   "metadata": {},
   "source": [
    "Построим таблицы сопряженности: не зависит ли от наличия возможности семейного просмотра прибыль компании"
   ]
  },
  {
   "cell_type": "code",
   "execution_count": 133,
   "id": "43f976f7",
   "metadata": {},
   "outputs": [
    {
     "data": {
      "text/html": [
       "<div>\n",
       "<style scoped>\n",
       "    .dataframe tbody tr th:only-of-type {\n",
       "        vertical-align: middle;\n",
       "    }\n",
       "\n",
       "    .dataframe tbody tr th {\n",
       "        vertical-align: top;\n",
       "    }\n",
       "\n",
       "    .dataframe thead th {\n",
       "        text-align: right;\n",
       "    }\n",
       "</style>\n",
       "<table border=\"1\" class=\"dataframe\">\n",
       "  <thead>\n",
       "    <tr style=\"text-align: right;\">\n",
       "      <th>Семейный просмотр</th>\n",
       "      <th>0</th>\n",
       "      <th>1</th>\n",
       "    </tr>\n",
       "    <tr>\n",
       "      <th>gross</th>\n",
       "      <th></th>\n",
       "      <th></th>\n",
       "    </tr>\n",
       "  </thead>\n",
       "  <tbody>\n",
       "    <tr>\n",
       "      <th>0</th>\n",
       "      <td>3373</td>\n",
       "      <td>532</td>\n",
       "    </tr>\n",
       "    <tr>\n",
       "      <th>1</th>\n",
       "      <td>3043</td>\n",
       "      <td>720</td>\n",
       "    </tr>\n",
       "  </tbody>\n",
       "</table>\n",
       "</div>"
      ],
      "text/plain": [
       "Семейный просмотр     0    1\n",
       "gross                       \n",
       "0                  3373  532\n",
       "1                  3043  720"
      ]
     },
     "execution_count": 133,
     "metadata": {},
     "output_type": "execute_result"
    }
   ],
   "source": [
    "ct_o =  df.groupby('gross')['Семейный просмотр'].value_counts().unstack()\n",
    "ct_o"
   ]
  },
  {
   "cell_type": "markdown",
   "id": "7cfd223c",
   "metadata": {},
   "source": [
    "Существуют 6408 фильмов , которые для не семейного просмотра и прибыль < 20205760 - 3373, \n",
    "фильмов для семейного просмотра и прибылью < 20205760 - 532 фильмов, для не семейного просмотра и прибыль > 20205760 - 3043, фильма для для семейного просмотра и прибыль > 20205760 -720 \n",
    "\n"
   ]
  },
  {
   "cell_type": "code",
   "execution_count": 134,
   "id": "ef75730a",
   "metadata": {},
   "outputs": [
    {
     "data": {
      "text/plain": [
       "1"
      ]
     },
     "execution_count": 134,
     "metadata": {},
     "output_type": "execute_result"
    }
   ],
   "source": [
    "dof = (2-1)*(2-1)#степень свободы(2 столбца -1)(2 строки-1)\n",
    "dof"
   ]
  },
  {
   "cell_type": "markdown",
   "id": "f97780ec",
   "metadata": {},
   "source": [
    "Общее количество наблюдений по рядам суммируем, и по колонкам critical_value - значение, при котором гипотеза будет опровержена"
   ]
  },
  {
   "cell_type": "code",
   "execution_count": 135,
   "id": "310af083",
   "metadata": {},
   "outputs": [
    {
     "data": {
      "text/plain": [
       "7668"
      ]
     },
     "execution_count": 135,
     "metadata": {},
     "output_type": "execute_result"
    }
   ],
   "source": [
    "n_total = ct_o.sum().sum()\n",
    "critical_value = 6.63  # для каждой степени свободы есть свое значение критического значения\n",
    "n_total"
   ]
  },
  {
   "cell_type": "code",
   "execution_count": 106,
   "id": "a9f1383c",
   "metadata": {},
   "outputs": [
    {
     "name": "stdout",
     "output_type": "stream",
     "text": [
      "6416 1252\n"
     ]
    }
   ],
   "source": [
    "# складываем по столбцу значения кол-ва фильмов для несемейного просмотра\n",
    "n_target_0 = ct_o[0].sum() \n",
    "# складываем по столбцу значения кол-ва фильмов для семейного просмотра\n",
    "n_target_1 = ct_o[1].sum()\n",
    "print(n_target_0, n_target_1)"
   ]
  },
  {
   "cell_type": "code",
   "execution_count": 107,
   "id": "8fac7f2f",
   "metadata": {},
   "outputs": [
    {
     "name": "stdout",
     "output_type": "stream",
     "text": [
      "0.8367240479916537 0.16327595200834638\n"
     ]
    }
   ],
   "source": [
    "p_target_0 = n_target_0/n_total\n",
    "p_target_1 = n_target_1/n_total\n",
    "print(p_target_0, p_target_1)"
   ]
  },
  {
   "cell_type": "markdown",
   "id": "439de10c",
   "metadata": {},
   "source": [
    "Получаем, что 84% вероятности для попадания в категорию 0(не для семейного просмотра, 16% вероятности для попадания в категорию 1(для семейного просмотра). Посчитаем количество фильмов для прибыли больше 20205760 и для прибыли меньше 20205760\n"
   ]
  },
  {
   "cell_type": "code",
   "execution_count": 108,
   "id": "7f4a8a2c",
   "metadata": {},
   "outputs": [
    {
     "name": "stdout",
     "output_type": "stream",
     "text": [
      "3905 3763\n"
     ]
    }
   ],
   "source": [
    "n_films_m_142 = ct_o.iloc[0].sum()\n",
    "n_films_b_142 = ct_o.iloc[1].sum()\n",
    "print(n_films_m_142, n_films_b_142)"
   ]
  },
  {
   "cell_type": "markdown",
   "id": "8be1173a",
   "metadata": {},
   "source": [
    "Получилось, что количество фильмов с чистым доходом < 20205760 - 3905, а количество фильмов с чистым доходом > 20205760 - 3763"
   ]
  },
  {
   "cell_type": "code",
   "execution_count": 109,
   "id": "3b9a240a",
   "metadata": {},
   "outputs": [
    {
     "name": "stdout",
     "output_type": "stream",
     "text": [
      "3267.4074074074074 637.5925925925926\n"
     ]
    }
   ],
   "source": [
    "f_e_target_m1_142 = n_films_m_142 * p_target_0\n",
    "f_e_target_m12_142 = n_films_m_142 * p_target_1\n",
    "print(f_e_target_m1_142,f_e_target_m12_142)"
   ]
  },
  {
   "cell_type": "markdown",
   "id": "e49f6a2b",
   "metadata": {},
   "source": [
    "Количество фильмов не для семейного просмотра с чистым доходом <  20205760 - 3267, а\n",
    "количество фильмов  для семейного просмотра с чистым доходом <  20205760 - 637"
   ]
  },
  {
   "cell_type": "code",
   "execution_count": 110,
   "id": "db3db2f7",
   "metadata": {},
   "outputs": [
    {
     "name": "stdout",
     "output_type": "stream",
     "text": [
      "3148.5925925925926 614.4074074074074\n"
     ]
    }
   ],
   "source": [
    "f1_e_target_b1_142 = n_films_b_142 * p_target_0\n",
    "f1_e_target_b12_142 = n_films_b_142 * p_target_1\n",
    "print(f1_e_target_b1_142,f1_e_target_b12_142)"
   ]
  },
  {
   "cell_type": "markdown",
   "id": "aff7c15c",
   "metadata": {},
   "source": [
    "Количество фильмов  не для семейного просмотра с чистым доходом >  20205760 - 3148,\n",
    "количество фильмов  для семейного просмотра с чистым доходом >  20205760 - 614.\n",
    "Составляем матрицу, где в первой строке фильмы с прибылью до 20205760, во второй - с прибылью после 20205760 "
   ]
  },
  {
   "cell_type": "code",
   "execution_count": 111,
   "id": "840b83ea",
   "metadata": {},
   "outputs": [
    {
     "name": "stdout",
     "output_type": "stream",
     "text": [
      "[[3267.40740741  637.59259259]\n",
      " [3148.59259259  614.40740741]]\n"
     ]
    }
   ],
   "source": [
    "ct_e = np.array([[f_e_target_m1_142, f_e_target_m12_142],[f1_e_target_b1_142, f1_e_target_b12_142]])\n",
    "print(ct_e) # печатаем матрицу, где в первой строке фильмы с прибылью до 20205760, во второй - с прибылью после 20205760 "
   ]
  },
  {
   "cell_type": "markdown",
   "id": "5b0f99af",
   "metadata": {},
   "source": [
    "Получили матрицу частот для вычисления хи квадрат"
   ]
  },
  {
   "cell_type": "code",
   "execution_count": 112,
   "id": "9e1a8832",
   "metadata": {},
   "outputs": [
    {
     "name": "stdout",
     "output_type": "stream",
     "text": [
      "42.58819934583668 6.63\n",
      "True\n"
     ]
    }
   ],
   "source": [
    "chi_square = ((ct_o - ct_e)**2 / ct_e).sum().sum()\n",
    "print(chi_square, critical_value) # печатаем значения критического значения и хи-квадрата\n",
    "print(chi_square> critical_value) # печатаем значение булева выражения"
   ]
  },
  {
   "cell_type": "markdown",
   "id": "6b757237",
   "metadata": {},
   "source": [
    "Теперь сделаем подсчет хи квадрата с помощью встроенной ф-ции и сравним результат"
   ]
  },
  {
   "cell_type": "code",
   "execution_count": 113,
   "id": "5c8bce70",
   "metadata": {},
   "outputs": [
    {
     "data": {
      "text/plain": [
       "(42.58819934583668,\n",
       " 6.756578265886029e-11,\n",
       " 1,\n",
       " array([[3267.40740741,  637.59259259],\n",
       "        [3148.59259259,  614.40740741]]))"
      ]
     },
     "execution_count": 113,
     "metadata": {},
     "output_type": "execute_result"
    }
   ],
   "source": [
    "scipy.stats.chi2_contingency(ct_o, correction= False)"
   ]
  },
  {
   "cell_type": "markdown",
   "id": "78819e45",
   "metadata": {},
   "source": [
    "Наш хи квадрать меньше 6.63, поэтому гипотеза, что чистый доход компаний не зависит от выпуска семейных фильмов, подтверждается"
   ]
  },
  {
   "cell_type": "code",
   "execution_count": 114,
   "id": "f83c3de1",
   "metadata": {},
   "outputs": [],
   "source": [
    "df_2000 = df[0:3835] # делаем отображение до 2000 года включительно, посмотрим на соотношения рейтинга и длительности фильма"
   ]
  },
  {
   "cell_type": "code",
   "execution_count": 115,
   "id": "7c8f4a41",
   "metadata": {},
   "outputs": [
    {
     "data": {
      "text/plain": [
       "<AxesSubplot:xlabel='Семейный просмотр'>"
      ]
     },
     "execution_count": 115,
     "metadata": {},
     "output_type": "execute_result"
    },
    {
     "data": {
      "image/png": "[encoded data removed]",
      "text/plain": [
       "<Figure size 432x288 with 1 Axes>"
      ]
     },
     "metadata": {
      "needs_background": "light"
     },
     "output_type": "display_data"
    }
   ],
   "source": [
    "df_2000.groupby('Семейный просмотр')['gross'\n",
    "                              ].value_counts().unstack().plot(kind = 'bar', stacked = True)"
   ]
  },
  {
   "cell_type": "code",
   "execution_count": 120,
   "id": "22998ea8",
   "metadata": {},
   "outputs": [],
   "source": [
    "df_1 = df[7000:7669]"
   ]
  },
  {
   "cell_type": "code",
   "execution_count": 124,
   "id": "d4c9cfda",
   "metadata": {},
   "outputs": [
    {
     "data": {
      "text/plain": [
       "<AxesSubplot:xlabel='Семейный просмотр'>"
      ]
     },
     "execution_count": 124,
     "metadata": {},
     "output_type": "execute_result"
    },
    {
     "data": {
      "image/png": "[encoded data removed]",
      "text/plain": [
       "<Figure size 432x288 with 1 Axes>"
      ]
     },
     "metadata": {
      "needs_background": "light"
     },
     "output_type": "display_data"
    }
   ],
   "source": [
    "df_1.groupby('Семейный просмотр')['gross'\n",
    "                              ].value_counts().unstack().plot(kind = 'bar', stacked = True)"
   ]
  },
  {
   "cell_type": "markdown",
   "id": "f1c7e11f",
   "metadata": {},
   "source": [
    "Из этих двух диаграмм можно сделать вывод, что чистый доход от фильмов увеличился (вне зависимости были ли эти фильмы для семейного просмотра или нет)\n",
    "после 2000 года чистый доход фильмов для семейного просмотра вырос, но количество таких фильмов уменьшилось"
   ]
  },
  {
   "cell_type": "code",
   "execution_count": 126,
   "id": "8b0c7b26",
   "metadata": {},
   "outputs": [
    {
     "data": {
      "text/html": [
       "<div>\n",
       "<style scoped>\n",
       "    .dataframe tbody tr th:only-of-type {\n",
       "        vertical-align: middle;\n",
       "    }\n",
       "\n",
       "    .dataframe tbody tr th {\n",
       "        vertical-align: top;\n",
       "    }\n",
       "\n",
       "    .dataframe thead th {\n",
       "        text-align: right;\n",
       "    }\n",
       "</style>\n",
       "<table border=\"1\" class=\"dataframe\">\n",
       "  <thead>\n",
       "    <tr style=\"text-align: right;\">\n",
       "      <th></th>\n",
       "      <th>name</th>\n",
       "      <th>rating</th>\n",
       "      <th>genre</th>\n",
       "      <th>year</th>\n",
       "      <th>released</th>\n",
       "      <th>score</th>\n",
       "      <th>votes</th>\n",
       "      <th>director</th>\n",
       "      <th>writer</th>\n",
       "      <th>star</th>\n",
       "      <th>country</th>\n",
       "      <th>budget</th>\n",
       "      <th>gross</th>\n",
       "      <th>company</th>\n",
       "      <th>runtime</th>\n",
       "      <th>Category rating</th>\n",
       "      <th>Семейный просмотр</th>\n",
       "    </tr>\n",
       "  </thead>\n",
       "  <tbody>\n",
       "    <tr>\n",
       "      <th>0</th>\n",
       "      <td>The Shining</td>\n",
       "      <td>R</td>\n",
       "      <td>Drama</td>\n",
       "      <td>1980</td>\n",
       "      <td>June 13, 1980 (United States)</td>\n",
       "      <td>8.4</td>\n",
       "      <td>927000.0</td>\n",
       "      <td>Stanley Kubrick</td>\n",
       "      <td>Stephen King</td>\n",
       "      <td>Jack Nicholson</td>\n",
       "      <td>United Kingdom</td>\n",
       "      <td>19000000.0</td>\n",
       "      <td>1</td>\n",
       "      <td>Warner Bros.</td>\n",
       "      <td>146.0</td>\n",
       "      <td>Лица, не достигшие 16-летнего возраста, допуск...</td>\n",
       "      <td>0</td>\n",
       "    </tr>\n",
       "    <tr>\n",
       "      <th>1</th>\n",
       "      <td>The Blue Lagoon</td>\n",
       "      <td>R</td>\n",
       "      <td>Adventure</td>\n",
       "      <td>1980</td>\n",
       "      <td>July 2, 1980 (United States)</td>\n",
       "      <td>5.8</td>\n",
       "      <td>65000.0</td>\n",
       "      <td>Randal Kleiser</td>\n",
       "      <td>Henry De Vere Stacpoole</td>\n",
       "      <td>Brooke Shields</td>\n",
       "      <td>United States</td>\n",
       "      <td>4500000.0</td>\n",
       "      <td>1</td>\n",
       "      <td>Columbia Pictures</td>\n",
       "      <td>104.0</td>\n",
       "      <td>Лица, не достигшие 16-летнего возраста, допуск...</td>\n",
       "      <td>0</td>\n",
       "    </tr>\n",
       "    <tr>\n",
       "      <th>2</th>\n",
       "      <td>Star Wars: Episode V - The Empire Strikes Back</td>\n",
       "      <td>PG</td>\n",
       "      <td>Action</td>\n",
       "      <td>1980</td>\n",
       "      <td>June 20, 1980 (United States)</td>\n",
       "      <td>8.7</td>\n",
       "      <td>1200000.0</td>\n",
       "      <td>Irvin Kershner</td>\n",
       "      <td>Leigh Brackett</td>\n",
       "      <td>Mark Hamill</td>\n",
       "      <td>United States</td>\n",
       "      <td>18000000.0</td>\n",
       "      <td>1</td>\n",
       "      <td>Lucasfilm</td>\n",
       "      <td>124.0</td>\n",
       "      <td>Желательно присутствие родителей</td>\n",
       "      <td>1</td>\n",
       "    </tr>\n",
       "    <tr>\n",
       "      <th>3</th>\n",
       "      <td>Airplane!</td>\n",
       "      <td>PG</td>\n",
       "      <td>Comedy</td>\n",
       "      <td>1980</td>\n",
       "      <td>July 2, 1980 (United States)</td>\n",
       "      <td>7.7</td>\n",
       "      <td>221000.0</td>\n",
       "      <td>Jim Abrahams</td>\n",
       "      <td>Jim Abrahams</td>\n",
       "      <td>Robert Hays</td>\n",
       "      <td>United States</td>\n",
       "      <td>3500000.0</td>\n",
       "      <td>1</td>\n",
       "      <td>Paramount Pictures</td>\n",
       "      <td>88.0</td>\n",
       "      <td>Желательно присутствие родителей</td>\n",
       "      <td>1</td>\n",
       "    </tr>\n",
       "    <tr>\n",
       "      <th>4</th>\n",
       "      <td>Caddyshack</td>\n",
       "      <td>R</td>\n",
       "      <td>Comedy</td>\n",
       "      <td>1980</td>\n",
       "      <td>July 25, 1980 (United States)</td>\n",
       "      <td>7.3</td>\n",
       "      <td>108000.0</td>\n",
       "      <td>Harold Ramis</td>\n",
       "      <td>Brian Doyle-Murray</td>\n",
       "      <td>Chevy Chase</td>\n",
       "      <td>United States</td>\n",
       "      <td>6000000.0</td>\n",
       "      <td>1</td>\n",
       "      <td>Orion Pictures</td>\n",
       "      <td>98.0</td>\n",
       "      <td>Лица, не достигшие 16-летнего возраста, допуск...</td>\n",
       "      <td>0</td>\n",
       "    </tr>\n",
       "    <tr>\n",
       "      <th>...</th>\n",
       "      <td>...</td>\n",
       "      <td>...</td>\n",
       "      <td>...</td>\n",
       "      <td>...</td>\n",
       "      <td>...</td>\n",
       "      <td>...</td>\n",
       "      <td>...</td>\n",
       "      <td>...</td>\n",
       "      <td>...</td>\n",
       "      <td>...</td>\n",
       "      <td>...</td>\n",
       "      <td>...</td>\n",
       "      <td>...</td>\n",
       "      <td>...</td>\n",
       "      <td>...</td>\n",
       "      <td>...</td>\n",
       "      <td>...</td>\n",
       "    </tr>\n",
       "    <tr>\n",
       "      <th>245</th>\n",
       "      <td>Summer Lovers</td>\n",
       "      <td>R</td>\n",
       "      <td>Comedy</td>\n",
       "      <td>1982</td>\n",
       "      <td>July 16, 1982 (United States)</td>\n",
       "      <td>5.7</td>\n",
       "      <td>3900.0</td>\n",
       "      <td>Randal Kleiser</td>\n",
       "      <td>Randal Kleiser</td>\n",
       "      <td>Peter Gallagher</td>\n",
       "      <td>United States</td>\n",
       "      <td>10600000.0</td>\n",
       "      <td>0</td>\n",
       "      <td>Filmways Pictures</td>\n",
       "      <td>98.0</td>\n",
       "      <td>Лица, не достигшие 16-летнего возраста, допуск...</td>\n",
       "      <td>0</td>\n",
       "    </tr>\n",
       "    <tr>\n",
       "      <th>246</th>\n",
       "      <td>Victor Victoria</td>\n",
       "      <td>PG</td>\n",
       "      <td>Comedy</td>\n",
       "      <td>1982</td>\n",
       "      <td>March 19, 1982 (United States)</td>\n",
       "      <td>7.6</td>\n",
       "      <td>20000.0</td>\n",
       "      <td>Blake Edwards</td>\n",
       "      <td>Blake Edwards</td>\n",
       "      <td>Julie Andrews</td>\n",
       "      <td>United Kingdom</td>\n",
       "      <td>10600000.0</td>\n",
       "      <td>1</td>\n",
       "      <td>Metro-Goldwyn-Mayer (MGM)</td>\n",
       "      <td>134.0</td>\n",
       "      <td>Желательно присутствие родителей</td>\n",
       "      <td>1</td>\n",
       "    </tr>\n",
       "    <tr>\n",
       "      <th>247</th>\n",
       "      <td>The Last Unicorn</td>\n",
       "      <td>G</td>\n",
       "      <td>Animation</td>\n",
       "      <td>1982</td>\n",
       "      <td>November 19, 1982 (United States)</td>\n",
       "      <td>7.4</td>\n",
       "      <td>25000.0</td>\n",
       "      <td>Jules Bass</td>\n",
       "      <td>Peter S. Beagle</td>\n",
       "      <td>Jeff Bridges</td>\n",
       "      <td>United Kingdom</td>\n",
       "      <td>3500000.0</td>\n",
       "      <td>0</td>\n",
       "      <td>Rankin/Bass Productions</td>\n",
       "      <td>92.0</td>\n",
       "      <td>Нет возрастных ограничений</td>\n",
       "      <td>0</td>\n",
       "    </tr>\n",
       "    <tr>\n",
       "      <th>248</th>\n",
       "      <td>The Entity</td>\n",
       "      <td>R</td>\n",
       "      <td>Drama</td>\n",
       "      <td>1982</td>\n",
       "      <td>February 4, 1983 (United States)</td>\n",
       "      <td>6.7</td>\n",
       "      <td>15000.0</td>\n",
       "      <td>Sidney J. Furie</td>\n",
       "      <td>Frank De Felitta</td>\n",
       "      <td>Barbara Hershey</td>\n",
       "      <td>United States</td>\n",
       "      <td>9000000.0</td>\n",
       "      <td>0</td>\n",
       "      <td>American Cinema Productions</td>\n",
       "      <td>125.0</td>\n",
       "      <td>Лица, не достигшие 16-летнего возраста, допуск...</td>\n",
       "      <td>0</td>\n",
       "    </tr>\n",
       "    <tr>\n",
       "      <th>249</th>\n",
       "      <td>Airplane II: the Sequel</td>\n",
       "      <td>PG</td>\n",
       "      <td>Comedy</td>\n",
       "      <td>1982</td>\n",
       "      <td>December 10, 1982 (United States)</td>\n",
       "      <td>6.2</td>\n",
       "      <td>50000.0</td>\n",
       "      <td>Ken Finkleman</td>\n",
       "      <td>Ken Finkleman</td>\n",
       "      <td>Robert Hays</td>\n",
       "      <td>United States</td>\n",
       "      <td>15000000.0</td>\n",
       "      <td>1</td>\n",
       "      <td>Paramount Pictures</td>\n",
       "      <td>85.0</td>\n",
       "      <td>Желательно присутствие родителей</td>\n",
       "      <td>1</td>\n",
       "    </tr>\n",
       "  </tbody>\n",
       "</table>\n",
       "<p>250 rows × 17 columns</p>\n",
       "</div>"
      ],
      "text/plain": [
       "                                               name rating      genre  year  \\\n",
       "0                                       The Shining      R      Drama  1980   \n",
       "1                                   The Blue Lagoon      R  Adventure  1980   \n",
       "2    Star Wars: Episode V - The Empire Strikes Back     PG     Action  1980   \n",
       "3                                         Airplane!     PG     Comedy  1980   \n",
       "4                                        Caddyshack      R     Comedy  1980   \n",
       "..                                              ...    ...        ...   ...   \n",
       "245                                   Summer Lovers      R     Comedy  1982   \n",
       "246                                 Victor Victoria     PG     Comedy  1982   \n",
       "247                                The Last Unicorn      G  Animation  1982   \n",
       "248                                      The Entity      R      Drama  1982   \n",
       "249                         Airplane II: the Sequel     PG     Comedy  1982   \n",
       "\n",
       "                              released  score      votes         director  \\\n",
       "0        June 13, 1980 (United States)    8.4   927000.0  Stanley Kubrick   \n",
       "1         July 2, 1980 (United States)    5.8    65000.0   Randal Kleiser   \n",
       "2        June 20, 1980 (United States)    8.7  1200000.0   Irvin Kershner   \n",
       "3         July 2, 1980 (United States)    7.7   221000.0     Jim Abrahams   \n",
       "4        July 25, 1980 (United States)    7.3   108000.0     Harold Ramis   \n",
       "..                                 ...    ...        ...              ...   \n",
       "245      July 16, 1982 (United States)    5.7     3900.0   Randal Kleiser   \n",
       "246     March 19, 1982 (United States)    7.6    20000.0    Blake Edwards   \n",
       "247  November 19, 1982 (United States)    7.4    25000.0       Jules Bass   \n",
       "248   February 4, 1983 (United States)    6.7    15000.0  Sidney J. Furie   \n",
       "249  December 10, 1982 (United States)    6.2    50000.0    Ken Finkleman   \n",
       "\n",
       "                      writer             star         country      budget  \\\n",
       "0               Stephen King   Jack Nicholson  United Kingdom  19000000.0   \n",
       "1    Henry De Vere Stacpoole   Brooke Shields   United States   4500000.0   \n",
       "2             Leigh Brackett      Mark Hamill   United States  18000000.0   \n",
       "3               Jim Abrahams      Robert Hays   United States   3500000.0   \n",
       "4         Brian Doyle-Murray      Chevy Chase   United States   6000000.0   \n",
       "..                       ...              ...             ...         ...   \n",
       "245           Randal Kleiser  Peter Gallagher   United States  10600000.0   \n",
       "246            Blake Edwards    Julie Andrews  United Kingdom  10600000.0   \n",
       "247          Peter S. Beagle     Jeff Bridges  United Kingdom   3500000.0   \n",
       "248         Frank De Felitta  Barbara Hershey   United States   9000000.0   \n",
       "249            Ken Finkleman      Robert Hays   United States  15000000.0   \n",
       "\n",
       "     gross                      company runtime  \\\n",
       "0        1                 Warner Bros.   146.0   \n",
       "1        1            Columbia Pictures   104.0   \n",
       "2        1                    Lucasfilm   124.0   \n",
       "3        1           Paramount Pictures    88.0   \n",
       "4        1               Orion Pictures    98.0   \n",
       "..     ...                          ...     ...   \n",
       "245      0            Filmways Pictures    98.0   \n",
       "246      1    Metro-Goldwyn-Mayer (MGM)   134.0   \n",
       "247      0      Rankin/Bass Productions    92.0   \n",
       "248      0  American Cinema Productions   125.0   \n",
       "249      1           Paramount Pictures    85.0   \n",
       "\n",
       "                                       Category rating  Семейный просмотр  \n",
       "0    Лица, не достигшие 16-летнего возраста, допуск...                  0  \n",
       "1    Лица, не достигшие 16-летнего возраста, допуск...                  0  \n",
       "2                     Желательно присутствие родителей                  1  \n",
       "3                     Желательно присутствие родителей                  1  \n",
       "4    Лица, не достигшие 16-летнего возраста, допуск...                  0  \n",
       "..                                                 ...                ...  \n",
       "245  Лица, не достигшие 16-летнего возраста, допуск...                  0  \n",
       "246                   Желательно присутствие родителей                  1  \n",
       "247                         Нет возрастных ограничений                  0  \n",
       "248  Лица, не достигшие 16-летнего возраста, допуск...                  0  \n",
       "249                   Желательно присутствие родителей                  1  \n",
       "\n",
       "[250 rows x 17 columns]"
      ]
     },
     "execution_count": 126,
     "metadata": {},
     "output_type": "execute_result"
    }
   ],
   "source": [
    "df1 = df[0:250] #первые 15 строк БД с компаниями снимавшими фильмы\n",
    "df1"
   ]
  },
  {
   "cell_type": "code",
   "execution_count": 129,
   "id": "ccfd86ea",
   "metadata": {},
   "outputs": [
    {
     "data": {
      "text/plain": [
       "<AxesSubplot:xlabel='genre'>"
      ]
     },
     "execution_count": 129,
     "metadata": {},
     "output_type": "execute_result"
    },
    {
     "data": {
      "text/plain": [
       "<Figure size 1440x720 with 0 Axes>"
      ]
     },
     "metadata": {},
     "output_type": "display_data"
    },
    {
     "data": {
      "image/png": "[encoded data removed]",
      "text/plain": [
       "<Figure size 432x288 with 1 Axes>"
      ]
     },
     "metadata": {
      "needs_background": "light"
     },
     "output_type": "display_data"
    }
   ],
   "source": [
    "plt.figure(figsize = (20,10))\n",
    "df.groupby('genre')['Семейный просмотр'].value_counts().unstack().plot(kind = 'bar', stacked = True,sharex= True )"
   ]
  },
  {
   "cell_type": "markdown",
   "id": "26035889",
   "metadata": {},
   "source": [
    "Самыми снимаемыми фильмами являются комедии - больше 2000 штук(из них 1700 фильмов с чистым доходом меньше 20205760), на втором месте фильмы жанра Экшен - 1700 штук (1500 с чистым доходом меньше 20205760 ), 3 место- Драмы 1500 штук, вне зависимости от годов, эти жанры всегда на пике востребованности"
   ]
  },
  {
   "cell_type": "markdown",
   "id": "09361130",
   "metadata": {},
   "source": [
    "# Доверительные интервалы"
   ]
  },
  {
   "cell_type": "code",
   "execution_count": null,
   "id": "33e11dd3",
   "metadata": {},
   "outputs": [],
   "source": [
    "plt.title(\"Распределение длительности фильма от количества фильмов\" )\n",
    "#df[0:400]['runtime'].plot()\n",
    "sns.barplot(y= df[0:400]['name'].values, x = df[0:400]['runtime'].values, alpha=1)\n",
    "plt.xlabel('Кол-во фильмов')\n",
    "plt.ylabel('Длительность, минуты')\n",
    "ax.containers"
   ]
  },
  {
   "cell_type": "code",
   "execution_count": 130,
   "id": "910cb265",
   "metadata": {},
   "outputs": [
    {
     "data": {
      "text/plain": [
       "<AxesSubplot:title={'center':'Распределение значение оценки'}, xlabel='Оценки', ylabel='Количество фильмов'>"
      ]
     },
     "execution_count": 130,
     "metadata": {},
     "output_type": "execute_result"
    },
    {
     "data": {
      "image/png": "[encoded data removed]",
      "text/plain": [
       "<Figure size 432x288 with 1 Axes>"
      ]
     },
     "metadata": {
      "needs_background": "light"
     },
     "output_type": "display_data"
    }
   ],
   "source": [
    "plt.title('Распределение значение оценки')\n",
    "plt.xlabel('Оценки')\n",
    "plt.ylabel('Количество фильмов')\n",
    "df['score'].hist(color= \"green\")"
   ]
  },
  {
   "cell_type": "markdown",
   "id": "8fdf8c0f",
   "metadata": {},
   "source": [
    "Получаем следующее распределение оценок - самая частая оценка- 6.5"
   ]
  },
  {
   "cell_type": "code",
   "execution_count": 205,
   "id": "791498ad",
   "metadata": {},
   "outputs": [],
   "source": [
    "import seaborn as sns #визуализация\n",
    "import scipy.special as sps\n",
    "from scipy import *\n",
    "from scipy import stats\n",
    "from scipy.stats import kurtosis #коэффициент эксцесса (КЭ)\n",
    "from scipy.stats import skew #коэффициент ассиметрии (КА)(смещение графика в доль оси x)\n",
    "#Если курт и скью оба блтже к нулю, то распределение нормальное \n",
    "import statsmodels.api as sm #оценка стат.моделей\n",
    "import matplotlib.pyplot as plt"
   ]
  },
  {
   "cell_type": "code",
   "execution_count": 206,
   "id": "794b1fbf",
   "metadata": {},
   "outputs": [],
   "source": [
    "def my_basic_research(df = df, column = 'score'):\n",
    "    print ('Базовые метрики: ')\n",
    "    print (df[column].describe())\n",
    "    print ('---------------')\n",
    "    \n",
    "    print ('Самые популярные значения метрики, топ 5')\n",
    "    print (df[column].value_counts().nlargest(5))\n",
    "    print ('-------------')\n",
    "    \n",
    "    print ('КЭ', kurtosis(df[column]))\n",
    "    print ('КА', skew (df[column]))\n",
    "    \n",
    "    sns.displot(df[column])\n",
    "    plt.title('Распределение метрик')"
   ]
  },
  {
   "cell_type": "code",
   "execution_count": 207,
   "id": "56fc6fa8",
   "metadata": {},
   "outputs": [
    {
     "name": "stdout",
     "output_type": "stream",
     "text": [
      "Базовые метрики: \n",
      "count    7668.000000\n",
      "mean        6.390376\n",
      "std         0.968654\n",
      "min         1.900000\n",
      "25%         5.800000\n",
      "50%         6.500000\n",
      "75%         7.100000\n",
      "max         9.300000\n",
      "Name: score, dtype: float64\n",
      "---------------\n",
      "Самые популярные значения метрики, топ 5\n",
      "6.6    359\n",
      "6.4    351\n",
      "6.2    346\n",
      "6.7    332\n",
      "6.5    331\n",
      "Name: score, dtype: int64\n",
      "-------------\n",
      "КЭ 0.8926472963991614\n",
      "КА -0.6043209861241137\n"
     ]
    },
    {
     "data": {
      "image/png": "[encoded data removed]",
      "text/plain": [
       "<Figure size 360x360 with 1 Axes>"
      ]
     },
     "metadata": {
      "needs_background": "light"
     },
     "output_type": "display_data"
    }
   ],
   "source": [
    "my_basic_research(df = df, column = 'score')"
   ]
  },
  {
   "cell_type": "markdown",
   "id": "9ed0e9d2",
   "metadata": {},
   "source": [
    "Из проведенных операций получаем, что самые популярные значения оценок - это 6.5 баллов за фильм , а кол-во фильмов, получивших такие отметки, равно 359"
   ]
  },
  {
   "cell_type": "code",
   "execution_count": 208,
   "id": "bf9d3e02",
   "metadata": {},
   "outputs": [
    {
     "data": {
      "image/png": "[encoded data removed]",
      "text/plain": [
       "<Figure size 432x288 with 1 Axes>"
      ]
     },
     "metadata": {
      "needs_background": "light"
     },
     "output_type": "display_data"
    }
   ],
   "source": [
    "sm.qqplot(df['score'], fit = True)\n",
    "plt.title ('QQ plot')\n",
    "plt.show() #под 45 градусов - данные распределены по нормальному закону Гаусса"
   ]
  },
  {
   "cell_type": "markdown",
   "id": "b447f6a8",
   "metadata": {},
   "source": [
    "Отрицательные значения в нашем случае можно отделить, так как миимальной оценкой в нашем случае может быть только 0, если обратить внимание на положительные цифры по обеим осям то увидим что оценка постоянно возрастает в распределении. Вывод из этого можно сделать что оценки распределены  около 3 баллов(среднее значение от оценки 6)"
   ]
  },
  {
   "cell_type": "markdown",
   "id": "c74e97d0",
   "metadata": {},
   "source": [
    "Нормальное распределение"
   ]
  },
  {
   "cell_type": "code",
   "execution_count": 209,
   "id": "f1bb0826",
   "metadata": {},
   "outputs": [],
   "source": [
    "def my_norm_confidence (df=df, column = 'score', alpha = 0.99):\n",
    "    interval = stats.norm.interval(alpha, loc = df[column].mean(), scale = df[column].std())\n",
    "    return interval"
   ]
  },
  {
   "cell_type": "code",
   "execution_count": 210,
   "id": "d0535f92",
   "metadata": {},
   "outputs": [
    {
     "data": {
      "text/plain": [
       "(3.895288938805695, 8.885462234903203)"
      ]
     },
     "execution_count": 210,
     "metadata": {},
     "output_type": "execute_result"
    }
   ],
   "source": [
    "my_norm_confidence()"
   ]
  },
  {
   "cell_type": "markdown",
   "id": "57f0b3d2",
   "metadata": {},
   "source": [
    "Нормальное распределение колеблется между отметками 3.8 и 8.9"
   ]
  },
  {
   "cell_type": "code",
   "execution_count": 211,
   "id": "4fc4d312",
   "metadata": {},
   "outputs": [],
   "source": [
    "confidence = my_norm_confidence()"
   ]
  },
  {
   "cell_type": "code",
   "execution_count": 212,
   "id": "7b8343ad",
   "metadata": {},
   "outputs": [
    {
     "data": {
      "text/plain": [
       "Text(0.5, 1.0, 'Доверительный интервал')"
      ]
     },
     "execution_count": 212,
     "metadata": {},
     "output_type": "execute_result"
    },
    {
     "data": {
      "image/png": "[encoded data removed]",
      "text/plain": [
       "<Figure size 432x288 with 1 Axes>"
      ]
     },
     "metadata": {
      "needs_background": "light"
     },
     "output_type": "display_data"
    }
   ],
   "source": [
    "df.score.plot(color = \"green\")\n",
    "plt.axhline(y = confidence[1], color = 'g', linestyle = '-') #горизонатльная линия параллельная оси X\n",
    "plt.axhline(y = confidence[0], color = 'r', linestyle = '-')\n",
    "plt.title('Доверительный интервал')"
   ]
  },
  {
   "cell_type": "markdown",
   "id": "0286cc52",
   "metadata": {},
   "source": [
    "Получаем, что минимальное значение доверительного интервала около 4, максимальное - около 9"
   ]
  },
  {
   "cell_type": "markdown",
   "id": "ee498032",
   "metadata": {},
   "source": [
    "Выясним количество аномально больших значений оценок"
   ]
  },
  {
   "cell_type": "code",
   "execution_count": 213,
   "id": "899c7ec5",
   "metadata": {},
   "outputs": [
    {
     "data": {
      "text/html": [
       "<div>\n",
       "<style scoped>\n",
       "    .dataframe tbody tr th:only-of-type {\n",
       "        vertical-align: middle;\n",
       "    }\n",
       "\n",
       "    .dataframe tbody tr th {\n",
       "        vertical-align: top;\n",
       "    }\n",
       "\n",
       "    .dataframe thead th {\n",
       "        text-align: right;\n",
       "    }\n",
       "</style>\n",
       "<table border=\"1\" class=\"dataframe\">\n",
       "  <thead>\n",
       "    <tr style=\"text-align: right;\">\n",
       "      <th></th>\n",
       "      <th>year</th>\n",
       "      <th>score</th>\n",
       "      <th>votes</th>\n",
       "      <th>budget</th>\n",
       "      <th>gross</th>\n",
       "      <th>Семейный просмотр</th>\n",
       "      <th>Anomaly_big</th>\n",
       "    </tr>\n",
       "  </thead>\n",
       "  <tbody>\n",
       "    <tr>\n",
       "      <th>count</th>\n",
       "      <td>5.000000</td>\n",
       "      <td>5.000000</td>\n",
       "      <td>5.000000e+00</td>\n",
       "      <td>5.000000e+00</td>\n",
       "      <td>5.0</td>\n",
       "      <td>5.0</td>\n",
       "      <td>5.0</td>\n",
       "    </tr>\n",
       "    <tr>\n",
       "      <th>mean</th>\n",
       "      <td>1998.400000</td>\n",
       "      <td>9.000000</td>\n",
       "      <td>1.920000e+06</td>\n",
       "      <td>6.680000e+07</td>\n",
       "      <td>1.0</td>\n",
       "      <td>0.0</td>\n",
       "      <td>1.0</td>\n",
       "    </tr>\n",
       "    <tr>\n",
       "      <th>std</th>\n",
       "      <td>6.730527</td>\n",
       "      <td>0.173205</td>\n",
       "      <td>5.069517e+05</td>\n",
       "      <td>7.403175e+07</td>\n",
       "      <td>0.0</td>\n",
       "      <td>0.0</td>\n",
       "      <td>0.0</td>\n",
       "    </tr>\n",
       "    <tr>\n",
       "      <th>min</th>\n",
       "      <td>1993.000000</td>\n",
       "      <td>8.900000</td>\n",
       "      <td>1.200000e+06</td>\n",
       "      <td>8.000000e+06</td>\n",
       "      <td>1.0</td>\n",
       "      <td>0.0</td>\n",
       "      <td>1.0</td>\n",
       "    </tr>\n",
       "    <tr>\n",
       "      <th>25%</th>\n",
       "      <td>1994.000000</td>\n",
       "      <td>8.900000</td>\n",
       "      <td>1.700000e+06</td>\n",
       "      <td>2.200000e+07</td>\n",
       "      <td>1.0</td>\n",
       "      <td>0.0</td>\n",
       "      <td>1.0</td>\n",
       "    </tr>\n",
       "    <tr>\n",
       "      <th>50%</th>\n",
       "      <td>1994.000000</td>\n",
       "      <td>8.900000</td>\n",
       "      <td>1.900000e+06</td>\n",
       "      <td>2.500000e+07</td>\n",
       "      <td>1.0</td>\n",
       "      <td>0.0</td>\n",
       "      <td>1.0</td>\n",
       "    </tr>\n",
       "    <tr>\n",
       "      <th>75%</th>\n",
       "      <td>2003.000000</td>\n",
       "      <td>9.000000</td>\n",
       "      <td>2.400000e+06</td>\n",
       "      <td>9.400000e+07</td>\n",
       "      <td>1.0</td>\n",
       "      <td>0.0</td>\n",
       "      <td>1.0</td>\n",
       "    </tr>\n",
       "    <tr>\n",
       "      <th>max</th>\n",
       "      <td>2008.000000</td>\n",
       "      <td>9.300000</td>\n",
       "      <td>2.400000e+06</td>\n",
       "      <td>1.850000e+08</td>\n",
       "      <td>1.0</td>\n",
       "      <td>0.0</td>\n",
       "      <td>1.0</td>\n",
       "    </tr>\n",
       "  </tbody>\n",
       "</table>\n",
       "</div>"
      ],
      "text/plain": [
       "              year     score         votes        budget  gross  \\\n",
       "count     5.000000  5.000000  5.000000e+00  5.000000e+00    5.0   \n",
       "mean   1998.400000  9.000000  1.920000e+06  6.680000e+07    1.0   \n",
       "std       6.730527  0.173205  5.069517e+05  7.403175e+07    0.0   \n",
       "min    1993.000000  8.900000  1.200000e+06  8.000000e+06    1.0   \n",
       "25%    1994.000000  8.900000  1.700000e+06  2.200000e+07    1.0   \n",
       "50%    1994.000000  8.900000  1.900000e+06  2.500000e+07    1.0   \n",
       "75%    2003.000000  9.000000  2.400000e+06  9.400000e+07    1.0   \n",
       "max    2008.000000  9.300000  2.400000e+06  1.850000e+08    1.0   \n",
       "\n",
       "       Семейный просмотр  Anomaly_big  \n",
       "count                5.0          5.0  \n",
       "mean                 0.0          1.0  \n",
       "std                  0.0          0.0  \n",
       "min                  0.0          1.0  \n",
       "25%                  0.0          1.0  \n",
       "50%                  0.0          1.0  \n",
       "75%                  0.0          1.0  \n",
       "max                  0.0          1.0  "
      ]
     },
     "execution_count": 213,
     "metadata": {},
     "output_type": "execute_result"
    }
   ],
   "source": [
    "df['Anomaly_big'] = np.where(df['score'] > confidence [1], 1,0)\n",
    "df[df['Anomaly_big'] == 1].describe()"
   ]
  },
  {
   "cell_type": "markdown",
   "id": "eebfb53b",
   "metadata": {},
   "source": [
    "Выясним количество аномально маленьких значений оценок"
   ]
  },
  {
   "cell_type": "code",
   "execution_count": 214,
   "id": "bf6e1df6",
   "metadata": {},
   "outputs": [
    {
     "data": {
      "text/html": [
       "<div>\n",
       "<style scoped>\n",
       "    .dataframe tbody tr th:only-of-type {\n",
       "        vertical-align: middle;\n",
       "    }\n",
       "\n",
       "    .dataframe tbody tr th {\n",
       "        vertical-align: top;\n",
       "    }\n",
       "\n",
       "    .dataframe thead th {\n",
       "        text-align: right;\n",
       "    }\n",
       "</style>\n",
       "<table border=\"1\" class=\"dataframe\">\n",
       "  <thead>\n",
       "    <tr style=\"text-align: right;\">\n",
       "      <th></th>\n",
       "      <th>year</th>\n",
       "      <th>score</th>\n",
       "      <th>votes</th>\n",
       "      <th>budget</th>\n",
       "      <th>gross</th>\n",
       "      <th>Семейный просмотр</th>\n",
       "      <th>Anomaly_big</th>\n",
       "      <th>Anomaly_small</th>\n",
       "    </tr>\n",
       "  </thead>\n",
       "  <tbody>\n",
       "    <tr>\n",
       "      <th>count</th>\n",
       "      <td>118.000000</td>\n",
       "      <td>118.000000</td>\n",
       "      <td>118.000000</td>\n",
       "      <td>1.180000e+02</td>\n",
       "      <td>118.000000</td>\n",
       "      <td>118.000000</td>\n",
       "      <td>118.0</td>\n",
       "      <td>118.0</td>\n",
       "    </tr>\n",
       "    <tr>\n",
       "      <th>mean</th>\n",
       "      <td>1998.567797</td>\n",
       "      <td>3.278814</td>\n",
       "      <td>25580.330508</td>\n",
       "      <td>2.347362e+07</td>\n",
       "      <td>0.338983</td>\n",
       "      <td>0.313559</td>\n",
       "      <td>0.0</td>\n",
       "      <td>1.0</td>\n",
       "    </tr>\n",
       "    <tr>\n",
       "      <th>std</th>\n",
       "      <td>11.125914</td>\n",
       "      <td>0.529288</td>\n",
       "      <td>31609.672977</td>\n",
       "      <td>2.310218e+07</td>\n",
       "      <td>0.475383</td>\n",
       "      <td>0.465918</td>\n",
       "      <td>0.0</td>\n",
       "      <td>0.0</td>\n",
       "    </tr>\n",
       "    <tr>\n",
       "      <th>min</th>\n",
       "      <td>1981.000000</td>\n",
       "      <td>1.900000</td>\n",
       "      <td>18.000000</td>\n",
       "      <td>7.000000e+03</td>\n",
       "      <td>0.000000</td>\n",
       "      <td>0.000000</td>\n",
       "      <td>0.0</td>\n",
       "      <td>1.0</td>\n",
       "    </tr>\n",
       "    <tr>\n",
       "      <th>25%</th>\n",
       "      <td>1988.000000</td>\n",
       "      <td>3.000000</td>\n",
       "      <td>4825.000000</td>\n",
       "      <td>9.500000e+06</td>\n",
       "      <td>0.000000</td>\n",
       "      <td>0.000000</td>\n",
       "      <td>0.0</td>\n",
       "      <td>1.0</td>\n",
       "    </tr>\n",
       "    <tr>\n",
       "      <th>50%</th>\n",
       "      <td>1998.500000</td>\n",
       "      <td>3.500000</td>\n",
       "      <td>17000.000000</td>\n",
       "      <td>1.750000e+07</td>\n",
       "      <td>0.000000</td>\n",
       "      <td>0.000000</td>\n",
       "      <td>0.0</td>\n",
       "      <td>1.0</td>\n",
       "    </tr>\n",
       "    <tr>\n",
       "      <th>75%</th>\n",
       "      <td>2007.000000</td>\n",
       "      <td>3.700000</td>\n",
       "      <td>36000.000000</td>\n",
       "      <td>2.575000e+07</td>\n",
       "      <td>1.000000</td>\n",
       "      <td>1.000000</td>\n",
       "      <td>0.0</td>\n",
       "      <td>1.0</td>\n",
       "    </tr>\n",
       "    <tr>\n",
       "      <th>max</th>\n",
       "      <td>2020.000000</td>\n",
       "      <td>3.800000</td>\n",
       "      <td>238000.000000</td>\n",
       "      <td>1.250000e+08</td>\n",
       "      <td>1.000000</td>\n",
       "      <td>1.000000</td>\n",
       "      <td>0.0</td>\n",
       "      <td>1.0</td>\n",
       "    </tr>\n",
       "  </tbody>\n",
       "</table>\n",
       "</div>"
      ],
      "text/plain": [
       "              year       score          votes        budget       gross  \\\n",
       "count   118.000000  118.000000     118.000000  1.180000e+02  118.000000   \n",
       "mean   1998.567797    3.278814   25580.330508  2.347362e+07    0.338983   \n",
       "std      11.125914    0.529288   31609.672977  2.310218e+07    0.475383   \n",
       "min    1981.000000    1.900000      18.000000  7.000000e+03    0.000000   \n",
       "25%    1988.000000    3.000000    4825.000000  9.500000e+06    0.000000   \n",
       "50%    1998.500000    3.500000   17000.000000  1.750000e+07    0.000000   \n",
       "75%    2007.000000    3.700000   36000.000000  2.575000e+07    1.000000   \n",
       "max    2020.000000    3.800000  238000.000000  1.250000e+08    1.000000   \n",
       "\n",
       "       Семейный просмотр  Anomaly_big  Anomaly_small  \n",
       "count         118.000000        118.0          118.0  \n",
       "mean            0.313559          0.0            1.0  \n",
       "std             0.465918          0.0            0.0  \n",
       "min             0.000000          0.0            1.0  \n",
       "25%             0.000000          0.0            1.0  \n",
       "50%             0.000000          0.0            1.0  \n",
       "75%             1.000000          0.0            1.0  \n",
       "max             1.000000          0.0            1.0  "
      ]
     },
     "execution_count": 214,
     "metadata": {},
     "output_type": "execute_result"
    }
   ],
   "source": [
    "df['Anomaly_small'] = np.where(df['score'] < confidence [0], 1,0)\n",
    "df[df['Anomaly_small'] == 1].describe()"
   ]
  },
  {
   "cell_type": "markdown",
   "id": "b1a7a081",
   "metadata": {},
   "source": [
    "Получаем 118 штук аномально маленьких значений"
   ]
  },
  {
   "cell_type": "markdown",
   "id": "5992e2db",
   "metadata": {},
   "source": [
    "Определим функцию для поиска аномалий"
   ]
  },
  {
   "cell_type": "code",
   "execution_count": 109,
   "id": "c3cfb4d4",
   "metadata": {},
   "outputs": [],
   "source": [
    "def find_anomaly (df = df, column = 'score'): \n",
    "    upper_level = df[column].mean() + 3*df[column].std()\n",
    "    lower_level = df[column].mean() - 3*df[column].std()\n",
    "    anomaly = df [(df[column] > upper_level)| (df[column] < upper_level)]\n",
    "    return upper_level, lower_level, anomaly"
   ]
  },
  {
   "cell_type": "code",
   "execution_count": 110,
   "id": "896a22c0",
   "metadata": {},
   "outputs": [],
   "source": [
    "anomaly = find_anomaly (df = df, column = 'score') # поиск аномалии производится в колонке оценка"
   ]
  },
  {
   "cell_type": "code",
   "execution_count": 111,
   "id": "716e2af3",
   "metadata": {},
   "outputs": [
    {
     "name": "stdout",
     "output_type": "stream",
     "text": [
      "9.29693587966327 3.4838860381449246\n"
     ]
    }
   ],
   "source": [
    "print(anomaly[0], anomaly[1])"
   ]
  },
  {
   "cell_type": "markdown",
   "id": "5ad70023",
   "metadata": {},
   "source": [
    "Получаем, что аномально высокой оценкой является оценка 9.3, а аномально низкой -3.5"
   ]
  },
  {
   "cell_type": "code",
   "execution_count": 218,
   "id": "f2564438",
   "metadata": {},
   "outputs": [
    {
     "data": {
      "text/html": [
       "<div>\n",
       "<style scoped>\n",
       "    .dataframe tbody tr th:only-of-type {\n",
       "        vertical-align: middle;\n",
       "    }\n",
       "\n",
       "    .dataframe tbody tr th {\n",
       "        vertical-align: top;\n",
       "    }\n",
       "\n",
       "    .dataframe thead th {\n",
       "        text-align: right;\n",
       "    }\n",
       "</style>\n",
       "<table border=\"1\" class=\"dataframe\">\n",
       "  <thead>\n",
       "    <tr style=\"text-align: right;\">\n",
       "      <th></th>\n",
       "      <th>name</th>\n",
       "      <th>rating</th>\n",
       "      <th>genre</th>\n",
       "      <th>year</th>\n",
       "      <th>released</th>\n",
       "      <th>score</th>\n",
       "      <th>votes</th>\n",
       "      <th>director</th>\n",
       "      <th>writer</th>\n",
       "      <th>star</th>\n",
       "      <th>country</th>\n",
       "      <th>budget</th>\n",
       "      <th>gross</th>\n",
       "      <th>company</th>\n",
       "      <th>runtime</th>\n",
       "      <th>Category rating</th>\n",
       "      <th>Семейный просмотр</th>\n",
       "      <th>Anomaly_big</th>\n",
       "      <th>Anomaly_small</th>\n",
       "    </tr>\n",
       "  </thead>\n",
       "  <tbody>\n",
       "    <tr>\n",
       "      <th>2443</th>\n",
       "      <td>The Shawshank Redemption</td>\n",
       "      <td>R</td>\n",
       "      <td>Drama</td>\n",
       "      <td>1994</td>\n",
       "      <td>October 14, 1994 (United States)</td>\n",
       "      <td>9.3</td>\n",
       "      <td>2400000.0</td>\n",
       "      <td>Frank Darabont</td>\n",
       "      <td>Stephen King</td>\n",
       "      <td>Tim Robbins</td>\n",
       "      <td>United States</td>\n",
       "      <td>25000000.0</td>\n",
       "      <td>1</td>\n",
       "      <td>Castle Rock Entertainment</td>\n",
       "      <td>142.0</td>\n",
       "      <td>Лица, не достигшие 16-летнего возраста, допуск...</td>\n",
       "      <td>0</td>\n",
       "      <td>1</td>\n",
       "      <td>0</td>\n",
       "    </tr>\n",
       "  </tbody>\n",
       "</table>\n",
       "</div>"
      ],
      "text/plain": [
       "                          name rating  genre  year  \\\n",
       "2443  The Shawshank Redemption      R  Drama  1994   \n",
       "\n",
       "                              released  score      votes        director  \\\n",
       "2443  October 14, 1994 (United States)    9.3  2400000.0  Frank Darabont   \n",
       "\n",
       "            writer         star        country      budget  gross  \\\n",
       "2443  Stephen King  Tim Robbins  United States  25000000.0      1   \n",
       "\n",
       "                        company runtime  \\\n",
       "2443  Castle Rock Entertainment   142.0   \n",
       "\n",
       "                                        Category rating  Семейный просмотр  \\\n",
       "2443  Лица, не достигшие 16-летнего возраста, допуск...                  0   \n",
       "\n",
       "      Anomaly_big  Anomaly_small  \n",
       "2443            1              0  "
      ]
     },
     "execution_count": 218,
     "metadata": {},
     "output_type": "execute_result"
    }
   ],
   "source": [
    "df['Anomaly_big'] = np.where(df['score'] > anomaly [0], 1,0)\n",
    "df[df['Anomaly_big'] == 1]"
   ]
  },
  {
   "cell_type": "markdown",
   "id": "4dab1600",
   "metadata": {},
   "source": [
    "Сейчас просмотрели, как выглядят данные для аномально высокой оценки, значит высоко была оценена драма 1994 года, где был писатель Стивен Кинг и звездой Тим Роббинс, компания Castle Rock Entertainment\t, фильм не предназначался для лиц младше 16 лет "
   ]
  },
  {
   "cell_type": "code",
   "execution_count": 219,
   "id": "401f9897",
   "metadata": {
    "scrolled": false
   },
   "outputs": [
    {
     "data": {
      "text/html": [
       "<div>\n",
       "<style scoped>\n",
       "    .dataframe tbody tr th:only-of-type {\n",
       "        vertical-align: middle;\n",
       "    }\n",
       "\n",
       "    .dataframe tbody tr th {\n",
       "        vertical-align: top;\n",
       "    }\n",
       "\n",
       "    .dataframe thead th {\n",
       "        text-align: right;\n",
       "    }\n",
       "</style>\n",
       "<table border=\"1\" class=\"dataframe\">\n",
       "  <thead>\n",
       "    <tr style=\"text-align: right;\">\n",
       "      <th></th>\n",
       "      <th>name</th>\n",
       "      <th>rating</th>\n",
       "      <th>genre</th>\n",
       "      <th>year</th>\n",
       "      <th>released</th>\n",
       "      <th>score</th>\n",
       "      <th>votes</th>\n",
       "      <th>director</th>\n",
       "      <th>writer</th>\n",
       "      <th>star</th>\n",
       "      <th>country</th>\n",
       "      <th>budget</th>\n",
       "      <th>gross</th>\n",
       "      <th>company</th>\n",
       "      <th>runtime</th>\n",
       "      <th>Category rating</th>\n",
       "      <th>Семейный просмотр</th>\n",
       "      <th>Anomaly_big</th>\n",
       "      <th>Anomaly_small</th>\n",
       "    </tr>\n",
       "  </thead>\n",
       "  <tbody>\n",
       "    <tr>\n",
       "      <th>120</th>\n",
       "      <td>Tarzan the Ape Man</td>\n",
       "      <td>Approved</td>\n",
       "      <td>Adventure</td>\n",
       "      <td>1981</td>\n",
       "      <td>July 24, 1981 (United States)</td>\n",
       "      <td>3.4</td>\n",
       "      <td>5300.0</td>\n",
       "      <td>John Derek</td>\n",
       "      <td>Tom Rowe</td>\n",
       "      <td>Bo Derek</td>\n",
       "      <td>United States</td>\n",
       "      <td>6500000.0</td>\n",
       "      <td>1</td>\n",
       "      <td>Metro-Goldwyn-Mayer (MGM)</td>\n",
       "      <td>115.0</td>\n",
       "      <td>Одобрен</td>\n",
       "      <td>0</td>\n",
       "      <td>0</td>\n",
       "      <td>1</td>\n",
       "    </tr>\n",
       "    <tr>\n",
       "      <th>190</th>\n",
       "      <td>Inchon</td>\n",
       "      <td>PG</td>\n",
       "      <td>Drama</td>\n",
       "      <td>1981</td>\n",
       "      <td>September 17, 1982 (United States)</td>\n",
       "      <td>2.7</td>\n",
       "      <td>659.0</td>\n",
       "      <td>Terence Young</td>\n",
       "      <td>Robin Moore</td>\n",
       "      <td>Laurence Olivier</td>\n",
       "      <td>South Korea</td>\n",
       "      <td>46000000.0</td>\n",
       "      <td>0</td>\n",
       "      <td>One Way Productions</td>\n",
       "      <td>140.0</td>\n",
       "      <td>Желательно присутствие родителей</td>\n",
       "      <td>1</td>\n",
       "      <td>0</td>\n",
       "      <td>1</td>\n",
       "    </tr>\n",
       "    <tr>\n",
       "      <th>198</th>\n",
       "      <td>Scream</td>\n",
       "      <td>R</td>\n",
       "      <td>Horror</td>\n",
       "      <td>1981</td>\n",
       "      <td>January 1, 1981 (United States)</td>\n",
       "      <td>2.9</td>\n",
       "      <td>674.0</td>\n",
       "      <td>Byron Quisenberry</td>\n",
       "      <td>Byron Quisenberry</td>\n",
       "      <td>Pepper Martin</td>\n",
       "      <td>United States</td>\n",
       "      <td>10000000.0</td>\n",
       "      <td>0</td>\n",
       "      <td>Calendar International Pictures</td>\n",
       "      <td>82.0</td>\n",
       "      <td>Лица, не достигшие 16-летнего возраста, допуск...</td>\n",
       "      <td>0</td>\n",
       "      <td>0</td>\n",
       "      <td>1</td>\n",
       "    </tr>\n",
       "    <tr>\n",
       "      <th>427</th>\n",
       "      <td>The Lonely Lady</td>\n",
       "      <td>R</td>\n",
       "      <td>Drama</td>\n",
       "      <td>1983</td>\n",
       "      <td>September 30, 1983 (United States)</td>\n",
       "      <td>3.0</td>\n",
       "      <td>938.0</td>\n",
       "      <td>Peter Sasdy</td>\n",
       "      <td>Harold Robbins</td>\n",
       "      <td>Pia Zadora</td>\n",
       "      <td>United States</td>\n",
       "      <td>5000000.0</td>\n",
       "      <td>0</td>\n",
       "      <td>Harold Robbins International Company</td>\n",
       "      <td>92.0</td>\n",
       "      <td>Лица, не достигшие 16-летнего возраста, допуск...</td>\n",
       "      <td>0</td>\n",
       "      <td>0</td>\n",
       "      <td>1</td>\n",
       "    </tr>\n",
       "    <tr>\n",
       "      <th>528</th>\n",
       "      <td>Bolero</td>\n",
       "      <td>R</td>\n",
       "      <td>Comedy</td>\n",
       "      <td>1984</td>\n",
       "      <td>August 31, 1984 (United States)</td>\n",
       "      <td>3.0</td>\n",
       "      <td>5100.0</td>\n",
       "      <td>John Derek</td>\n",
       "      <td>John Derek</td>\n",
       "      <td>Bo Derek</td>\n",
       "      <td>United States</td>\n",
       "      <td>7000000.0</td>\n",
       "      <td>0</td>\n",
       "      <td>City Films</td>\n",
       "      <td>105.0</td>\n",
       "      <td>Лица, не достигшие 16-летнего возраста, допуск...</td>\n",
       "      <td>0</td>\n",
       "      <td>0</td>\n",
       "      <td>1</td>\n",
       "    </tr>\n",
       "    <tr>\n",
       "      <th>991</th>\n",
       "      <td>Shanghai Surprise</td>\n",
       "      <td>PG-13</td>\n",
       "      <td>Adventure</td>\n",
       "      <td>1986</td>\n",
       "      <td>August 29, 1986 (United States)</td>\n",
       "      <td>3.2</td>\n",
       "      <td>5000.0</td>\n",
       "      <td>Jim Goddard</td>\n",
       "      <td>John Kohn</td>\n",
       "      <td>Sean Penn</td>\n",
       "      <td>United Kingdom</td>\n",
       "      <td>17000000.0</td>\n",
       "      <td>0</td>\n",
       "      <td>HandMade Films</td>\n",
       "      <td>97.0</td>\n",
       "      <td>Детям до 13 лет просмотр не желателен</td>\n",
       "      <td>0</td>\n",
       "      <td>0</td>\n",
       "      <td>1</td>\n",
       "    </tr>\n",
       "    <tr>\n",
       "      <th>1000</th>\n",
       "      <td>Hardbodies 2</td>\n",
       "      <td>R</td>\n",
       "      <td>Comedy</td>\n",
       "      <td>1986</td>\n",
       "      <td>September 12, 1986 (United States)</td>\n",
       "      <td>3.2</td>\n",
       "      <td>1100.0</td>\n",
       "      <td>Mark Griffiths</td>\n",
       "      <td>Mark Griffiths</td>\n",
       "      <td>James Karen</td>\n",
       "      <td>United States</td>\n",
       "      <td>12000000.0</td>\n",
       "      <td>0</td>\n",
       "      <td>Chroma III Productions</td>\n",
       "      <td>88.0</td>\n",
       "      <td>Лица, не достигшие 16-летнего возраста, допуск...</td>\n",
       "      <td>0</td>\n",
       "      <td>0</td>\n",
       "      <td>1</td>\n",
       "    </tr>\n",
       "    <tr>\n",
       "      <th>1067</th>\n",
       "      <td>Jaws: the Revenge</td>\n",
       "      <td>PG-13</td>\n",
       "      <td>Adventure</td>\n",
       "      <td>1987</td>\n",
       "      <td>July 17, 1987 (United States)</td>\n",
       "      <td>3.0</td>\n",
       "      <td>42000.0</td>\n",
       "      <td>Joseph Sargent</td>\n",
       "      <td>Peter Benchley</td>\n",
       "      <td>Lorraine Gary</td>\n",
       "      <td>United States</td>\n",
       "      <td>23000000.0</td>\n",
       "      <td>1</td>\n",
       "      <td>Universal Pictures</td>\n",
       "      <td>89.0</td>\n",
       "      <td>Детям до 13 лет просмотр не желателен</td>\n",
       "      <td>0</td>\n",
       "      <td>0</td>\n",
       "      <td>1</td>\n",
       "    </tr>\n",
       "    <tr>\n",
       "      <th>1104</th>\n",
       "      <td>Teen Wolf Too</td>\n",
       "      <td>PG</td>\n",
       "      <td>Comedy</td>\n",
       "      <td>1987</td>\n",
       "      <td>November 20, 1987 (United States)</td>\n",
       "      <td>3.4</td>\n",
       "      <td>11000.0</td>\n",
       "      <td>Christopher Leitch</td>\n",
       "      <td>Jeph Loeb</td>\n",
       "      <td>Jason Bateman</td>\n",
       "      <td>United States</td>\n",
       "      <td>3000000.0</td>\n",
       "      <td>0</td>\n",
       "      <td>Atlantic Entertainment Group</td>\n",
       "      <td>95.0</td>\n",
       "      <td>Желательно присутствие родителей</td>\n",
       "      <td>1</td>\n",
       "      <td>0</td>\n",
       "      <td>1</td>\n",
       "    </tr>\n",
       "    <tr>\n",
       "      <th>1125</th>\n",
       "      <td>The Garbage Pail Kids Movie</td>\n",
       "      <td>PG</td>\n",
       "      <td>Adventure</td>\n",
       "      <td>1987</td>\n",
       "      <td>August 22, 1987 (United States)</td>\n",
       "      <td>2.6</td>\n",
       "      <td>7600.0</td>\n",
       "      <td>Rod Amateau</td>\n",
       "      <td>Linda Palmer</td>\n",
       "      <td>Anthony Newley</td>\n",
       "      <td>United States</td>\n",
       "      <td>1000000.0</td>\n",
       "      <td>0</td>\n",
       "      <td>Atlantic Entertainment Group</td>\n",
       "      <td>100.0</td>\n",
       "      <td>Желательно присутствие родителей</td>\n",
       "      <td>1</td>\n",
       "      <td>0</td>\n",
       "      <td>1</td>\n",
       "    </tr>\n",
       "    <tr>\n",
       "      <th>1189</th>\n",
       "      <td>Leonard Part 6</td>\n",
       "      <td>PG</td>\n",
       "      <td>Action</td>\n",
       "      <td>1987</td>\n",
       "      <td>December 18, 1987 (United States)</td>\n",
       "      <td>2.2</td>\n",
       "      <td>7900.0</td>\n",
       "      <td>Paul Weiland</td>\n",
       "      <td>Jonathan Reynolds</td>\n",
       "      <td>Bill Cosby</td>\n",
       "      <td>United States</td>\n",
       "      <td>24000000.0</td>\n",
       "      <td>0</td>\n",
       "      <td>Columbia Pictures</td>\n",
       "      <td>85.0</td>\n",
       "      <td>Желательно присутствие родителей</td>\n",
       "      <td>1</td>\n",
       "      <td>0</td>\n",
       "      <td>1</td>\n",
       "    </tr>\n",
       "    <tr>\n",
       "      <th>1292</th>\n",
       "      <td>Mac and Me</td>\n",
       "      <td>PG</td>\n",
       "      <td>Adventure</td>\n",
       "      <td>1988</td>\n",
       "      <td>August 12, 1988 (United States)</td>\n",
       "      <td>3.4</td>\n",
       "      <td>12000.0</td>\n",
       "      <td>Stewart Raffill</td>\n",
       "      <td>Stewart Raffill</td>\n",
       "      <td>Christine Ebersole</td>\n",
       "      <td>United States</td>\n",
       "      <td>13000000.0</td>\n",
       "      <td>0</td>\n",
       "      <td>Mac and Me Joint Venture</td>\n",
       "      <td>99.0</td>\n",
       "      <td>Желательно присутствие родителей</td>\n",
       "      <td>1</td>\n",
       "      <td>0</td>\n",
       "      <td>1</td>\n",
       "    </tr>\n",
       "    <tr>\n",
       "      <th>1632</th>\n",
       "      <td>Martians Go Home</td>\n",
       "      <td>PG-13</td>\n",
       "      <td>Comedy</td>\n",
       "      <td>1989</td>\n",
       "      <td>April 20, 1990 (United States)</td>\n",
       "      <td>3.1</td>\n",
       "      <td>666.0</td>\n",
       "      <td>David Odell</td>\n",
       "      <td>Fredric Brown</td>\n",
       "      <td>Randy Quaid</td>\n",
       "      <td>United States</td>\n",
       "      <td>13000000.0</td>\n",
       "      <td>0</td>\n",
       "      <td>Edward R. Pressman Productions</td>\n",
       "      <td>89.0</td>\n",
       "      <td>Детям до 13 лет просмотр не желателен</td>\n",
       "      <td>0</td>\n",
       "      <td>0</td>\n",
       "      <td>1</td>\n",
       "    </tr>\n",
       "    <tr>\n",
       "      <th>1929</th>\n",
       "      <td>Cool as Ice</td>\n",
       "      <td>PG</td>\n",
       "      <td>Comedy</td>\n",
       "      <td>1991</td>\n",
       "      <td>October 18, 1991 (United States)</td>\n",
       "      <td>2.9</td>\n",
       "      <td>9100.0</td>\n",
       "      <td>David Kellogg</td>\n",
       "      <td>David Stenn</td>\n",
       "      <td>Vanilla Ice</td>\n",
       "      <td>United States</td>\n",
       "      <td>6000000.0</td>\n",
       "      <td>0</td>\n",
       "      <td>Alive Films</td>\n",
       "      <td>91.0</td>\n",
       "      <td>Желательно присутствие родителей</td>\n",
       "      <td>1</td>\n",
       "      <td>0</td>\n",
       "      <td>1</td>\n",
       "    </tr>\n",
       "    <tr>\n",
       "      <th>2490</th>\n",
       "      <td>Texas Chainsaw Massacre: The Next Generation</td>\n",
       "      <td>R</td>\n",
       "      <td>Comedy</td>\n",
       "      <td>1994</td>\n",
       "      <td>January 1, 1994 (Germany)</td>\n",
       "      <td>3.3</td>\n",
       "      <td>21000.0</td>\n",
       "      <td>Kim Henkel</td>\n",
       "      <td>Kim Henkel</td>\n",
       "      <td>Renée Zellweger</td>\n",
       "      <td>United States</td>\n",
       "      <td>600000.0</td>\n",
       "      <td>0</td>\n",
       "      <td>Ultra Muchos Productions</td>\n",
       "      <td>87.0</td>\n",
       "      <td>Лица, не достигшие 16-летнего возраста, допуск...</td>\n",
       "      <td>0</td>\n",
       "      <td>0</td>\n",
       "      <td>1</td>\n",
       "    </tr>\n",
       "    <tr>\n",
       "      <th>2590</th>\n",
       "      <td>It's Pat: the Movie</td>\n",
       "      <td>PG-13</td>\n",
       "      <td>Comedy</td>\n",
       "      <td>1994</td>\n",
       "      <td>November 25, 1994 (Brazil)</td>\n",
       "      <td>2.7</td>\n",
       "      <td>9500.0</td>\n",
       "      <td>Adam Bernstein</td>\n",
       "      <td>Julia Sweeney</td>\n",
       "      <td>Julia Sweeney</td>\n",
       "      <td>United States</td>\n",
       "      <td>22000000.0</td>\n",
       "      <td>0</td>\n",
       "      <td>Touchstone Pictures</td>\n",
       "      <td>77.0</td>\n",
       "      <td>Детям до 13 лет просмотр не желателен</td>\n",
       "      <td>0</td>\n",
       "      <td>0</td>\n",
       "      <td>1</td>\n",
       "    </tr>\n",
       "    <tr>\n",
       "      <th>2916</th>\n",
       "      <td>Barb Wire</td>\n",
       "      <td>R</td>\n",
       "      <td>Action</td>\n",
       "      <td>1996</td>\n",
       "      <td>May 3, 1996 (United States)</td>\n",
       "      <td>3.4</td>\n",
       "      <td>26000.0</td>\n",
       "      <td>David Hogan</td>\n",
       "      <td>Chris Warner</td>\n",
       "      <td>Pamela Anderson</td>\n",
       "      <td>United States</td>\n",
       "      <td>9000000.0</td>\n",
       "      <td>0</td>\n",
       "      <td>Polygram Filmed Entertainment</td>\n",
       "      <td>98.0</td>\n",
       "      <td>Лица, не достигшие 16-летнего возраста, допуск...</td>\n",
       "      <td>0</td>\n",
       "      <td>0</td>\n",
       "      <td>1</td>\n",
       "    </tr>\n",
       "    <tr>\n",
       "      <th>2925</th>\n",
       "      <td>Kazaam</td>\n",
       "      <td>PG</td>\n",
       "      <td>Comedy</td>\n",
       "      <td>1996</td>\n",
       "      <td>July 17, 1996 (United States)</td>\n",
       "      <td>3.0</td>\n",
       "      <td>23000.0</td>\n",
       "      <td>Paul Michael Glaser</td>\n",
       "      <td>Paul Michael Glaser</td>\n",
       "      <td>Shaquille O'Neal</td>\n",
       "      <td>United States</td>\n",
       "      <td>20000000.0</td>\n",
       "      <td>0</td>\n",
       "      <td>Interscope Communications</td>\n",
       "      <td>93.0</td>\n",
       "      <td>Желательно присутствие родителей</td>\n",
       "      <td>1</td>\n",
       "      <td>0</td>\n",
       "      <td>1</td>\n",
       "    </tr>\n",
       "    <tr>\n",
       "      <th>2995</th>\n",
       "      <td>Lawnmower Man 2: Beyond Cyberspace</td>\n",
       "      <td>PG-13</td>\n",
       "      <td>Action</td>\n",
       "      <td>1996</td>\n",
       "      <td>January 12, 1996 (United States)</td>\n",
       "      <td>2.5</td>\n",
       "      <td>9000.0</td>\n",
       "      <td>Farhad Mann</td>\n",
       "      <td>Farhad Mann</td>\n",
       "      <td>Patrick Bergin</td>\n",
       "      <td>United States</td>\n",
       "      <td>15000000.0</td>\n",
       "      <td>0</td>\n",
       "      <td>New Line Cinema</td>\n",
       "      <td>93.0</td>\n",
       "      <td>Детям до 13 лет просмотр не желателен</td>\n",
       "      <td>0</td>\n",
       "      <td>0</td>\n",
       "      <td>1</td>\n",
       "    </tr>\n",
       "    <tr>\n",
       "      <th>3042</th>\n",
       "      <td>Ed</td>\n",
       "      <td>PG</td>\n",
       "      <td>Comedy</td>\n",
       "      <td>1996</td>\n",
       "      <td>March 15, 1996 (United States)</td>\n",
       "      <td>2.7</td>\n",
       "      <td>8200.0</td>\n",
       "      <td>Bill Couturié</td>\n",
       "      <td>Ken Richards</td>\n",
       "      <td>Matt LeBlanc</td>\n",
       "      <td>United States</td>\n",
       "      <td>24000000.0</td>\n",
       "      <td>0</td>\n",
       "      <td>Longview Entertainment</td>\n",
       "      <td>94.0</td>\n",
       "      <td>Желательно присутствие родителей</td>\n",
       "      <td>1</td>\n",
       "      <td>0</td>\n",
       "      <td>1</td>\n",
       "    </tr>\n",
       "    <tr>\n",
       "      <th>3149</th>\n",
       "      <td>Steel</td>\n",
       "      <td>PG-13</td>\n",
       "      <td>Action</td>\n",
       "      <td>1997</td>\n",
       "      <td>August 15, 1997 (United States)</td>\n",
       "      <td>2.9</td>\n",
       "      <td>12000.0</td>\n",
       "      <td>Kenneth Johnson</td>\n",
       "      <td>Louise Simonson</td>\n",
       "      <td>Shaquille O'Neal</td>\n",
       "      <td>United States</td>\n",
       "      <td>16000000.0</td>\n",
       "      <td>0</td>\n",
       "      <td>DC Entertainment</td>\n",
       "      <td>97.0</td>\n",
       "      <td>Детям до 13 лет просмотр не желателен</td>\n",
       "      <td>0</td>\n",
       "      <td>0</td>\n",
       "      <td>1</td>\n",
       "    </tr>\n",
       "    <tr>\n",
       "      <th>3217</th>\n",
       "      <td>Plump Fiction</td>\n",
       "      <td>R</td>\n",
       "      <td>Comedy</td>\n",
       "      <td>1997</td>\n",
       "      <td>May 23, 1997 (Poland)</td>\n",
       "      <td>2.7</td>\n",
       "      <td>3600.0</td>\n",
       "      <td>Bob Koherr</td>\n",
       "      <td>Bob Koherr</td>\n",
       "      <td>Tommy Davidson</td>\n",
       "      <td>United States</td>\n",
       "      <td>28000000.0</td>\n",
       "      <td>0</td>\n",
       "      <td>Plump Fiction LLC</td>\n",
       "      <td>82.0</td>\n",
       "      <td>Лица, не достигшие 16-летнего возраста, допуск...</td>\n",
       "      <td>0</td>\n",
       "      <td>0</td>\n",
       "      <td>1</td>\n",
       "    </tr>\n",
       "    <tr>\n",
       "      <th>3399</th>\n",
       "      <td>3 Ninjas: High Noon at Mega Mountain</td>\n",
       "      <td>PG</td>\n",
       "      <td>Action</td>\n",
       "      <td>1998</td>\n",
       "      <td>June 18, 1998 (Australia)</td>\n",
       "      <td>3.0</td>\n",
       "      <td>11000.0</td>\n",
       "      <td>Sean McNamara</td>\n",
       "      <td>Sean McNamara</td>\n",
       "      <td>Loni Anderson</td>\n",
       "      <td>United States</td>\n",
       "      <td>26000000.0</td>\n",
       "      <td>0</td>\n",
       "      <td>Leeds/Ben-Ami Productions</td>\n",
       "      <td>93.0</td>\n",
       "      <td>Желательно присутствие родителей</td>\n",
       "      <td>1</td>\n",
       "      <td>0</td>\n",
       "      <td>1</td>\n",
       "    </tr>\n",
       "    <tr>\n",
       "      <th>3409</th>\n",
       "      <td>Barney's Great Adventure</td>\n",
       "      <td>G</td>\n",
       "      <td>Adventure</td>\n",
       "      <td>1998</td>\n",
       "      <td>April 3, 1998 (United States)</td>\n",
       "      <td>3.2</td>\n",
       "      <td>3200.0</td>\n",
       "      <td>Steve Gomer</td>\n",
       "      <td>Stephen White</td>\n",
       "      <td>George Hearn</td>\n",
       "      <td>Canada</td>\n",
       "      <td>15000000.0</td>\n",
       "      <td>0</td>\n",
       "      <td>Polygram Filmed Entertainment</td>\n",
       "      <td>76.0</td>\n",
       "      <td>Нет возрастных ограничений</td>\n",
       "      <td>0</td>\n",
       "      <td>0</td>\n",
       "      <td>1</td>\n",
       "    </tr>\n",
       "    <tr>\n",
       "      <th>3423</th>\n",
       "      <td>Ringmaster</td>\n",
       "      <td>R</td>\n",
       "      <td>Comedy</td>\n",
       "      <td>1998</td>\n",
       "      <td>November 25, 1998 (United States)</td>\n",
       "      <td>3.2</td>\n",
       "      <td>4900.0</td>\n",
       "      <td>Neil Abramson</td>\n",
       "      <td>Jon Bernstein</td>\n",
       "      <td>Jerry Springer</td>\n",
       "      <td>United States</td>\n",
       "      <td>20000000.0</td>\n",
       "      <td>0</td>\n",
       "      <td>Artisan Entertainment</td>\n",
       "      <td>90.0</td>\n",
       "      <td>Лица, не достигшие 16-летнего возраста, допуск...</td>\n",
       "      <td>0</td>\n",
       "      <td>0</td>\n",
       "      <td>1</td>\n",
       "    </tr>\n",
       "    <tr>\n",
       "      <th>3559</th>\n",
       "      <td>Baby Geniuses</td>\n",
       "      <td>PG</td>\n",
       "      <td>Comedy</td>\n",
       "      <td>1999</td>\n",
       "      <td>March 12, 1999 (United States)</td>\n",
       "      <td>2.7</td>\n",
       "      <td>26000.0</td>\n",
       "      <td>Bob Clark</td>\n",
       "      <td>Steven Paul</td>\n",
       "      <td>Kathleen Turner</td>\n",
       "      <td>United States</td>\n",
       "      <td>12000000.0</td>\n",
       "      <td>1</td>\n",
       "      <td>Crystal Sky Worldwide</td>\n",
       "      <td>97.0</td>\n",
       "      <td>Желательно присутствие родителей</td>\n",
       "      <td>1</td>\n",
       "      <td>0</td>\n",
       "      <td>1</td>\n",
       "    </tr>\n",
       "    <tr>\n",
       "      <th>3684</th>\n",
       "      <td>Battlefield Earth</td>\n",
       "      <td>PG-13</td>\n",
       "      <td>Action</td>\n",
       "      <td>2000</td>\n",
       "      <td>May 12, 2000 (United States)</td>\n",
       "      <td>2.5</td>\n",
       "      <td>77000.0</td>\n",
       "      <td>Roger Christian</td>\n",
       "      <td>Corey Mandell</td>\n",
       "      <td>John Travolta</td>\n",
       "      <td>United States</td>\n",
       "      <td>73000000.0</td>\n",
       "      <td>1</td>\n",
       "      <td>Warner Bros.</td>\n",
       "      <td>118.0</td>\n",
       "      <td>Детям до 13 лет просмотр не желателен</td>\n",
       "      <td>0</td>\n",
       "      <td>0</td>\n",
       "      <td>1</td>\n",
       "    </tr>\n",
       "    <tr>\n",
       "      <th>4022</th>\n",
       "      <td>Glitter</td>\n",
       "      <td>PG-13</td>\n",
       "      <td>Drama</td>\n",
       "      <td>2001</td>\n",
       "      <td>September 21, 2001 (United States)</td>\n",
       "      <td>2.3</td>\n",
       "      <td>22000.0</td>\n",
       "      <td>Vondie Curtis-Hall</td>\n",
       "      <td>Cheryl L. West</td>\n",
       "      <td>Mariah Carey</td>\n",
       "      <td>United States</td>\n",
       "      <td>22000000.0</td>\n",
       "      <td>0</td>\n",
       "      <td>Twentieth Century Fox</td>\n",
       "      <td>104.0</td>\n",
       "      <td>Детям до 13 лет просмотр не желателен</td>\n",
       "      <td>0</td>\n",
       "      <td>0</td>\n",
       "      <td>1</td>\n",
       "    </tr>\n",
       "    <tr>\n",
       "      <th>4137</th>\n",
       "      <td>The Master of Disguise</td>\n",
       "      <td>PG</td>\n",
       "      <td>Adventure</td>\n",
       "      <td>2002</td>\n",
       "      <td>August 2, 2002 (United States)</td>\n",
       "      <td>3.3</td>\n",
       "      <td>23000.0</td>\n",
       "      <td>Perry Andelin Blake</td>\n",
       "      <td>Dana Carvey</td>\n",
       "      <td>Dana Carvey</td>\n",
       "      <td>United States</td>\n",
       "      <td>16000000.0</td>\n",
       "      <td>1</td>\n",
       "      <td>Revolution Studios</td>\n",
       "      <td>80.0</td>\n",
       "      <td>Желательно присутствие родителей</td>\n",
       "      <td>1</td>\n",
       "      <td>0</td>\n",
       "      <td>1</td>\n",
       "    </tr>\n",
       "    <tr>\n",
       "      <th>4166</th>\n",
       "      <td>Rollerball</td>\n",
       "      <td>PG-13</td>\n",
       "      <td>Action</td>\n",
       "      <td>2002</td>\n",
       "      <td>February 8, 2002 (United States)</td>\n",
       "      <td>3.1</td>\n",
       "      <td>26000.0</td>\n",
       "      <td>John McTiernan</td>\n",
       "      <td>William Harrison</td>\n",
       "      <td>Chris Klein</td>\n",
       "      <td>United States</td>\n",
       "      <td>70000000.0</td>\n",
       "      <td>1</td>\n",
       "      <td>Atlas Entertainment</td>\n",
       "      <td>98.0</td>\n",
       "      <td>Детям до 13 лет просмотр не желателен</td>\n",
       "      <td>0</td>\n",
       "      <td>0</td>\n",
       "      <td>1</td>\n",
       "    </tr>\n",
       "    <tr>\n",
       "      <th>4210</th>\n",
       "      <td>Feardotcom</td>\n",
       "      <td>R</td>\n",
       "      <td>Crime</td>\n",
       "      <td>2002</td>\n",
       "      <td>August 30, 2002 (United States)</td>\n",
       "      <td>3.4</td>\n",
       "      <td>20000.0</td>\n",
       "      <td>William Malone</td>\n",
       "      <td>Moshe Diamant</td>\n",
       "      <td>Stephen Dorff</td>\n",
       "      <td>United Kingdom</td>\n",
       "      <td>40000000.0</td>\n",
       "      <td>0</td>\n",
       "      <td>MDP Worldwide</td>\n",
       "      <td>101.0</td>\n",
       "      <td>Лица, не достигшие 16-летнего возраста, допуск...</td>\n",
       "      <td>0</td>\n",
       "      <td>0</td>\n",
       "      <td>1</td>\n",
       "    </tr>\n",
       "    <tr>\n",
       "      <th>4326</th>\n",
       "      <td>Gigli</td>\n",
       "      <td>R</td>\n",
       "      <td>Comedy</td>\n",
       "      <td>2003</td>\n",
       "      <td>August 1, 2003 (United States)</td>\n",
       "      <td>2.5</td>\n",
       "      <td>46000.0</td>\n",
       "      <td>Martin Brest</td>\n",
       "      <td>Martin Brest</td>\n",
       "      <td>Ben Affleck</td>\n",
       "      <td>United States</td>\n",
       "      <td>54000000.0</td>\n",
       "      <td>0</td>\n",
       "      <td>Revolution Studios</td>\n",
       "      <td>121.0</td>\n",
       "      <td>Лица, не достигшие 16-летнего возраста, допуск...</td>\n",
       "      <td>0</td>\n",
       "      <td>0</td>\n",
       "      <td>1</td>\n",
       "    </tr>\n",
       "    <tr>\n",
       "      <th>4329</th>\n",
       "      <td>Dumb and Dumberer: When Harry Met Lloyd</td>\n",
       "      <td>PG-13</td>\n",
       "      <td>Comedy</td>\n",
       "      <td>2003</td>\n",
       "      <td>June 13, 2003 (United States)</td>\n",
       "      <td>3.4</td>\n",
       "      <td>38000.0</td>\n",
       "      <td>Troy Miller</td>\n",
       "      <td>Peter Farrelly</td>\n",
       "      <td>Derek Richardson</td>\n",
       "      <td>United States</td>\n",
       "      <td>19000000.0</td>\n",
       "      <td>1</td>\n",
       "      <td>New Line Cinema</td>\n",
       "      <td>85.0</td>\n",
       "      <td>Детям до 13 лет просмотр не желателен</td>\n",
       "      <td>0</td>\n",
       "      <td>0</td>\n",
       "      <td>1</td>\n",
       "    </tr>\n",
       "    <tr>\n",
       "      <th>4342</th>\n",
       "      <td>House of the Dead</td>\n",
       "      <td>R</td>\n",
       "      <td>Action</td>\n",
       "      <td>2003</td>\n",
       "      <td>October 10, 2003 (United States)</td>\n",
       "      <td>2.1</td>\n",
       "      <td>36000.0</td>\n",
       "      <td>Uwe Boll</td>\n",
       "      <td>Mark A. Altman</td>\n",
       "      <td>Jonathan Cherry</td>\n",
       "      <td>Germany</td>\n",
       "      <td>12000000.0</td>\n",
       "      <td>0</td>\n",
       "      <td>Boll Kino Beteiligungs GmbH &amp; Co. KG</td>\n",
       "      <td>90.0</td>\n",
       "      <td>Лица, не достигшие 16-летнего возраста, допуск...</td>\n",
       "      <td>0</td>\n",
       "      <td>0</td>\n",
       "      <td>1</td>\n",
       "    </tr>\n",
       "    <tr>\n",
       "      <th>4412</th>\n",
       "      <td>From Justin to Kelly</td>\n",
       "      <td>PG</td>\n",
       "      <td>Comedy</td>\n",
       "      <td>2003</td>\n",
       "      <td>June 20, 2003 (United States)</td>\n",
       "      <td>2.1</td>\n",
       "      <td>25000.0</td>\n",
       "      <td>Robert Iscove</td>\n",
       "      <td>Kim Fuller</td>\n",
       "      <td>Kelly Clarkson</td>\n",
       "      <td>United States</td>\n",
       "      <td>12000000.0</td>\n",
       "      <td>0</td>\n",
       "      <td>19 Entertainment</td>\n",
       "      <td>81.0</td>\n",
       "      <td>Желательно присутствие родителей</td>\n",
       "      <td>1</td>\n",
       "      <td>0</td>\n",
       "      <td>1</td>\n",
       "    </tr>\n",
       "    <tr>\n",
       "      <th>4521</th>\n",
       "      <td>Catwoman</td>\n",
       "      <td>PG-13</td>\n",
       "      <td>Action</td>\n",
       "      <td>2004</td>\n",
       "      <td>July 23, 2004 (United States)</td>\n",
       "      <td>3.4</td>\n",
       "      <td>113000.0</td>\n",
       "      <td>Pitof</td>\n",
       "      <td>Bob Kane</td>\n",
       "      <td>Halle Berry</td>\n",
       "      <td>United States</td>\n",
       "      <td>100000000.0</td>\n",
       "      <td>1</td>\n",
       "      <td>Warner Bros.</td>\n",
       "      <td>104.0</td>\n",
       "      <td>Детям до 13 лет просмотр не желателен</td>\n",
       "      <td>0</td>\n",
       "      <td>0</td>\n",
       "      <td>1</td>\n",
       "    </tr>\n",
       "    <tr>\n",
       "      <th>4594</th>\n",
       "      <td>Superbabies: Baby Geniuses 2</td>\n",
       "      <td>PG</td>\n",
       "      <td>Comedy</td>\n",
       "      <td>2004</td>\n",
       "      <td>August 27, 2004 (United States)</td>\n",
       "      <td>1.9</td>\n",
       "      <td>30000.0</td>\n",
       "      <td>Bob Clark</td>\n",
       "      <td>Robert Grasmere</td>\n",
       "      <td>Jon Voight</td>\n",
       "      <td>Germany</td>\n",
       "      <td>20000000.0</td>\n",
       "      <td>0</td>\n",
       "      <td>ApolloMedia Distribution</td>\n",
       "      <td>88.0</td>\n",
       "      <td>Желательно присутствие родителей</td>\n",
       "      <td>1</td>\n",
       "      <td>0</td>\n",
       "      <td>1</td>\n",
       "    </tr>\n",
       "    <tr>\n",
       "      <th>4723</th>\n",
       "      <td>Son of the Mask</td>\n",
       "      <td>PG</td>\n",
       "      <td>Comedy</td>\n",
       "      <td>2005</td>\n",
       "      <td>February 18, 2005 (United States)</td>\n",
       "      <td>2.2</td>\n",
       "      <td>53000.0</td>\n",
       "      <td>Lawrence Guterman</td>\n",
       "      <td>Lance Khazei</td>\n",
       "      <td>Jamie Kennedy</td>\n",
       "      <td>United States</td>\n",
       "      <td>84000000.0</td>\n",
       "      <td>1</td>\n",
       "      <td>New Line Cinema</td>\n",
       "      <td>94.0</td>\n",
       "      <td>Желательно присутствие родителей</td>\n",
       "      <td>1</td>\n",
       "      <td>0</td>\n",
       "      <td>1</td>\n",
       "    </tr>\n",
       "    <tr>\n",
       "      <th>4775</th>\n",
       "      <td>BloodRayne</td>\n",
       "      <td>R</td>\n",
       "      <td>Action</td>\n",
       "      <td>2005</td>\n",
       "      <td>January 6, 2006 (United States)</td>\n",
       "      <td>2.9</td>\n",
       "      <td>34000.0</td>\n",
       "      <td>Uwe Boll</td>\n",
       "      <td>Guinevere Turner</td>\n",
       "      <td>Kristanna Loken</td>\n",
       "      <td>Germany</td>\n",
       "      <td>25000000.0</td>\n",
       "      <td>0</td>\n",
       "      <td>Boll Kino Beteiligungs GmbH &amp; Co. KG</td>\n",
       "      <td>95.0</td>\n",
       "      <td>Лица, не достигшие 16-летнего возраста, допуск...</td>\n",
       "      <td>0</td>\n",
       "      <td>0</td>\n",
       "      <td>1</td>\n",
       "    </tr>\n",
       "    <tr>\n",
       "      <th>4802</th>\n",
       "      <td>Alone in the Dark</td>\n",
       "      <td>R</td>\n",
       "      <td>Action</td>\n",
       "      <td>2005</td>\n",
       "      <td>January 28, 2005 (United States)</td>\n",
       "      <td>2.4</td>\n",
       "      <td>42000.0</td>\n",
       "      <td>Uwe Boll</td>\n",
       "      <td>Elan Mastai</td>\n",
       "      <td>Christian Slater</td>\n",
       "      <td>Canada</td>\n",
       "      <td>20000000.0</td>\n",
       "      <td>0</td>\n",
       "      <td>AITD Productions</td>\n",
       "      <td>96.0</td>\n",
       "      <td>Лица, не достигшие 16-летнего возраста, допуск...</td>\n",
       "      <td>0</td>\n",
       "      <td>0</td>\n",
       "      <td>1</td>\n",
       "    </tr>\n",
       "    <tr>\n",
       "      <th>4988</th>\n",
       "      <td>Date Movie</td>\n",
       "      <td>PG-13</td>\n",
       "      <td>Comedy</td>\n",
       "      <td>2006</td>\n",
       "      <td>February 17, 2006 (United States)</td>\n",
       "      <td>2.8</td>\n",
       "      <td>58000.0</td>\n",
       "      <td>Aaron Seltzer</td>\n",
       "      <td>Jason Friedberg</td>\n",
       "      <td>Alyson Hannigan</td>\n",
       "      <td>United States</td>\n",
       "      <td>20000000.0</td>\n",
       "      <td>1</td>\n",
       "      <td>New Regency Productions</td>\n",
       "      <td>83.0</td>\n",
       "      <td>Детям до 13 лет просмотр не желателен</td>\n",
       "      <td>0</td>\n",
       "      <td>0</td>\n",
       "      <td>1</td>\n",
       "    </tr>\n",
       "    <tr>\n",
       "      <th>5108</th>\n",
       "      <td>Epic Movie</td>\n",
       "      <td>PG-13</td>\n",
       "      <td>Adventure</td>\n",
       "      <td>2007</td>\n",
       "      <td>January 26, 2007 (United States)</td>\n",
       "      <td>2.4</td>\n",
       "      <td>103000.0</td>\n",
       "      <td>Jason Friedberg</td>\n",
       "      <td>Jason Friedberg</td>\n",
       "      <td>Kal Penn</td>\n",
       "      <td>United States</td>\n",
       "      <td>20000000.0</td>\n",
       "      <td>1</td>\n",
       "      <td>New Regency Productions</td>\n",
       "      <td>86.0</td>\n",
       "      <td>Детям до 13 лет просмотр не желателен</td>\n",
       "      <td>0</td>\n",
       "      <td>0</td>\n",
       "      <td>1</td>\n",
       "    </tr>\n",
       "    <tr>\n",
       "      <th>5168</th>\n",
       "      <td>Bratz</td>\n",
       "      <td>PG</td>\n",
       "      <td>Comedy</td>\n",
       "      <td>2007</td>\n",
       "      <td>August 3, 2007 (United States)</td>\n",
       "      <td>3.1</td>\n",
       "      <td>18000.0</td>\n",
       "      <td>Sean McNamara</td>\n",
       "      <td>Susan Estelle Jansen</td>\n",
       "      <td>Skyler Shaye</td>\n",
       "      <td>United States</td>\n",
       "      <td>20000000.0</td>\n",
       "      <td>1</td>\n",
       "      <td>Avi Arad &amp; Associates</td>\n",
       "      <td>110.0</td>\n",
       "      <td>Желательно присутствие родителей</td>\n",
       "      <td>1</td>\n",
       "      <td>0</td>\n",
       "      <td>1</td>\n",
       "    </tr>\n",
       "    <tr>\n",
       "      <th>5194</th>\n",
       "      <td>Who's Your Caddy?</td>\n",
       "      <td>PG-13</td>\n",
       "      <td>Comedy</td>\n",
       "      <td>2007</td>\n",
       "      <td>July 27, 2007 (United States)</td>\n",
       "      <td>2.2</td>\n",
       "      <td>15000.0</td>\n",
       "      <td>Don Michael Paul</td>\n",
       "      <td>Don Michael Paul</td>\n",
       "      <td>Big Boi</td>\n",
       "      <td>United States</td>\n",
       "      <td>7000000.0</td>\n",
       "      <td>0</td>\n",
       "      <td>Ascendant Pictures</td>\n",
       "      <td>93.0</td>\n",
       "      <td>Детям до 13 лет просмотр не желателен</td>\n",
       "      <td>0</td>\n",
       "      <td>0</td>\n",
       "      <td>1</td>\n",
       "    </tr>\n",
       "    <tr>\n",
       "      <th>5306</th>\n",
       "      <td>Disaster Movie</td>\n",
       "      <td>PG-13</td>\n",
       "      <td>Comedy</td>\n",
       "      <td>2008</td>\n",
       "      <td>August 29, 2008 (United States)</td>\n",
       "      <td>1.9</td>\n",
       "      <td>88000.0</td>\n",
       "      <td>Jason Friedberg</td>\n",
       "      <td>Jason Friedberg</td>\n",
       "      <td>Carmen Electra</td>\n",
       "      <td>United States</td>\n",
       "      <td>20000000.0</td>\n",
       "      <td>1</td>\n",
       "      <td>Lionsgate</td>\n",
       "      <td>87.0</td>\n",
       "      <td>Детям до 13 лет просмотр не желателен</td>\n",
       "      <td>0</td>\n",
       "      <td>0</td>\n",
       "      <td>1</td>\n",
       "    </tr>\n",
       "    <tr>\n",
       "      <th>5354</th>\n",
       "      <td>The Hottie &amp; the Nottie</td>\n",
       "      <td>PG-13</td>\n",
       "      <td>Comedy</td>\n",
       "      <td>2008</td>\n",
       "      <td>February 21, 2008 (Russia)</td>\n",
       "      <td>1.9</td>\n",
       "      <td>36000.0</td>\n",
       "      <td>Tom Putnam</td>\n",
       "      <td>Heidi Ferrer</td>\n",
       "      <td>Paris Hilton</td>\n",
       "      <td>United States</td>\n",
       "      <td>30000000.0</td>\n",
       "      <td>0</td>\n",
       "      <td>Purple Pictures</td>\n",
       "      <td>91.0</td>\n",
       "      <td>Детям до 13 лет просмотр не желателен</td>\n",
       "      <td>0</td>\n",
       "      <td>0</td>\n",
       "      <td>1</td>\n",
       "    </tr>\n",
       "    <tr>\n",
       "      <th>5365</th>\n",
       "      <td>Meet the Spartans</td>\n",
       "      <td>PG-13</td>\n",
       "      <td>Comedy</td>\n",
       "      <td>2008</td>\n",
       "      <td>January 25, 2008 (United States)</td>\n",
       "      <td>2.8</td>\n",
       "      <td>103000.0</td>\n",
       "      <td>Jason Friedberg</td>\n",
       "      <td>Jason Friedberg</td>\n",
       "      <td>Sean Maguire</td>\n",
       "      <td>United States</td>\n",
       "      <td>30000000.0</td>\n",
       "      <td>1</td>\n",
       "      <td>New Regency Productions</td>\n",
       "      <td>87.0</td>\n",
       "      <td>Детям до 13 лет просмотр не желателен</td>\n",
       "      <td>0</td>\n",
       "      <td>0</td>\n",
       "      <td>1</td>\n",
       "    </tr>\n",
       "    <tr>\n",
       "      <th>5526</th>\n",
       "      <td>Dragonball Evolution</td>\n",
       "      <td>PG</td>\n",
       "      <td>Action</td>\n",
       "      <td>2009</td>\n",
       "      <td>April 10, 2009 (United States)</td>\n",
       "      <td>2.5</td>\n",
       "      <td>71000.0</td>\n",
       "      <td>James Wong</td>\n",
       "      <td>Ben Ramsey</td>\n",
       "      <td>Justin Chatwin</td>\n",
       "      <td>United States</td>\n",
       "      <td>30000000.0</td>\n",
       "      <td>1</td>\n",
       "      <td>Twentieth Century Fox</td>\n",
       "      <td>85.0</td>\n",
       "      <td>Желательно присутствие родителей</td>\n",
       "      <td>1</td>\n",
       "      <td>0</td>\n",
       "      <td>1</td>\n",
       "    </tr>\n",
       "    <tr>\n",
       "      <th>5785</th>\n",
       "      <td>Vampires Suck</td>\n",
       "      <td>PG-13</td>\n",
       "      <td>Comedy</td>\n",
       "      <td>2010</td>\n",
       "      <td>August 18, 2010 (United States)</td>\n",
       "      <td>3.4</td>\n",
       "      <td>47000.0</td>\n",
       "      <td>Jason Friedberg</td>\n",
       "      <td>Jason Friedberg</td>\n",
       "      <td>Jenn Proske</td>\n",
       "      <td>United States</td>\n",
       "      <td>20000000.0</td>\n",
       "      <td>1</td>\n",
       "      <td>New Regency Productions</td>\n",
       "      <td>82.0</td>\n",
       "      <td>Детям до 13 лет просмотр не желателен</td>\n",
       "      <td>0</td>\n",
       "      <td>0</td>\n",
       "      <td>1</td>\n",
       "    </tr>\n",
       "    <tr>\n",
       "      <th>5930</th>\n",
       "      <td>Jack and Jill</td>\n",
       "      <td>PG</td>\n",
       "      <td>Comedy</td>\n",
       "      <td>2011</td>\n",
       "      <td>November 11, 2011 (United States)</td>\n",
       "      <td>3.3</td>\n",
       "      <td>80000.0</td>\n",
       "      <td>Dennis Dugan</td>\n",
       "      <td>Ben Zook</td>\n",
       "      <td>Adam Sandler</td>\n",
       "      <td>United States</td>\n",
       "      <td>79000000.0</td>\n",
       "      <td>1</td>\n",
       "      <td>Columbia Pictures</td>\n",
       "      <td>91.0</td>\n",
       "      <td>Желательно присутствие родителей</td>\n",
       "      <td>1</td>\n",
       "      <td>0</td>\n",
       "      <td>1</td>\n",
       "    </tr>\n",
       "    <tr>\n",
       "      <th>5962</th>\n",
       "      <td>Bucky Larson: Born to Be a Star</td>\n",
       "      <td>R</td>\n",
       "      <td>Comedy</td>\n",
       "      <td>2011</td>\n",
       "      <td>September 9, 2011 (United States)</td>\n",
       "      <td>3.2</td>\n",
       "      <td>12000.0</td>\n",
       "      <td>Tom Brady</td>\n",
       "      <td>Adam Sandler</td>\n",
       "      <td>Nick Swardson</td>\n",
       "      <td>United States</td>\n",
       "      <td>10000000.0</td>\n",
       "      <td>0</td>\n",
       "      <td>Columbia Pictures</td>\n",
       "      <td>97.0</td>\n",
       "      <td>Лица, не достигшие 16-летнего возраста, допуск...</td>\n",
       "      <td>0</td>\n",
       "      <td>0</td>\n",
       "      <td>1</td>\n",
       "    </tr>\n",
       "    <tr>\n",
       "      <th>6593</th>\n",
       "      <td>Left Behind</td>\n",
       "      <td>PG-13</td>\n",
       "      <td>Action</td>\n",
       "      <td>2014</td>\n",
       "      <td>October 3, 2014 (United States)</td>\n",
       "      <td>3.1</td>\n",
       "      <td>38000.0</td>\n",
       "      <td>Vic Armstrong</td>\n",
       "      <td>Paul Lalonde</td>\n",
       "      <td>Nicolas Cage</td>\n",
       "      <td>United States</td>\n",
       "      <td>16000000.0</td>\n",
       "      <td>1</td>\n",
       "      <td>Stoney Lake Entertainment</td>\n",
       "      <td>110.0</td>\n",
       "      <td>Детям до 13 лет просмотр не желателен</td>\n",
       "      <td>0</td>\n",
       "      <td>0</td>\n",
       "      <td>1</td>\n",
       "    </tr>\n",
       "    <tr>\n",
       "      <th>7145</th>\n",
       "      <td>The Emoji Movie</td>\n",
       "      <td>PG</td>\n",
       "      <td>Animation</td>\n",
       "      <td>2017</td>\n",
       "      <td>July 28, 2017 (United States)</td>\n",
       "      <td>3.3</td>\n",
       "      <td>58000.0</td>\n",
       "      <td>Tony Leondis</td>\n",
       "      <td>Tony Leondis</td>\n",
       "      <td>T.J. Miller</td>\n",
       "      <td>United States</td>\n",
       "      <td>50000000.0</td>\n",
       "      <td>1</td>\n",
       "      <td>Columbia Pictures</td>\n",
       "      <td>86.0</td>\n",
       "      <td>Желательно присутствие родителей</td>\n",
       "      <td>1</td>\n",
       "      <td>0</td>\n",
       "      <td>1</td>\n",
       "    </tr>\n",
       "    <tr>\n",
       "      <th>7345</th>\n",
       "      <td>Slender Man</td>\n",
       "      <td>PG-13</td>\n",
       "      <td>Horror</td>\n",
       "      <td>2018</td>\n",
       "      <td>August 10, 2018 (United States)</td>\n",
       "      <td>3.2</td>\n",
       "      <td>30000.0</td>\n",
       "      <td>Sylvain White</td>\n",
       "      <td>David Birke</td>\n",
       "      <td>Joey King</td>\n",
       "      <td>United States</td>\n",
       "      <td>10000000.0</td>\n",
       "      <td>1</td>\n",
       "      <td>Screen Gems</td>\n",
       "      <td>93.0</td>\n",
       "      <td>Детям до 13 лет просмотр не желателен</td>\n",
       "      <td>0</td>\n",
       "      <td>0</td>\n",
       "      <td>1</td>\n",
       "    </tr>\n",
       "    <tr>\n",
       "      <th>7595</th>\n",
       "      <td>Student of the Year 2</td>\n",
       "      <td>Not Rated</td>\n",
       "      <td>Action</td>\n",
       "      <td>2019</td>\n",
       "      <td>May 10, 2019 (United States)</td>\n",
       "      <td>2.2</td>\n",
       "      <td>18000.0</td>\n",
       "      <td>Punit Malhotra</td>\n",
       "      <td>Arshad Sayed</td>\n",
       "      <td>Tiger Shroff</td>\n",
       "      <td>India</td>\n",
       "      <td>25000000.0</td>\n",
       "      <td>0</td>\n",
       "      <td>Fox STAR Studios</td>\n",
       "      <td>146.0</td>\n",
       "      <td>Not Rated</td>\n",
       "      <td>0</td>\n",
       "      <td>0</td>\n",
       "      <td>1</td>\n",
       "    </tr>\n",
       "    <tr>\n",
       "      <th>7640</th>\n",
       "      <td>El Coyote</td>\n",
       "      <td>R</td>\n",
       "      <td>Action</td>\n",
       "      <td>2019</td>\n",
       "      <td>October 4, 2019 (United States)</td>\n",
       "      <td>3.0</td>\n",
       "      <td>122.0</td>\n",
       "      <td>Jeffrey Nicholson</td>\n",
       "      <td>Jeffrey Nicholson</td>\n",
       "      <td>Michael Saquella</td>\n",
       "      <td>United States</td>\n",
       "      <td>25000000.0</td>\n",
       "      <td>0</td>\n",
       "      <td>Cactus Blue Entertainment</td>\n",
       "      <td>93.0</td>\n",
       "      <td>Лица, не достигшие 16-летнего возраста, допуск...</td>\n",
       "      <td>0</td>\n",
       "      <td>0</td>\n",
       "      <td>1</td>\n",
       "    </tr>\n",
       "    <tr>\n",
       "      <th>7659</th>\n",
       "      <td>I Am Fear</td>\n",
       "      <td>Not Rated</td>\n",
       "      <td>Horror</td>\n",
       "      <td>2020</td>\n",
       "      <td>March 3, 2020 (United States)</td>\n",
       "      <td>3.4</td>\n",
       "      <td>447.0</td>\n",
       "      <td>Kevin Shulman</td>\n",
       "      <td>Kevin Shulman</td>\n",
       "      <td>Kristina Klebe</td>\n",
       "      <td>United States</td>\n",
       "      <td>7000000.0</td>\n",
       "      <td>0</td>\n",
       "      <td>Roxwell Films</td>\n",
       "      <td>87.0</td>\n",
       "      <td>Not Rated</td>\n",
       "      <td>0</td>\n",
       "      <td>0</td>\n",
       "      <td>1</td>\n",
       "    </tr>\n",
       "    <tr>\n",
       "      <th>7663</th>\n",
       "      <td>More to Life</td>\n",
       "      <td>PG</td>\n",
       "      <td>Drama</td>\n",
       "      <td>2020</td>\n",
       "      <td>October 23, 2020 (United States)</td>\n",
       "      <td>3.1</td>\n",
       "      <td>18.0</td>\n",
       "      <td>Joseph Ebanks</td>\n",
       "      <td>Joseph Ebanks</td>\n",
       "      <td>Shannon Bond</td>\n",
       "      <td>United States</td>\n",
       "      <td>7000.0</td>\n",
       "      <td>1</td>\n",
       "      <td>Warner Brother</td>\n",
       "      <td>90.0</td>\n",
       "      <td>Детям до 13 лет просмотр не желателен</td>\n",
       "      <td>0</td>\n",
       "      <td>0</td>\n",
       "      <td>1</td>\n",
       "    </tr>\n",
       "  </tbody>\n",
       "</table>\n",
       "</div>"
      ],
      "text/plain": [
       "                                              name     rating      genre  \\\n",
       "120                             Tarzan the Ape Man   Approved  Adventure   \n",
       "190                                         Inchon         PG      Drama   \n",
       "198                                         Scream          R     Horror   \n",
       "427                                The Lonely Lady          R      Drama   \n",
       "528                                         Bolero          R     Comedy   \n",
       "991                              Shanghai Surprise      PG-13  Adventure   \n",
       "1000                                  Hardbodies 2          R     Comedy   \n",
       "1067                             Jaws: the Revenge      PG-13  Adventure   \n",
       "1104                                 Teen Wolf Too         PG     Comedy   \n",
       "1125                   The Garbage Pail Kids Movie         PG  Adventure   \n",
       "1189                                Leonard Part 6         PG     Action   \n",
       "1292                                    Mac and Me         PG  Adventure   \n",
       "1632                              Martians Go Home      PG-13     Comedy   \n",
       "1929                                   Cool as Ice         PG     Comedy   \n",
       "2490  Texas Chainsaw Massacre: The Next Generation          R     Comedy   \n",
       "2590                           It's Pat: the Movie      PG-13     Comedy   \n",
       "2916                                     Barb Wire          R     Action   \n",
       "2925                                        Kazaam         PG     Comedy   \n",
       "2995            Lawnmower Man 2: Beyond Cyberspace      PG-13     Action   \n",
       "3042                                            Ed         PG     Comedy   \n",
       "3149                                         Steel      PG-13     Action   \n",
       "3217                                 Plump Fiction          R     Comedy   \n",
       "3399          3 Ninjas: High Noon at Mega Mountain         PG     Action   \n",
       "3409                      Barney's Great Adventure          G  Adventure   \n",
       "3423                                    Ringmaster          R     Comedy   \n",
       "3559                                 Baby Geniuses         PG     Comedy   \n",
       "3684                             Battlefield Earth      PG-13     Action   \n",
       "4022                                       Glitter      PG-13      Drama   \n",
       "4137                        The Master of Disguise         PG  Adventure   \n",
       "4166                                    Rollerball      PG-13     Action   \n",
       "4210                                    Feardotcom          R      Crime   \n",
       "4326                                         Gigli          R     Comedy   \n",
       "4329       Dumb and Dumberer: When Harry Met Lloyd      PG-13     Comedy   \n",
       "4342                             House of the Dead          R     Action   \n",
       "4412                          From Justin to Kelly         PG     Comedy   \n",
       "4521                                      Catwoman      PG-13     Action   \n",
       "4594                  Superbabies: Baby Geniuses 2         PG     Comedy   \n",
       "4723                               Son of the Mask         PG     Comedy   \n",
       "4775                                    BloodRayne          R     Action   \n",
       "4802                             Alone in the Dark          R     Action   \n",
       "4988                                    Date Movie      PG-13     Comedy   \n",
       "5108                                    Epic Movie      PG-13  Adventure   \n",
       "5168                                         Bratz         PG     Comedy   \n",
       "5194                             Who's Your Caddy?      PG-13     Comedy   \n",
       "5306                                Disaster Movie      PG-13     Comedy   \n",
       "5354                       The Hottie & the Nottie      PG-13     Comedy   \n",
       "5365                             Meet the Spartans      PG-13     Comedy   \n",
       "5526                          Dragonball Evolution         PG     Action   \n",
       "5785                                 Vampires Suck      PG-13     Comedy   \n",
       "5930                                 Jack and Jill         PG     Comedy   \n",
       "5962               Bucky Larson: Born to Be a Star          R     Comedy   \n",
       "6593                                   Left Behind      PG-13     Action   \n",
       "7145                               The Emoji Movie         PG  Animation   \n",
       "7345                                   Slender Man      PG-13     Horror   \n",
       "7595                         Student of the Year 2  Not Rated     Action   \n",
       "7640                                     El Coyote          R     Action   \n",
       "7659                                     I Am Fear  Not Rated     Horror   \n",
       "7663                                  More to Life         PG      Drama   \n",
       "\n",
       "      year                            released  score     votes  \\\n",
       "120   1981       July 24, 1981 (United States)    3.4    5300.0   \n",
       "190   1981  September 17, 1982 (United States)    2.7     659.0   \n",
       "198   1981     January 1, 1981 (United States)    2.9     674.0   \n",
       "427   1983  September 30, 1983 (United States)    3.0     938.0   \n",
       "528   1984     August 31, 1984 (United States)    3.0    5100.0   \n",
       "991   1986     August 29, 1986 (United States)    3.2    5000.0   \n",
       "1000  1986  September 12, 1986 (United States)    3.2    1100.0   \n",
       "1067  1987       July 17, 1987 (United States)    3.0   42000.0   \n",
       "1104  1987   November 20, 1987 (United States)    3.4   11000.0   \n",
       "1125  1987     August 22, 1987 (United States)    2.6    7600.0   \n",
       "1189  1987   December 18, 1987 (United States)    2.2    7900.0   \n",
       "1292  1988     August 12, 1988 (United States)    3.4   12000.0   \n",
       "1632  1989      April 20, 1990 (United States)    3.1     666.0   \n",
       "1929  1991    October 18, 1991 (United States)    2.9    9100.0   \n",
       "2490  1994           January 1, 1994 (Germany)    3.3   21000.0   \n",
       "2590  1994          November 25, 1994 (Brazil)    2.7    9500.0   \n",
       "2916  1996         May 3, 1996 (United States)    3.4   26000.0   \n",
       "2925  1996       July 17, 1996 (United States)    3.0   23000.0   \n",
       "2995  1996    January 12, 1996 (United States)    2.5    9000.0   \n",
       "3042  1996      March 15, 1996 (United States)    2.7    8200.0   \n",
       "3149  1997     August 15, 1997 (United States)    2.9   12000.0   \n",
       "3217  1997               May 23, 1997 (Poland)    2.7    3600.0   \n",
       "3399  1998           June 18, 1998 (Australia)    3.0   11000.0   \n",
       "3409  1998       April 3, 1998 (United States)    3.2    3200.0   \n",
       "3423  1998   November 25, 1998 (United States)    3.2    4900.0   \n",
       "3559  1999      March 12, 1999 (United States)    2.7   26000.0   \n",
       "3684  2000        May 12, 2000 (United States)    2.5   77000.0   \n",
       "4022  2001  September 21, 2001 (United States)    2.3   22000.0   \n",
       "4137  2002      August 2, 2002 (United States)    3.3   23000.0   \n",
       "4166  2002    February 8, 2002 (United States)    3.1   26000.0   \n",
       "4210  2002     August 30, 2002 (United States)    3.4   20000.0   \n",
       "4326  2003      August 1, 2003 (United States)    2.5   46000.0   \n",
       "4329  2003       June 13, 2003 (United States)    3.4   38000.0   \n",
       "4342  2003    October 10, 2003 (United States)    2.1   36000.0   \n",
       "4412  2003       June 20, 2003 (United States)    2.1   25000.0   \n",
       "4521  2004       July 23, 2004 (United States)    3.4  113000.0   \n",
       "4594  2004     August 27, 2004 (United States)    1.9   30000.0   \n",
       "4723  2005   February 18, 2005 (United States)    2.2   53000.0   \n",
       "4775  2005     January 6, 2006 (United States)    2.9   34000.0   \n",
       "4802  2005    January 28, 2005 (United States)    2.4   42000.0   \n",
       "4988  2006   February 17, 2006 (United States)    2.8   58000.0   \n",
       "5108  2007    January 26, 2007 (United States)    2.4  103000.0   \n",
       "5168  2007      August 3, 2007 (United States)    3.1   18000.0   \n",
       "5194  2007       July 27, 2007 (United States)    2.2   15000.0   \n",
       "5306  2008     August 29, 2008 (United States)    1.9   88000.0   \n",
       "5354  2008          February 21, 2008 (Russia)    1.9   36000.0   \n",
       "5365  2008    January 25, 2008 (United States)    2.8  103000.0   \n",
       "5526  2009      April 10, 2009 (United States)    2.5   71000.0   \n",
       "5785  2010     August 18, 2010 (United States)    3.4   47000.0   \n",
       "5930  2011   November 11, 2011 (United States)    3.3   80000.0   \n",
       "5962  2011   September 9, 2011 (United States)    3.2   12000.0   \n",
       "6593  2014     October 3, 2014 (United States)    3.1   38000.0   \n",
       "7145  2017       July 28, 2017 (United States)    3.3   58000.0   \n",
       "7345  2018     August 10, 2018 (United States)    3.2   30000.0   \n",
       "7595  2019        May 10, 2019 (United States)    2.2   18000.0   \n",
       "7640  2019     October 4, 2019 (United States)    3.0     122.0   \n",
       "7659  2020       March 3, 2020 (United States)    3.4     447.0   \n",
       "7663  2020    October 23, 2020 (United States)    3.1      18.0   \n",
       "\n",
       "                 director                writer                star  \\\n",
       "120            John Derek              Tom Rowe            Bo Derek   \n",
       "190         Terence Young           Robin Moore    Laurence Olivier   \n",
       "198     Byron Quisenberry     Byron Quisenberry       Pepper Martin   \n",
       "427           Peter Sasdy        Harold Robbins          Pia Zadora   \n",
       "528            John Derek            John Derek            Bo Derek   \n",
       "991           Jim Goddard             John Kohn           Sean Penn   \n",
       "1000       Mark Griffiths        Mark Griffiths         James Karen   \n",
       "1067       Joseph Sargent        Peter Benchley       Lorraine Gary   \n",
       "1104   Christopher Leitch             Jeph Loeb       Jason Bateman   \n",
       "1125          Rod Amateau          Linda Palmer      Anthony Newley   \n",
       "1189         Paul Weiland     Jonathan Reynolds          Bill Cosby   \n",
       "1292      Stewart Raffill       Stewart Raffill  Christine Ebersole   \n",
       "1632          David Odell         Fredric Brown         Randy Quaid   \n",
       "1929        David Kellogg           David Stenn         Vanilla Ice   \n",
       "2490           Kim Henkel            Kim Henkel     Renée Zellweger   \n",
       "2590       Adam Bernstein         Julia Sweeney       Julia Sweeney   \n",
       "2916          David Hogan          Chris Warner     Pamela Anderson   \n",
       "2925  Paul Michael Glaser   Paul Michael Glaser    Shaquille O'Neal   \n",
       "2995          Farhad Mann           Farhad Mann      Patrick Bergin   \n",
       "3042        Bill Couturié          Ken Richards        Matt LeBlanc   \n",
       "3149      Kenneth Johnson       Louise Simonson    Shaquille O'Neal   \n",
       "3217           Bob Koherr            Bob Koherr      Tommy Davidson   \n",
       "3399        Sean McNamara         Sean McNamara       Loni Anderson   \n",
       "3409          Steve Gomer         Stephen White        George Hearn   \n",
       "3423        Neil Abramson         Jon Bernstein      Jerry Springer   \n",
       "3559            Bob Clark           Steven Paul     Kathleen Turner   \n",
       "3684      Roger Christian         Corey Mandell       John Travolta   \n",
       "4022   Vondie Curtis-Hall        Cheryl L. West        Mariah Carey   \n",
       "4137  Perry Andelin Blake           Dana Carvey         Dana Carvey   \n",
       "4166       John McTiernan      William Harrison         Chris Klein   \n",
       "4210       William Malone         Moshe Diamant       Stephen Dorff   \n",
       "4326         Martin Brest          Martin Brest         Ben Affleck   \n",
       "4329          Troy Miller        Peter Farrelly    Derek Richardson   \n",
       "4342             Uwe Boll        Mark A. Altman     Jonathan Cherry   \n",
       "4412        Robert Iscove            Kim Fuller      Kelly Clarkson   \n",
       "4521                Pitof              Bob Kane         Halle Berry   \n",
       "4594            Bob Clark       Robert Grasmere          Jon Voight   \n",
       "4723    Lawrence Guterman          Lance Khazei       Jamie Kennedy   \n",
       "4775             Uwe Boll      Guinevere Turner     Kristanna Loken   \n",
       "4802             Uwe Boll           Elan Mastai    Christian Slater   \n",
       "4988        Aaron Seltzer       Jason Friedberg     Alyson Hannigan   \n",
       "5108      Jason Friedberg       Jason Friedberg            Kal Penn   \n",
       "5168        Sean McNamara  Susan Estelle Jansen        Skyler Shaye   \n",
       "5194     Don Michael Paul      Don Michael Paul             Big Boi   \n",
       "5306      Jason Friedberg       Jason Friedberg      Carmen Electra   \n",
       "5354           Tom Putnam          Heidi Ferrer        Paris Hilton   \n",
       "5365      Jason Friedberg       Jason Friedberg        Sean Maguire   \n",
       "5526           James Wong            Ben Ramsey      Justin Chatwin   \n",
       "5785      Jason Friedberg       Jason Friedberg         Jenn Proske   \n",
       "5930         Dennis Dugan              Ben Zook        Adam Sandler   \n",
       "5962            Tom Brady          Adam Sandler       Nick Swardson   \n",
       "6593        Vic Armstrong          Paul Lalonde        Nicolas Cage   \n",
       "7145         Tony Leondis          Tony Leondis         T.J. Miller   \n",
       "7345        Sylvain White           David Birke           Joey King   \n",
       "7595       Punit Malhotra          Arshad Sayed        Tiger Shroff   \n",
       "7640    Jeffrey Nicholson     Jeffrey Nicholson    Michael Saquella   \n",
       "7659        Kevin Shulman         Kevin Shulman      Kristina Klebe   \n",
       "7663        Joseph Ebanks         Joseph Ebanks        Shannon Bond   \n",
       "\n",
       "             country       budget  gross  \\\n",
       "120    United States    6500000.0      1   \n",
       "190      South Korea   46000000.0      0   \n",
       "198    United States   10000000.0      0   \n",
       "427    United States    5000000.0      0   \n",
       "528    United States    7000000.0      0   \n",
       "991   United Kingdom   17000000.0      0   \n",
       "1000   United States   12000000.0      0   \n",
       "1067   United States   23000000.0      1   \n",
       "1104   United States    3000000.0      0   \n",
       "1125   United States    1000000.0      0   \n",
       "1189   United States   24000000.0      0   \n",
       "1292   United States   13000000.0      0   \n",
       "1632   United States   13000000.0      0   \n",
       "1929   United States    6000000.0      0   \n",
       "2490   United States     600000.0      0   \n",
       "2590   United States   22000000.0      0   \n",
       "2916   United States    9000000.0      0   \n",
       "2925   United States   20000000.0      0   \n",
       "2995   United States   15000000.0      0   \n",
       "3042   United States   24000000.0      0   \n",
       "3149   United States   16000000.0      0   \n",
       "3217   United States   28000000.0      0   \n",
       "3399   United States   26000000.0      0   \n",
       "3409          Canada   15000000.0      0   \n",
       "3423   United States   20000000.0      0   \n",
       "3559   United States   12000000.0      1   \n",
       "3684   United States   73000000.0      1   \n",
       "4022   United States   22000000.0      0   \n",
       "4137   United States   16000000.0      1   \n",
       "4166   United States   70000000.0      1   \n",
       "4210  United Kingdom   40000000.0      0   \n",
       "4326   United States   54000000.0      0   \n",
       "4329   United States   19000000.0      1   \n",
       "4342         Germany   12000000.0      0   \n",
       "4412   United States   12000000.0      0   \n",
       "4521   United States  100000000.0      1   \n",
       "4594         Germany   20000000.0      0   \n",
       "4723   United States   84000000.0      1   \n",
       "4775         Germany   25000000.0      0   \n",
       "4802          Canada   20000000.0      0   \n",
       "4988   United States   20000000.0      1   \n",
       "5108   United States   20000000.0      1   \n",
       "5168   United States   20000000.0      1   \n",
       "5194   United States    7000000.0      0   \n",
       "5306   United States   20000000.0      1   \n",
       "5354   United States   30000000.0      0   \n",
       "5365   United States   30000000.0      1   \n",
       "5526   United States   30000000.0      1   \n",
       "5785   United States   20000000.0      1   \n",
       "5930   United States   79000000.0      1   \n",
       "5962   United States   10000000.0      0   \n",
       "6593   United States   16000000.0      1   \n",
       "7145   United States   50000000.0      1   \n",
       "7345   United States   10000000.0      1   \n",
       "7595           India   25000000.0      0   \n",
       "7640   United States   25000000.0      0   \n",
       "7659   United States    7000000.0      0   \n",
       "7663   United States       7000.0      1   \n",
       "\n",
       "                                   company runtime  \\\n",
       "120              Metro-Goldwyn-Mayer (MGM)   115.0   \n",
       "190                    One Way Productions   140.0   \n",
       "198        Calendar International Pictures    82.0   \n",
       "427   Harold Robbins International Company    92.0   \n",
       "528                             City Films   105.0   \n",
       "991                         HandMade Films    97.0   \n",
       "1000                Chroma III Productions    88.0   \n",
       "1067                    Universal Pictures    89.0   \n",
       "1104          Atlantic Entertainment Group    95.0   \n",
       "1125          Atlantic Entertainment Group   100.0   \n",
       "1189                     Columbia Pictures    85.0   \n",
       "1292              Mac and Me Joint Venture    99.0   \n",
       "1632        Edward R. Pressman Productions    89.0   \n",
       "1929                           Alive Films    91.0   \n",
       "2490              Ultra Muchos Productions    87.0   \n",
       "2590                   Touchstone Pictures    77.0   \n",
       "2916         Polygram Filmed Entertainment    98.0   \n",
       "2925             Interscope Communications    93.0   \n",
       "2995                       New Line Cinema    93.0   \n",
       "3042                Longview Entertainment    94.0   \n",
       "3149                      DC Entertainment    97.0   \n",
       "3217                     Plump Fiction LLC    82.0   \n",
       "3399             Leeds/Ben-Ami Productions    93.0   \n",
       "3409         Polygram Filmed Entertainment    76.0   \n",
       "3423                 Artisan Entertainment    90.0   \n",
       "3559                 Crystal Sky Worldwide    97.0   \n",
       "3684                          Warner Bros.   118.0   \n",
       "4022                 Twentieth Century Fox   104.0   \n",
       "4137                    Revolution Studios    80.0   \n",
       "4166                   Atlas Entertainment    98.0   \n",
       "4210                         MDP Worldwide   101.0   \n",
       "4326                    Revolution Studios   121.0   \n",
       "4329                       New Line Cinema    85.0   \n",
       "4342  Boll Kino Beteiligungs GmbH & Co. KG    90.0   \n",
       "4412                      19 Entertainment    81.0   \n",
       "4521                          Warner Bros.   104.0   \n",
       "4594              ApolloMedia Distribution    88.0   \n",
       "4723                       New Line Cinema    94.0   \n",
       "4775  Boll Kino Beteiligungs GmbH & Co. KG    95.0   \n",
       "4802                      AITD Productions    96.0   \n",
       "4988               New Regency Productions    83.0   \n",
       "5108               New Regency Productions    86.0   \n",
       "5168                 Avi Arad & Associates   110.0   \n",
       "5194                    Ascendant Pictures    93.0   \n",
       "5306                             Lionsgate    87.0   \n",
       "5354                       Purple Pictures    91.0   \n",
       "5365               New Regency Productions    87.0   \n",
       "5526                 Twentieth Century Fox    85.0   \n",
       "5785               New Regency Productions    82.0   \n",
       "5930                     Columbia Pictures    91.0   \n",
       "5962                     Columbia Pictures    97.0   \n",
       "6593             Stoney Lake Entertainment   110.0   \n",
       "7145                     Columbia Pictures    86.0   \n",
       "7345                           Screen Gems    93.0   \n",
       "7595                      Fox STAR Studios   146.0   \n",
       "7640             Cactus Blue Entertainment    93.0   \n",
       "7659                         Roxwell Films    87.0   \n",
       "7663                        Warner Brother    90.0   \n",
       "\n",
       "                                        Category rating  Семейный просмотр  \\\n",
       "120                                             Одобрен                  0   \n",
       "190                    Желательно присутствие родителей                  1   \n",
       "198   Лица, не достигшие 16-летнего возраста, допуск...                  0   \n",
       "427   Лица, не достигшие 16-летнего возраста, допуск...                  0   \n",
       "528   Лица, не достигшие 16-летнего возраста, допуск...                  0   \n",
       "991               Детям до 13 лет просмотр не желателен                  0   \n",
       "1000  Лица, не достигшие 16-летнего возраста, допуск...                  0   \n",
       "1067              Детям до 13 лет просмотр не желателен                  0   \n",
       "1104                   Желательно присутствие родителей                  1   \n",
       "1125                   Желательно присутствие родителей                  1   \n",
       "1189                   Желательно присутствие родителей                  1   \n",
       "1292                   Желательно присутствие родителей                  1   \n",
       "1632              Детям до 13 лет просмотр не желателен                  0   \n",
       "1929                   Желательно присутствие родителей                  1   \n",
       "2490  Лица, не достигшие 16-летнего возраста, допуск...                  0   \n",
       "2590              Детям до 13 лет просмотр не желателен                  0   \n",
       "2916  Лица, не достигшие 16-летнего возраста, допуск...                  0   \n",
       "2925                   Желательно присутствие родителей                  1   \n",
       "2995              Детям до 13 лет просмотр не желателен                  0   \n",
       "3042                   Желательно присутствие родителей                  1   \n",
       "3149              Детям до 13 лет просмотр не желателен                  0   \n",
       "3217  Лица, не достигшие 16-летнего возраста, допуск...                  0   \n",
       "3399                   Желательно присутствие родителей                  1   \n",
       "3409                         Нет возрастных ограничений                  0   \n",
       "3423  Лица, не достигшие 16-летнего возраста, допуск...                  0   \n",
       "3559                   Желательно присутствие родителей                  1   \n",
       "3684              Детям до 13 лет просмотр не желателен                  0   \n",
       "4022              Детям до 13 лет просмотр не желателен                  0   \n",
       "4137                   Желательно присутствие родителей                  1   \n",
       "4166              Детям до 13 лет просмотр не желателен                  0   \n",
       "4210  Лица, не достигшие 16-летнего возраста, допуск...                  0   \n",
       "4326  Лица, не достигшие 16-летнего возраста, допуск...                  0   \n",
       "4329              Детям до 13 лет просмотр не желателен                  0   \n",
       "4342  Лица, не достигшие 16-летнего возраста, допуск...                  0   \n",
       "4412                   Желательно присутствие родителей                  1   \n",
       "4521              Детям до 13 лет просмотр не желателен                  0   \n",
       "4594                   Желательно присутствие родителей                  1   \n",
       "4723                   Желательно присутствие родителей                  1   \n",
       "4775  Лица, не достигшие 16-летнего возраста, допуск...                  0   \n",
       "4802  Лица, не достигшие 16-летнего возраста, допуск...                  0   \n",
       "4988              Детям до 13 лет просмотр не желателен                  0   \n",
       "5108              Детям до 13 лет просмотр не желателен                  0   \n",
       "5168                   Желательно присутствие родителей                  1   \n",
       "5194              Детям до 13 лет просмотр не желателен                  0   \n",
       "5306              Детям до 13 лет просмотр не желателен                  0   \n",
       "5354              Детям до 13 лет просмотр не желателен                  0   \n",
       "5365              Детям до 13 лет просмотр не желателен                  0   \n",
       "5526                   Желательно присутствие родителей                  1   \n",
       "5785              Детям до 13 лет просмотр не желателен                  0   \n",
       "5930                   Желательно присутствие родителей                  1   \n",
       "5962  Лица, не достигшие 16-летнего возраста, допуск...                  0   \n",
       "6593              Детям до 13 лет просмотр не желателен                  0   \n",
       "7145                   Желательно присутствие родителей                  1   \n",
       "7345              Детям до 13 лет просмотр не желателен                  0   \n",
       "7595                                          Not Rated                  0   \n",
       "7640  Лица, не достигшие 16-летнего возраста, допуск...                  0   \n",
       "7659                                          Not Rated                  0   \n",
       "7663              Детям до 13 лет просмотр не желателен                  0   \n",
       "\n",
       "      Anomaly_big  Anomaly_small  \n",
       "120             0              1  \n",
       "190             0              1  \n",
       "198             0              1  \n",
       "427             0              1  \n",
       "528             0              1  \n",
       "991             0              1  \n",
       "1000            0              1  \n",
       "1067            0              1  \n",
       "1104            0              1  \n",
       "1125            0              1  \n",
       "1189            0              1  \n",
       "1292            0              1  \n",
       "1632            0              1  \n",
       "1929            0              1  \n",
       "2490            0              1  \n",
       "2590            0              1  \n",
       "2916            0              1  \n",
       "2925            0              1  \n",
       "2995            0              1  \n",
       "3042            0              1  \n",
       "3149            0              1  \n",
       "3217            0              1  \n",
       "3399            0              1  \n",
       "3409            0              1  \n",
       "3423            0              1  \n",
       "3559            0              1  \n",
       "3684            0              1  \n",
       "4022            0              1  \n",
       "4137            0              1  \n",
       "4166            0              1  \n",
       "4210            0              1  \n",
       "4326            0              1  \n",
       "4329            0              1  \n",
       "4342            0              1  \n",
       "4412            0              1  \n",
       "4521            0              1  \n",
       "4594            0              1  \n",
       "4723            0              1  \n",
       "4775            0              1  \n",
       "4802            0              1  \n",
       "4988            0              1  \n",
       "5108            0              1  \n",
       "5168            0              1  \n",
       "5194            0              1  \n",
       "5306            0              1  \n",
       "5354            0              1  \n",
       "5365            0              1  \n",
       "5526            0              1  \n",
       "5785            0              1  \n",
       "5930            0              1  \n",
       "5962            0              1  \n",
       "6593            0              1  \n",
       "7145            0              1  \n",
       "7345            0              1  \n",
       "7595            0              1  \n",
       "7640            0              1  \n",
       "7659            0              1  \n",
       "7663            0              1  "
      ]
     },
     "execution_count": 219,
     "metadata": {},
     "output_type": "execute_result"
    }
   ],
   "source": [
    "df['Anomaly_small'] = np.where(df['score'] < anomaly [1], 1,0)\n",
    "df[df['Anomaly_small'] == 1] #определение выбросов через принцип 3-х сигм"
   ]
  },
  {
   "cell_type": "markdown",
   "id": "8c5bc42c",
   "metadata": {},
   "source": [
    "Из списка аномально низких оценок можно сделать вывод что фильмов , которые зритель низко оценил, гораздо больше, чем аномально высоких оценок, при этом низкие оценки получали и такие   известные компании как Уорнер Бразерс, а аномально высокую оценку получила неизвестная компания для широкого круга, но вложившая средний бюджет для всех компаний"
   ]
  },
  {
   "cell_type": "markdown",
   "id": "39c5b2e9",
   "metadata": {},
   "source": [
    "Построим распределение по правилу 3 сигм"
   ]
  },
  {
   "cell_type": "code",
   "execution_count": 112,
   "id": "6c095615",
   "metadata": {},
   "outputs": [
    {
     "name": "stdout",
     "output_type": "stream",
     "text": [
      "9.29693587966327 3.4838860381449246\n"
     ]
    }
   ],
   "source": [
    "upper_level = df['score'].mean() + 3*df['score'].std()\n",
    "lower_level = df['score'].mean() - 3*df['score'].std()\n",
    "print(upper_level,lower_level )"
   ]
  },
  {
   "cell_type": "markdown",
   "id": "e4e007a9",
   "metadata": {},
   "source": [
    "Определим критические точки 3сигм (красная линия минимальное значение, зеленая -максимальное значение)"
   ]
  },
  {
   "cell_type": "code",
   "execution_count": 221,
   "id": "cf835abc",
   "metadata": {},
   "outputs": [
    {
     "data": {
      "text/plain": [
       "Text(0.5, 1.0, '3 sigma')"
      ]
     },
     "execution_count": 221,
     "metadata": {},
     "output_type": "execute_result"
    },
    {
     "data": {
      "image/png": "[encoded data removed]",
      "text/plain": [
       "<Figure size 360x360 with 1 Axes>"
      ]
     },
     "metadata": {
      "needs_background": "light"
     },
     "output_type": "display_data"
    }
   ],
   "source": [
    "sns. displot (df ['score'])\n",
    "plt.axvline(x = anomaly [0], color = 'g', linestyle = '-') # вертикальная зеленая линия параллельная оси X\n",
    "plt.axvline(x = anomaly [1], color = 'r', linestyle = '-') # вертикальная красная линия параллельная оси X\n",
    "plt.title('3 sigma')"
   ]
  },
  {
   "cell_type": "markdown",
   "id": "47e393fb",
   "metadata": {},
   "source": [
    "На графике можно увидеть, что 6.6 оценка встречается в 700 фильмах, это еще раз подтверждает гипотезу что 6.6 -это оценка которую ставят наиболее часто, правило 3 сигм подтверждает что правильно найдены и аномально высокая, и низкая оценки в предыдущих вычислениях."
   ]
  }
 ],
 "metadata": {
  "kernelspec": {
   "display_name": "Python 3 (ipykernel)",
   "language": "python",
   "name": "python3"
  },
  "language_info": {
   "codemirror_mode": {
    "name": "ipython",
    "version": 3
   },
   "file_extension": ".py",
   "mimetype": "text/x-python",
   "name": "python",
   "nbconvert_exporter": "python",
   "pygments_lexer": "ipython3",
   "version": "3.9.12"
  }
 },
 "nbformat": 4,
 "nbformat_minor": 5
}
